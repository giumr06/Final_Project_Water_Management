{
 "cells": [
  {
   "cell_type": "code",
   "execution_count": 43,
   "metadata": {},
   "outputs": [],
   "source": [
    "import pandas as pd\n",
    "import warnings\n",
    "import numpy as np\n",
    "import seaborn as sns\n",
    "import matplotlib.pyplot as plt\n",
    "from sklearn import set_config\n",
    "set_config(transform_output=\"pandas\")\n",
    "from preprocessing_93 import *\n",
    "from sklearn.model_selection import train_test_split\n",
    "from sklearn.preprocessing import LabelEncoder\n",
    "warnings.simplefilter('ignore')\n",
    "RSEED = 5\n",
    "\n",
    "\n",
    "df = pd.read_csv(\"data/AQUASTAT_complete.csv\")\n",
    "\n",
    "\n",
    "pre_split_processor = get_pre_split_processor_93()\n",
    "df_pre = pre_split_processor.fit_transform(df)\n",
    "\n",
    "\n",
    "df_pre = df_pre.query(\"year > 2010\")\n",
    "\n",
    "full_preprocessor = get_full_preprocessor_93(df_pre.columns.to_list(), hot=False)\n",
    "\n",
    "df_pro = full_preprocessor.fit_transform(df_pre)\n",
    "\n"
   ]
  },
  {
   "cell_type": "code",
   "execution_count": 44,
   "metadata": {},
   "outputs": [
    {
     "data": {
      "text/html": [
       "<div>\n",
       "<style scoped>\n",
       "    .dataframe tbody tr th:only-of-type {\n",
       "        vertical-align: middle;\n",
       "    }\n",
       "\n",
       "    .dataframe tbody tr th {\n",
       "        vertical-align: top;\n",
       "    }\n",
       "\n",
       "    .dataframe thead th {\n",
       "        text-align: right;\n",
       "    }\n",
       "</style>\n",
       "<table border=\"1\" class=\"dataframe\">\n",
       "  <thead>\n",
       "    <tr style=\"text-align: right;\">\n",
       "      <th></th>\n",
       "      <th>%_of_agricultural_water_managed_area_equipped_for_irrigation</th>\n",
       "      <th>%_of_total_country_area_cultivated</th>\n",
       "      <th>agricultural_water_withdrawal</th>\n",
       "      <th>agricultural_water_withdrawal_as_%_of_total_renewable_water_resources</th>\n",
       "      <th>agricultural_water_withdrawal_as_%_of_total_water_withdrawal</th>\n",
       "      <th>agriculture_value_added_%_gdp</th>\n",
       "      <th>cultivated_area_arable_land_plus_permanent_crops</th>\n",
       "      <th>dam_capacity_per_capita</th>\n",
       "      <th>dependency_ratio</th>\n",
       "      <th>groundwater_accounted_inflow</th>\n",
       "      <th>...</th>\n",
       "      <th>total_renewable_water_resources_per_capita</th>\n",
       "      <th>total_water_withdrawal</th>\n",
       "      <th>total_water_withdrawal_per_capita</th>\n",
       "      <th>urban_population</th>\n",
       "      <th>water_resources_total_external_renewable</th>\n",
       "      <th>country</th>\n",
       "      <th>year</th>\n",
       "      <th>gdp_per_capita</th>\n",
       "      <th>water_stress</th>\n",
       "      <th>total_population_with_access_to_safe_drinking_water</th>\n",
       "    </tr>\n",
       "  </thead>\n",
       "  <tbody>\n",
       "    <tr>\n",
       "      <th>47</th>\n",
       "      <td>0.431064</td>\n",
       "      <td>-0.126409</td>\n",
       "      <td>1.024654</td>\n",
       "      <td>0.922577</td>\n",
       "      <td>1.31297</td>\n",
       "      <td>1.462224</td>\n",
       "      <td>0.714718</td>\n",
       "      <td>0.186834</td>\n",
       "      <td>0.084165</td>\n",
       "      <td>-0.087237</td>\n",
       "      <td>...</td>\n",
       "      <td>-0.372913</td>\n",
       "      <td>0.907728</td>\n",
       "      <td>0.723942</td>\n",
       "      <td>0.092313</td>\n",
       "      <td>-0.202583</td>\n",
       "      <td>Afghanistan</td>\n",
       "      <td>2011</td>\n",
       "      <td>576.101770</td>\n",
       "      <td>54.757019</td>\n",
       "      <td>49.8</td>\n",
       "    </tr>\n",
       "    <tr>\n",
       "      <th>48</th>\n",
       "      <td>0.431064</td>\n",
       "      <td>-0.126409</td>\n",
       "      <td>1.024654</td>\n",
       "      <td>0.922577</td>\n",
       "      <td>1.31297</td>\n",
       "      <td>1.402036</td>\n",
       "      <td>0.714718</td>\n",
       "      <td>0.183160</td>\n",
       "      <td>0.084165</td>\n",
       "      <td>-0.087237</td>\n",
       "      <td>...</td>\n",
       "      <td>-0.391123</td>\n",
       "      <td>0.907728</td>\n",
       "      <td>0.684609</td>\n",
       "      <td>0.117968</td>\n",
       "      <td>-0.202583</td>\n",
       "      <td>Afghanistan</td>\n",
       "      <td>2012</td>\n",
       "      <td>614.109574</td>\n",
       "      <td>54.757019</td>\n",
       "      <td>51.6</td>\n",
       "    </tr>\n",
       "    <tr>\n",
       "      <th>49</th>\n",
       "      <td>0.431064</td>\n",
       "      <td>-0.126409</td>\n",
       "      <td>1.024654</td>\n",
       "      <td>0.922577</td>\n",
       "      <td>1.31297</td>\n",
       "      <td>1.369254</td>\n",
       "      <td>0.714718</td>\n",
       "      <td>0.179392</td>\n",
       "      <td>0.084165</td>\n",
       "      <td>-0.087237</td>\n",
       "      <td>...</td>\n",
       "      <td>-0.409797</td>\n",
       "      <td>0.907728</td>\n",
       "      <td>0.644734</td>\n",
       "      <td>0.143855</td>\n",
       "      <td>-0.202583</td>\n",
       "      <td>Afghanistan</td>\n",
       "      <td>2013</td>\n",
       "      <td>608.058642</td>\n",
       "      <td>54.757019</td>\n",
       "      <td>53.4</td>\n",
       "    </tr>\n",
       "    <tr>\n",
       "      <th>50</th>\n",
       "      <td>0.431064</td>\n",
       "      <td>-0.126409</td>\n",
       "      <td>1.024654</td>\n",
       "      <td>0.922577</td>\n",
       "      <td>1.31297</td>\n",
       "      <td>1.349713</td>\n",
       "      <td>0.714718</td>\n",
       "      <td>0.175775</td>\n",
       "      <td>0.084165</td>\n",
       "      <td>-0.087237</td>\n",
       "      <td>...</td>\n",
       "      <td>-0.427728</td>\n",
       "      <td>0.907728</td>\n",
       "      <td>0.606879</td>\n",
       "      <td>0.168919</td>\n",
       "      <td>-0.202583</td>\n",
       "      <td>Afghanistan</td>\n",
       "      <td>2014</td>\n",
       "      <td>585.862673</td>\n",
       "      <td>54.757019</td>\n",
       "      <td>55.2</td>\n",
       "    </tr>\n",
       "    <tr>\n",
       "      <th>51</th>\n",
       "      <td>0.431064</td>\n",
       "      <td>-0.126409</td>\n",
       "      <td>1.024654</td>\n",
       "      <td>0.922577</td>\n",
       "      <td>1.31297</td>\n",
       "      <td>1.251554</td>\n",
       "      <td>0.714718</td>\n",
       "      <td>0.172457</td>\n",
       "      <td>0.084165</td>\n",
       "      <td>-0.087237</td>\n",
       "      <td>...</td>\n",
       "      <td>-0.444171</td>\n",
       "      <td>0.907728</td>\n",
       "      <td>0.572536</td>\n",
       "      <td>0.192486</td>\n",
       "      <td>-0.202583</td>\n",
       "      <td>Afghanistan</td>\n",
       "      <td>2015</td>\n",
       "      <td>543.768940</td>\n",
       "      <td>54.757019</td>\n",
       "      <td>55.3</td>\n",
       "    </tr>\n",
       "  </tbody>\n",
       "</table>\n",
       "<p>5 rows × 39 columns</p>\n",
       "</div>"
      ],
      "text/plain": [
       "    %_of_agricultural_water_managed_area_equipped_for_irrigation  \\\n",
       "47                                           0.431064              \n",
       "48                                           0.431064              \n",
       "49                                           0.431064              \n",
       "50                                           0.431064              \n",
       "51                                           0.431064              \n",
       "\n",
       "    %_of_total_country_area_cultivated  agricultural_water_withdrawal  \\\n",
       "47                           -0.126409                       1.024654   \n",
       "48                           -0.126409                       1.024654   \n",
       "49                           -0.126409                       1.024654   \n",
       "50                           -0.126409                       1.024654   \n",
       "51                           -0.126409                       1.024654   \n",
       "\n",
       "    agricultural_water_withdrawal_as_%_of_total_renewable_water_resources  \\\n",
       "47                                           0.922577                       \n",
       "48                                           0.922577                       \n",
       "49                                           0.922577                       \n",
       "50                                           0.922577                       \n",
       "51                                           0.922577                       \n",
       "\n",
       "    agricultural_water_withdrawal_as_%_of_total_water_withdrawal  \\\n",
       "47                                            1.31297              \n",
       "48                                            1.31297              \n",
       "49                                            1.31297              \n",
       "50                                            1.31297              \n",
       "51                                            1.31297              \n",
       "\n",
       "    agriculture_value_added_%_gdp  \\\n",
       "47                       1.462224   \n",
       "48                       1.402036   \n",
       "49                       1.369254   \n",
       "50                       1.349713   \n",
       "51                       1.251554   \n",
       "\n",
       "    cultivated_area_arable_land_plus_permanent_crops  dam_capacity_per_capita  \\\n",
       "47                                          0.714718                 0.186834   \n",
       "48                                          0.714718                 0.183160   \n",
       "49                                          0.714718                 0.179392   \n",
       "50                                          0.714718                 0.175775   \n",
       "51                                          0.714718                 0.172457   \n",
       "\n",
       "    dependency_ratio  groundwater_accounted_inflow  ...  \\\n",
       "47          0.084165                     -0.087237  ...   \n",
       "48          0.084165                     -0.087237  ...   \n",
       "49          0.084165                     -0.087237  ...   \n",
       "50          0.084165                     -0.087237  ...   \n",
       "51          0.084165                     -0.087237  ...   \n",
       "\n",
       "    total_renewable_water_resources_per_capita  total_water_withdrawal  \\\n",
       "47                                   -0.372913                0.907728   \n",
       "48                                   -0.391123                0.907728   \n",
       "49                                   -0.409797                0.907728   \n",
       "50                                   -0.427728                0.907728   \n",
       "51                                   -0.444171                0.907728   \n",
       "\n",
       "    total_water_withdrawal_per_capita  urban_population  \\\n",
       "47                           0.723942          0.092313   \n",
       "48                           0.684609          0.117968   \n",
       "49                           0.644734          0.143855   \n",
       "50                           0.606879          0.168919   \n",
       "51                           0.572536          0.192486   \n",
       "\n",
       "    water_resources_total_external_renewable      country  year  \\\n",
       "47                                 -0.202583  Afghanistan  2011   \n",
       "48                                 -0.202583  Afghanistan  2012   \n",
       "49                                 -0.202583  Afghanistan  2013   \n",
       "50                                 -0.202583  Afghanistan  2014   \n",
       "51                                 -0.202583  Afghanistan  2015   \n",
       "\n",
       "    gdp_per_capita  water_stress  \\\n",
       "47      576.101770     54.757019   \n",
       "48      614.109574     54.757019   \n",
       "49      608.058642     54.757019   \n",
       "50      585.862673     54.757019   \n",
       "51      543.768940     54.757019   \n",
       "\n",
       "    total_population_with_access_to_safe_drinking_water  \n",
       "47                                               49.8    \n",
       "48                                               51.6    \n",
       "49                                               53.4    \n",
       "50                                               55.2    \n",
       "51                                               55.3    \n",
       "\n",
       "[5 rows x 39 columns]"
      ]
     },
     "execution_count": 44,
     "metadata": {},
     "output_type": "execute_result"
    }
   ],
   "source": [
    "df_pro.head()\n",
    "\n"
   ]
  },
  {
   "cell_type": "code",
   "execution_count": 45,
   "metadata": {},
   "outputs": [],
   "source": [
    "label_encoder = LabelEncoder()\n",
    "df_pro['country'] = label_encoder.fit_transform(df_pro['country'])"
   ]
  },
  {
   "cell_type": "code",
   "execution_count": 46,
   "metadata": {},
   "outputs": [
    {
     "data": {
      "text/html": [
       "<div>\n",
       "<style scoped>\n",
       "    .dataframe tbody tr th:only-of-type {\n",
       "        vertical-align: middle;\n",
       "    }\n",
       "\n",
       "    .dataframe tbody tr th {\n",
       "        vertical-align: top;\n",
       "    }\n",
       "\n",
       "    .dataframe thead th {\n",
       "        text-align: right;\n",
       "    }\n",
       "</style>\n",
       "<table border=\"1\" class=\"dataframe\">\n",
       "  <thead>\n",
       "    <tr style=\"text-align: right;\">\n",
       "      <th></th>\n",
       "      <th>id</th>\n",
       "      <th>time</th>\n",
       "      <th>value</th>\n",
       "      <th>variable</th>\n",
       "    </tr>\n",
       "  </thead>\n",
       "  <tbody>\n",
       "    <tr>\n",
       "      <th>59565</th>\n",
       "      <td>160</td>\n",
       "      <td>2016</td>\n",
       "      <td>76.9</td>\n",
       "      <td>total_population_with_access_to_safe_drinking_...</td>\n",
       "    </tr>\n",
       "    <tr>\n",
       "      <th>59566</th>\n",
       "      <td>160</td>\n",
       "      <td>2017</td>\n",
       "      <td>76.9</td>\n",
       "      <td>total_population_with_access_to_safe_drinking_...</td>\n",
       "    </tr>\n",
       "    <tr>\n",
       "      <th>59567</th>\n",
       "      <td>160</td>\n",
       "      <td>2018</td>\n",
       "      <td>76.9</td>\n",
       "      <td>total_population_with_access_to_safe_drinking_...</td>\n",
       "    </tr>\n",
       "    <tr>\n",
       "      <th>59568</th>\n",
       "      <td>160</td>\n",
       "      <td>2019</td>\n",
       "      <td>76.9</td>\n",
       "      <td>total_population_with_access_to_safe_drinking_...</td>\n",
       "    </tr>\n",
       "    <tr>\n",
       "      <th>59569</th>\n",
       "      <td>160</td>\n",
       "      <td>2020</td>\n",
       "      <td>76.9</td>\n",
       "      <td>total_population_with_access_to_safe_drinking_...</td>\n",
       "    </tr>\n",
       "  </tbody>\n",
       "</table>\n",
       "</div>"
      ],
      "text/plain": [
       "        id  time  value                                           variable\n",
       "59565  160  2016   76.9  total_population_with_access_to_safe_drinking_...\n",
       "59566  160  2017   76.9  total_population_with_access_to_safe_drinking_...\n",
       "59567  160  2018   76.9  total_population_with_access_to_safe_drinking_...\n",
       "59568  160  2019   76.9  total_population_with_access_to_safe_drinking_...\n",
       "59569  160  2020   76.9  total_population_with_access_to_safe_drinking_..."
      ]
     },
     "execution_count": 46,
     "metadata": {},
     "output_type": "execute_result"
    }
   ],
   "source": [
    "from tsfresh import extract_features\n",
    "\n",
    "# Extract columns\n",
    "value_columns = df_pro.drop(columns=['country', 'year']).columns\n",
    "\n",
    "# Initialize lists to store data for long format dataframe\n",
    "ids = []\n",
    "times = []\n",
    "values = []\n",
    "names = []\n",
    "\n",
    "# Loop through each value column and append data to lists\n",
    "for col in value_columns:\n",
    "    ids.extend(df_pro['country'].values)\n",
    "    times.extend(df_pro['year'].values)\n",
    "    values.extend(df_pro[col].values)\n",
    "    names.extend([col] * len(df_pro))\n",
    "\n",
    "# Create long format dataframe\n",
    "long_data = pd.DataFrame({\n",
    "    'id': ids,\n",
    "    'time': times,\n",
    "    'value': values,\n",
    "    'variable': names\n",
    "})\n",
    "\n",
    "long_data.tail()\n"
   ]
  },
  {
   "cell_type": "code",
   "execution_count": 47,
   "metadata": {},
   "outputs": [],
   "source": [
    "long_data = long_data[pd.to_numeric(long_data['value'], errors='coerce').notnull()]"
   ]
  },
  {
   "cell_type": "code",
   "execution_count": 48,
   "metadata": {},
   "outputs": [
    {
     "name": "stdout",
     "output_type": "stream",
     "text": [
      "[<class 'float'>]\n"
     ]
    }
   ],
   "source": [
    "print(long_data['value'].apply(type).unique())"
   ]
  },
  {
   "cell_type": "code",
   "execution_count": 49,
   "metadata": {},
   "outputs": [
    {
     "name": "stderr",
     "output_type": "stream",
     "text": [
      "Feature Extraction:  50%|█████     | 5/10 [00:00<00:00, 48.20it/s]"
     ]
    },
    {
     "name": "stderr",
     "output_type": "stream",
     "text": [
      "Feature Extraction: 100%|██████████| 10/10 [00:00<00:00, 46.11it/s]"
     ]
    },
    {
     "name": "stdout",
     "output_type": "stream",
     "text": [
      "Index(['value__mean', 'value__mean_change'], dtype='object')\n",
      "   value__mean  value__mean_change\n",
      "0    17.856274            0.148696\n",
      "1   126.864642            0.256555\n",
      "2   129.565239            0.225390\n",
      "3   109.827327            0.140662\n",
      "4   347.041223            0.267395\n"
     ]
    },
    {
     "name": "stderr",
     "output_type": "stream",
     "text": [
      "\n"
     ]
    }
   ],
   "source": [
    "# Extract features\n",
    "custom_fc_parameters = {\n",
    "    \"mean\": None,\n",
    "    \"mean_change\": None,\n",
    "    \n",
    "    # Add more features as needed\n",
    "}\n",
    "\n",
    "\n",
    "\n",
    "\n",
    "features = extract_features(long_data, default_fc_parameters=custom_fc_parameters, column_id='id', column_sort='time', column_value='value')\n",
    "print(features.columns)\n",
    "print(features.head())\n"
   ]
  },
  {
   "cell_type": "code",
   "execution_count": 50,
   "metadata": {},
   "outputs": [],
   "source": [
    "from sklearn.preprocessing import StandardScaler\n",
    "\n",
    "# Replace NaN values with 0 or use imputation techniques\n",
    "features.fillna(0, inplace=True)\n",
    "\n",
    "# Scale the imputed features\n",
    "scaler = StandardScaler()\n",
    "scaled_features = scaler.fit_transform(features)\n"
   ]
  },
  {
   "cell_type": "code",
   "execution_count": 51,
   "metadata": {},
   "outputs": [
    {
     "name": "stdout",
     "output_type": "stream",
     "text": [
      "   value__mean  value__mean_change\n",
      "0    17.856274            0.148696\n",
      "1   126.864642            0.256555\n",
      "2   129.565239            0.225390\n",
      "3   109.827327            0.140662\n",
      "4   347.041223            0.267395\n"
     ]
    }
   ],
   "source": [
    "print(features.head())\n"
   ]
  },
  {
   "cell_type": "code",
   "execution_count": 52,
   "metadata": {},
   "outputs": [],
   "source": [
    "# from sklearn.decomposition import PCA\n",
    "\n",
    "\n",
    "# # Apply PCA to reduce dimensionality\n",
    "# pca = PCA(n_components=0.95)  # Retain 95% of the variance\n",
    "# reduced_features = pca.fit_transform(features)\n",
    "# num_pcs = pca.n_components_\n",
    "# print(f\"Number of principal components: {num_pcs}\")\n",
    "# print(pca.explained_variance_ratio_)"
   ]
  },
  {
   "cell_type": "code",
   "execution_count": 53,
   "metadata": {},
   "outputs": [],
   "source": [
    "# pca_2d = PCA(n_components=2)\n",
    "# reduced_2d = pca_2d.fit_transform(scaled_features)"
   ]
  },
  {
   "cell_type": "code",
   "execution_count": 62,
   "metadata": {},
   "outputs": [
    {
     "name": "stdout",
     "output_type": "stream",
     "text": [
      "[-1  0  1  2  3  4  5  6  7  8  9 10]\n"
     ]
    }
   ],
   "source": [
    "import hdbscan\n",
    "import numpy as np\n",
    "from sklearn.metrics import silhouette_score, calinski_harabasz_score\n",
    "\n",
    "# Initialize HDBSCAN\n",
    "clusterer = hdbscan.HDBSCAN(min_samples=5, gen_min_span_tree=True)\n",
    "\n",
    "# Fit the model\n",
    "#clusters_hdbscan = clusterer.fit_predict(reduced_features)\n",
    "clusters_hdbscan = clusterer.fit_predict(features)\n",
    "\n",
    "print(np.unique(clusters_hdbscan))\n",
    "\n",
    "\n",
    "\n"
   ]
  },
  {
   "cell_type": "code",
   "execution_count": 68,
   "metadata": {},
   "outputs": [
    {
     "name": "stdout",
     "output_type": "stream",
     "text": [
      "Clusters with minimum cluster size: [-1  0  1  2  3  4  5  6  7  8  9 10]\n"
     ]
    }
   ],
   "source": [
    "# Minimum Cluster Size\n",
    "\n",
    "min_cluster_size = 5\n",
    "clusterer = hdbscan.HDBSCAN(min_samples=5, gen_min_span_tree=True, min_cluster_size=min_cluster_size)\n",
    "clusters_hdbscan = clusterer.fit_predict(features)\n",
    "print(\"Clusters with minimum cluster size:\", np.unique(clusters_hdbscan))\n",
    "\n"
   ]
  },
  {
   "cell_type": "code",
   "execution_count": 66,
   "metadata": {},
   "outputs": [
    {
     "name": "stdout",
     "output_type": "stream",
     "text": [
      "min_cluster_size:  5 0.2988976048402064\n",
      "min_cluster_size:  6 0.29364470853574365\n",
      "min_cluster_size:  7 0.19855651515088263\n",
      "min_cluster_size:  8 0.19855651515088263\n",
      "min_cluster_size:  9 0.19855651515088263\n"
     ]
    },
    {
     "name": "stdout",
     "output_type": "stream",
     "text": [
      "min_cluster_size:  10 0.2059453367079711\n",
      "min_cluster_size:  11 0.16176773722007431\n",
      "min_cluster_size:  12 0.7398512707473366\n",
      "min_cluster_size:  13 0.7398512707473366\n",
      "min_cluster_size:  14 0.7398512707473366\n",
      "min_cluster_size:  15 0.7398512707473366\n",
      "min_cluster_size:  16 0.7398512707473366\n",
      "min_cluster_size:  17 0.30595902125047725\n",
      "min_cluster_size:  18 0.16349519648255598\n",
      "min_cluster_size:  19 0.16349519648255598\n",
      "Best silhouette score: 0.7398512707473366\n",
      "Clusters with best silhouette score: [-1  0  1]\n"
     ]
    }
   ],
   "source": [
    "# Silhouette Score\n",
    "best_score = -1\n",
    "best_clusterer = None\n",
    "for min_cluster_size in range(5, 20):  # Adjust the range as needed\n",
    "    clusterer = hdbscan.HDBSCAN(min_samples=5, gen_min_span_tree=True, min_cluster_size=min_cluster_size)\n",
    "    clusters = clusterer.fit_predict(features)\n",
    "    silhouette_avg = silhouette_score(features, clusters)\n",
    "    if silhouette_avg > best_score:\n",
    "        best_score = silhouette_avg\n",
    "        best_clusterer = clusterer\n",
    "    print(\"min_cluster_size: \",min_cluster_size , silhouette_avg)\n",
    "print(\"Best silhouette score:\", best_score)\n",
    "print(\"Clusters with best silhouette score:\", np.unique(best_clusterer.labels_))\n",
    "\n"
   ]
  },
  {
   "cell_type": "code",
   "execution_count": 70,
   "metadata": {},
   "outputs": [
    {
     "name": "stdout",
     "output_type": "stream",
     "text": [
      "min_cluster_size:  5 14.513625113627214\n",
      "min_cluster_size:  6 18.793655354141897\n",
      "min_cluster_size:  7 20.350452926198177\n",
      "min_cluster_size:  8 20.350452926198177\n",
      "min_cluster_size:  9 20.350452926198177\n",
      "min_cluster_size:  10 24.304499526460933\n",
      "min_cluster_size:  11 28.165479552740265\n",
      "min_cluster_size:  12 374.35813301461974\n",
      "min_cluster_size:  13 374.35813301461974\n",
      "min_cluster_size:  14 374.35813301461974\n",
      "min_cluster_size:  15 374.35813301461974\n",
      "min_cluster_size:  16 374.35813301461974\n",
      "min_cluster_size:  17 48.576606145737756\n",
      "min_cluster_size:  18 36.08178586144096\n",
      "min_cluster_size:  19 36.08178586144096\n",
      "Best Calinski-Harabasz score: 374.35813301461974\n",
      "Clusters with best Calinski-Harabasz score: [-1  0  1]\n"
     ]
    }
   ],
   "source": [
    "# Calinski-Harabasz Index\n",
    "best_score = -1\n",
    "best_clusterer = None\n",
    "for min_cluster_size in range(5, 20):  # Adjust the range as needed\n",
    "    clusterer = hdbscan.HDBSCAN(min_samples=5, gen_min_span_tree=True, min_cluster_size=min_cluster_size)\n",
    "    clusters = clusterer.fit_predict(features)\n",
    "    ch_score = calinski_harabasz_score(features, clusters)\n",
    "    if ch_score > best_score:\n",
    "        best_score = ch_score\n",
    "        best_clusterer = clusterer\n",
    "    print(\"min_cluster_size: \",min_cluster_size , ch_score)\n",
    "print(\"Best Calinski-Harabasz score:\", best_score)\n",
    "print(\"Clusters with best Calinski-Harabasz score:\", np.unique(best_clusterer.labels_))"
   ]
  },
  {
   "cell_type": "code",
   "execution_count": null,
   "metadata": {},
   "outputs": [],
   "source": []
  },
  {
   "cell_type": "code",
   "execution_count": 56,
   "metadata": {},
   "outputs": [
    {
     "data": {
      "image/png": "[encoded data removed]",
      "text/plain": [
       "<Figure size 640x480 with 2 Axes>"
      ]
     },
     "metadata": {},
     "output_type": "display_data"
    }
   ],
   "source": [
    "from sklearn.manifold import TSNE\n",
    "import matplotlib.pyplot as plt\n",
    "\n",
    "# Apply t-SNE and reduce to 2 dimensions\n",
    "tsne_vis = TSNE(n_components=2, random_state=5, perplexity=5, learning_rate=20)  # setting random_state for reproducibility\n",
    "reduced_vis_tsne = tsne_vis.fit_transform(features)\n",
    "\n",
    "# Plot\n",
    "plt.scatter(reduced_vis_tsne[:, 0], reduced_vis_tsne[:, 1], c=clusters_hdbscan, cmap='viridis')\n",
    "\n",
    "plt.xlabel('t-SNE 1')\n",
    "plt.ylabel('t-SNE 2')\n",
    "plt.title('Clusters using t-SNE')\n",
    "plt.colorbar()\n",
    "plt.show()\n",
    "\n",
    "\n",
    "\n",
    "\n"
   ]
  },
  {
   "cell_type": "code",
   "execution_count": 71,
   "metadata": {},
   "outputs": [
    {
     "ename": "ValueError",
     "evalue": "You are trying to merge on object and int64 columns. If you wish to proceed you should use pd.concat",
     "output_type": "error",
     "traceback": [
      "\u001b[0;31m---------------------------------------------------------------------------\u001b[0m",
      "\u001b[0;31mValueError\u001b[0m                                Traceback (most recent call last)",
      "\u001b[1;32m/home/uta/Final_Project_Water_Management/Time series clustering with tweaks.ipynb Cell 19\u001b[0m line \u001b[0;36m7\n\u001b[1;32m      <a href='vscode-notebook-cell:/home/uta/Final_Project_Water_Management/Time%20series%20clustering%20with%20tweaks.ipynb#X20sZmlsZQ%3D%3D?line=0'>1</a>\u001b[0m \u001b[39m# add the cluster labels from HDBSCAN\u001b[39;00m\n\u001b[1;32m      <a href='vscode-notebook-cell:/home/uta/Final_Project_Water_Management/Time%20series%20clustering%20with%20tweaks.ipynb#X20sZmlsZQ%3D%3D?line=1'>2</a>\u001b[0m cluster_df \u001b[39m=\u001b[39m pd\u001b[39m.\u001b[39mDataFrame({\n\u001b[1;32m      <a href='vscode-notebook-cell:/home/uta/Final_Project_Water_Management/Time%20series%20clustering%20with%20tweaks.ipynb#X20sZmlsZQ%3D%3D?line=2'>3</a>\u001b[0m     \u001b[39m'\u001b[39m\u001b[39mcountry\u001b[39m\u001b[39m'\u001b[39m: features\u001b[39m.\u001b[39mindex,  \u001b[39m# Assuming that the index of 'features' is the country ID.\u001b[39;00m\n\u001b[1;32m      <a href='vscode-notebook-cell:/home/uta/Final_Project_Water_Management/Time%20series%20clustering%20with%20tweaks.ipynb#X20sZmlsZQ%3D%3D?line=3'>4</a>\u001b[0m     \u001b[39m'\u001b[39m\u001b[39mcluster\u001b[39m\u001b[39m'\u001b[39m: clusters_hdbscan\n\u001b[1;32m      <a href='vscode-notebook-cell:/home/uta/Final_Project_Water_Management/Time%20series%20clustering%20with%20tweaks.ipynb#X20sZmlsZQ%3D%3D?line=4'>5</a>\u001b[0m })\n\u001b[0;32m----> <a href='vscode-notebook-cell:/home/uta/Final_Project_Water_Management/Time%20series%20clustering%20with%20tweaks.ipynb#X20sZmlsZQ%3D%3D?line=6'>7</a>\u001b[0m df_pro \u001b[39m=\u001b[39m pd\u001b[39m.\u001b[39;49mmerge(df_pro, cluster_df, on\u001b[39m=\u001b[39;49m\u001b[39m'\u001b[39;49m\u001b[39mcountry\u001b[39;49m\u001b[39m'\u001b[39;49m, how\u001b[39m=\u001b[39;49m\u001b[39m'\u001b[39;49m\u001b[39mleft\u001b[39;49m\u001b[39m'\u001b[39;49m)\n\u001b[1;32m      <a href='vscode-notebook-cell:/home/uta/Final_Project_Water_Management/Time%20series%20clustering%20with%20tweaks.ipynb#X20sZmlsZQ%3D%3D?line=8'>9</a>\u001b[0m df_pro[\u001b[39m'\u001b[39m\u001b[39mcountry\u001b[39m\u001b[39m'\u001b[39m] \u001b[39m=\u001b[39m label_encoder\u001b[39m.\u001b[39minverse_transform(df_pro[\u001b[39m'\u001b[39m\u001b[39mcountry\u001b[39m\u001b[39m'\u001b[39m])\n\u001b[1;32m     <a href='vscode-notebook-cell:/home/uta/Final_Project_Water_Management/Time%20series%20clustering%20with%20tweaks.ipynb#X20sZmlsZQ%3D%3D?line=10'>11</a>\u001b[0m \u001b[39m# filter by cluster\u001b[39;00m\n",
      "File \u001b[0;32m~/Final_Project_Water_Management/.venv/lib/python3.11/site-packages/pandas/core/reshape/merge.py:110\u001b[0m, in \u001b[0;36mmerge\u001b[0;34m(left, right, how, on, left_on, right_on, left_index, right_index, sort, suffixes, copy, indicator, validate)\u001b[0m\n\u001b[1;32m     93\u001b[0m \u001b[39m@Substitution\u001b[39m(\u001b[39m\"\u001b[39m\u001b[39m\\n\u001b[39;00m\u001b[39mleft : DataFrame or named Series\u001b[39m\u001b[39m\"\u001b[39m)\n\u001b[1;32m     94\u001b[0m \u001b[39m@Appender\u001b[39m(_merge_doc, indents\u001b[39m=\u001b[39m\u001b[39m0\u001b[39m)\n\u001b[1;32m     95\u001b[0m \u001b[39mdef\u001b[39;00m \u001b[39mmerge\u001b[39m(\n\u001b[0;32m   (...)\u001b[0m\n\u001b[1;32m    108\u001b[0m     validate: \u001b[39mstr\u001b[39m \u001b[39m|\u001b[39m \u001b[39mNone\u001b[39;00m \u001b[39m=\u001b[39m \u001b[39mNone\u001b[39;00m,\n\u001b[1;32m    109\u001b[0m ) \u001b[39m-\u001b[39m\u001b[39m>\u001b[39m DataFrame:\n\u001b[0;32m--> 110\u001b[0m     op \u001b[39m=\u001b[39m _MergeOperation(\n\u001b[1;32m    111\u001b[0m         left,\n\u001b[1;32m    112\u001b[0m         right,\n\u001b[1;32m    113\u001b[0m         how\u001b[39m=\u001b[39;49mhow,\n\u001b[1;32m    114\u001b[0m         on\u001b[39m=\u001b[39;49mon,\n\u001b[1;32m    115\u001b[0m         left_on\u001b[39m=\u001b[39;49mleft_on,\n\u001b[1;32m    116\u001b[0m         right_on\u001b[39m=\u001b[39;49mright_on,\n\u001b[1;32m    117\u001b[0m         left_index\u001b[39m=\u001b[39;49mleft_index,\n\u001b[1;32m    118\u001b[0m         right_index\u001b[39m=\u001b[39;49mright_index,\n\u001b[1;32m    119\u001b[0m         sort\u001b[39m=\u001b[39;49msort,\n\u001b[1;32m    120\u001b[0m         suffixes\u001b[39m=\u001b[39;49msuffixes,\n\u001b[1;32m    121\u001b[0m         indicator\u001b[39m=\u001b[39;49mindicator,\n\u001b[1;32m    122\u001b[0m         validate\u001b[39m=\u001b[39;49mvalidate,\n\u001b[1;32m    123\u001b[0m     )\n\u001b[1;32m    124\u001b[0m     \u001b[39mreturn\u001b[39;00m op\u001b[39m.\u001b[39mget_result(copy\u001b[39m=\u001b[39mcopy)\n",
      "File \u001b[0;32m~/Final_Project_Water_Management/.venv/lib/python3.11/site-packages/pandas/core/reshape/merge.py:707\u001b[0m, in \u001b[0;36m_MergeOperation.__init__\u001b[0;34m(self, left, right, how, on, left_on, right_on, axis, left_index, right_index, sort, suffixes, indicator, validate)\u001b[0m\n\u001b[1;32m    699\u001b[0m (\n\u001b[1;32m    700\u001b[0m     \u001b[39mself\u001b[39m\u001b[39m.\u001b[39mleft_join_keys,\n\u001b[1;32m    701\u001b[0m     \u001b[39mself\u001b[39m\u001b[39m.\u001b[39mright_join_keys,\n\u001b[1;32m    702\u001b[0m     \u001b[39mself\u001b[39m\u001b[39m.\u001b[39mjoin_names,\n\u001b[1;32m    703\u001b[0m ) \u001b[39m=\u001b[39m \u001b[39mself\u001b[39m\u001b[39m.\u001b[39m_get_merge_keys()\n\u001b[1;32m    705\u001b[0m \u001b[39m# validate the merge keys dtypes. We may need to coerce\u001b[39;00m\n\u001b[1;32m    706\u001b[0m \u001b[39m# to avoid incompatible dtypes\u001b[39;00m\n\u001b[0;32m--> 707\u001b[0m \u001b[39mself\u001b[39;49m\u001b[39m.\u001b[39;49m_maybe_coerce_merge_keys()\n\u001b[1;32m    709\u001b[0m \u001b[39m# If argument passed to validate,\u001b[39;00m\n\u001b[1;32m    710\u001b[0m \u001b[39m# check if columns specified as unique\u001b[39;00m\n\u001b[1;32m    711\u001b[0m \u001b[39m# are in fact unique.\u001b[39;00m\n\u001b[1;32m    712\u001b[0m \u001b[39mif\u001b[39;00m validate \u001b[39mis\u001b[39;00m \u001b[39mnot\u001b[39;00m \u001b[39mNone\u001b[39;00m:\n",
      "File \u001b[0;32m~/Final_Project_Water_Management/.venv/lib/python3.11/site-packages/pandas/core/reshape/merge.py:1340\u001b[0m, in \u001b[0;36m_MergeOperation._maybe_coerce_merge_keys\u001b[0;34m(self)\u001b[0m\n\u001b[1;32m   1334\u001b[0m     \u001b[39m# unless we are merging non-string-like with string-like\u001b[39;00m\n\u001b[1;32m   1335\u001b[0m     \u001b[39melif\u001b[39;00m (\n\u001b[1;32m   1336\u001b[0m         inferred_left \u001b[39min\u001b[39;00m string_types \u001b[39mand\u001b[39;00m inferred_right \u001b[39mnot\u001b[39;00m \u001b[39min\u001b[39;00m string_types\n\u001b[1;32m   1337\u001b[0m     ) \u001b[39mor\u001b[39;00m (\n\u001b[1;32m   1338\u001b[0m         inferred_right \u001b[39min\u001b[39;00m string_types \u001b[39mand\u001b[39;00m inferred_left \u001b[39mnot\u001b[39;00m \u001b[39min\u001b[39;00m string_types\n\u001b[1;32m   1339\u001b[0m     ):\n\u001b[0;32m-> 1340\u001b[0m         \u001b[39mraise\u001b[39;00m \u001b[39mValueError\u001b[39;00m(msg)\n\u001b[1;32m   1342\u001b[0m \u001b[39m# datetimelikes must match exactly\u001b[39;00m\n\u001b[1;32m   1343\u001b[0m \u001b[39melif\u001b[39;00m needs_i8_conversion(lk\u001b[39m.\u001b[39mdtype) \u001b[39mand\u001b[39;00m \u001b[39mnot\u001b[39;00m needs_i8_conversion(rk\u001b[39m.\u001b[39mdtype):\n",
      "\u001b[0;31mValueError\u001b[0m: You are trying to merge on object and int64 columns. If you wish to proceed you should use pd.concat"
     ]
    }
   ],
   "source": [
    "# add the cluster labels from HDBSCAN\n",
    "cluster_df = pd.DataFrame({\n",
    "    'country': features.index,  # Assuming that the index of 'features' is the country ID.\n",
    "    'cluster': clusters_hdbscan\n",
    "})\n",
    "\n",
    "df_pro = pd.merge(df_pro, cluster_df, on='country', how='left')\n",
    "\n",
    "df_pro['country'] = label_encoder.inverse_transform(df_pro['country'])\n",
    "\n",
    "# filter by cluster\n",
    "for cluster_label in np.unique(clusters_hdbscan):\n",
    "    print(f\"Cluster {cluster_label}:\")\n",
    "    countries_in_cluster = df_pro[df_pro['cluster'] == cluster_label]['country'].unique()\n",
    "    print(countries_in_cluster)\n",
    "    print(\"\\n\")\n",
    "\n",
    "for cluster_label in np.unique(clusters_hdbscan):\n",
    "    print(f\"Summary for Cluster {cluster_label}:\")\n",
    "    print(df_pro[df_pro['cluster'] == cluster_label].describe())\n",
    "    print(\"\\n\")\n",
    "\n",
    "for cluster_label in np.unique(clusters_hdbscan):\n",
    "    print(f\"Summary for Cluster {cluster_label}:\")\n",
    "    print(df_pro[df_pro['cluster'] == cluster_label].describe())\n",
    "    print(\"\\n\")"
   ]
  },
  {
   "cell_type": "code",
   "execution_count": 58,
   "metadata": {},
   "outputs": [
    {
     "name": "stdout",
     "output_type": "stream",
     "text": [
      "[-1]\n"
     ]
    }
   ],
   "source": [
    "from sklearn.cluster import DBSCAN\n",
    "\n",
    "# Initialize DBSCAN\n",
    "dbscan = DBSCAN(eps=0.5, min_samples=5)\n",
    "\n",
    "# Fit the model\n",
    "#clusters_dbscan = dbscan.fit_predict(reduced_features)\n",
    "clusters_dbscan = dbscan.fit_predict(features)\n",
    "\n",
    "print(np.unique(clusters_dbscan))\n",
    "\n"
   ]
  },
  {
   "cell_type": "code",
   "execution_count": 59,
   "metadata": {},
   "outputs": [
    {
     "ename": "NameError",
     "evalue": "name 'reduced_vis' is not defined",
     "output_type": "error",
     "traceback": [
      "\u001b[0;31m---------------------------------------------------------------------------\u001b[0m",
      "\u001b[0;31mNameError\u001b[0m                                 Traceback (most recent call last)",
      "\u001b[1;32m/home/uta/Final_Project_Water_Management/Time series clustering with tweaks.ipynb Cell 17\u001b[0m line \u001b[0;36m2\n\u001b[1;32m      <a href='vscode-notebook-cell:/home/uta/Final_Project_Water_Management/Time%20series%20clustering%20with%20tweaks.ipynb#X22sZmlsZQ%3D%3D?line=0'>1</a>\u001b[0m \u001b[39m# Plot using DBSCAN clusters\u001b[39;00m\n\u001b[0;32m----> <a href='vscode-notebook-cell:/home/uta/Final_Project_Water_Management/Time%20series%20clustering%20with%20tweaks.ipynb#X22sZmlsZQ%3D%3D?line=1'>2</a>\u001b[0m plt\u001b[39m.\u001b[39mscatter(reduced_vis\u001b[39m.\u001b[39miloc[:, \u001b[39m0\u001b[39m], reduced_vis\u001b[39m.\u001b[39miloc[:, \u001b[39m1\u001b[39m], c\u001b[39m=\u001b[39mclusters_dbscan, cmap\u001b[39m=\u001b[39m\u001b[39m'\u001b[39m\u001b[39mviridis\u001b[39m\u001b[39m'\u001b[39m)\n\u001b[1;32m      <a href='vscode-notebook-cell:/home/uta/Final_Project_Water_Management/Time%20series%20clustering%20with%20tweaks.ipynb#X22sZmlsZQ%3D%3D?line=3'>4</a>\u001b[0m plt\u001b[39m.\u001b[39mxlabel(\u001b[39m'\u001b[39m\u001b[39mPC1\u001b[39m\u001b[39m'\u001b[39m)\n\u001b[1;32m      <a href='vscode-notebook-cell:/home/uta/Final_Project_Water_Management/Time%20series%20clustering%20with%20tweaks.ipynb#X22sZmlsZQ%3D%3D?line=4'>5</a>\u001b[0m plt\u001b[39m.\u001b[39mylabel(\u001b[39m'\u001b[39m\u001b[39mPC2\u001b[39m\u001b[39m'\u001b[39m)\n",
      "\u001b[0;31mNameError\u001b[0m: name 'reduced_vis' is not defined"
     ]
    }
   ],
   "source": [
    "# Plot using DBSCAN clusters\n",
    "plt.scatter(reduced_vis.iloc[:, 0], reduced_vis.iloc[:, 1], c=clusters_dbscan, cmap='viridis')\n",
    "\n",
    "plt.xlabel('PC1')\n",
    "plt.ylabel('PC2')\n",
    "plt.title('DBSCAN Clusters using PCA')\n",
    "plt.colorbar()\n",
    "plt.show()"
   ]
  },
  {
   "cell_type": "code",
   "execution_count": null,
   "metadata": {},
   "outputs": [
    {
     "data": {
      "image/png": "[encoded data removed]",
      "text/plain": [
       "<Figure size 640x480 with 2 Axes>"
      ]
     },
     "metadata": {},
     "output_type": "display_data"
    }
   ],
   "source": [
    "from sklearn.manifold import TSNE\n",
    "import matplotlib.pyplot as plt\n",
    "\n",
    "# Apply t-SNE and reduce to 2 dimensions\n",
    "tsne_vis = TSNE(n_components=2, random_state=5, perplexity=30, learning_rate=20)  # setting random_state for reproducibility\n",
    "reduced_vis_tsne = tsne_vis.fit_transform(features)\n",
    "\n",
    "# Plot\n",
    "plt.scatter(reduced_vis_tsne[:, 0], reduced_vis_tsne[:, 1], c=clusters_dbscan, cmap='viridis')\n",
    "\n",
    "plt.xlabel('t-SNE 1')\n",
    "plt.ylabel('t-SNE 2')\n",
    "plt.title('Clusters using t-SNE')\n",
    "plt.colorbar()\n",
    "plt.show()"
   ]
  }
 ],
 "metadata": {
  "kernelspec": {
   "display_name": ".venv",
   "language": "python",
   "name": "python3"
  },
  "language_info": {
   "codemirror_mode": {
    "name": "ipython",
    "version": 3
   },
   "file_extension": ".py",
   "mimetype": "text/x-python",
   "name": "python",
   "nbconvert_exporter": "python",
   "pygments_lexer": "ipython3",
   "version": "3.11.0rc1"
  }
 },
 "nbformat": 4,
 "nbformat_minor": 2
}
