{
 "cells": [
  {
   "cell_type": "markdown",
   "metadata": {},
   "source": [
    "### Import libraries:"
   ]
  },
  {
   "cell_type": "code",
   "execution_count": null,
   "metadata": {},
   "outputs": [],
   "source": [
    "#1# Mandatory libraries: \n",
    "import pandas as pd\n",
    "import numpy as np\n",
    "from preprocessing import *\n",
    "\n",
    "#2# Random Forest model:\n",
    "from sklearn.model_selection import train_test_split\n",
    "from sklearn.ensemble import RandomForestRegressor\n",
    "from sklearn.metrics import accuracy_score,mean_absolute_error, mean_squared_error\n",
    "\n",
    "RSEED = 5"
   ]
  },
  {
   "cell_type": "markdown",
   "metadata": {},
   "source": [
    "### Import and adapt data:"
   ]
  },
  {
   "cell_type": "code",
   "execution_count": null,
   "metadata": {},
   "outputs": [],
   "source": [
    "df = pd.read_csv(\"data/AQUASTAT_complete.csv\", index_col=0)\n",
    "\n",
    "\n",
    "pre_split_processor = get_pre_split_processor()\n",
    "df_pre = pre_split_processor.transform(df)"
   ]
  },
  {
   "cell_type": "markdown",
   "metadata": {},
   "source": [
    "### Split the data:"
   ]
  },
  {
   "cell_type": "code",
   "execution_count": null,
   "metadata": {},
   "outputs": [],
   "source": [
    "#To avoid having a certain amount of NaN values in the model, we decided to restrict the number of years:\n",
    "df_pre = df_pre.query(\"year > 2010\")"
   ]
  },
  {
   "cell_type": "code",
   "execution_count": null,
   "metadata": {},
   "outputs": [],
   "source": [
    "targets = ['gdp_per_capita', 'water_stress', 'total_population_with_access_to_safe_drinking_water']\n",
    "\n",
    "Y = df_pre[targets]\n",
    "X = df_pre.drop(columns=targets)\n",
    "\n",
    "X_train, X_pretest, Y_train, Y_pretest = train_test_split(X, Y, test_size=0.30, random_state=RSEED, stratify=X.country)\n",
    "X_test, X_valid, Y_test, Y_valid = train_test_split(X_pretest, Y_pretest, test_size=0.50, random_state=RSEED, stratify=X_pretest.country)"
   ]
  },
  {
   "cell_type": "markdown",
   "metadata": {},
   "source": [
    "#### Check for possible transformations in the train and validation sets: "
   ]
  },
  {
   "cell_type": "code",
   "execution_count": null,
   "metadata": {},
   "outputs": [],
   "source": [
    "#Applying full preprocessor to remove NaN and Strings: \n",
    "\n",
    "full_preprocessor = get_full_preprocessor(X_train.columns.to_list(), hot=True)\n",
    "\n",
    "X_train_pre = full_preprocessor.fit_transform(X_train)\n",
    "X_valid_pre = full_preprocessor.transform(X_valid)"
   ]
  },
  {
   "cell_type": "code",
   "execution_count": null,
   "metadata": {},
   "outputs": [],
   "source": [
    "# Looking for possible NaN values: \n",
    "print(f\"y_train NaN:\\n{Y_train.isna().sum()}\",\"\\n\",\"\\n\",f\"y_valid NaN:\\n{Y_valid.isna().sum()}\")"
   ]
  },
  {
   "cell_type": "code",
   "execution_count": null,
   "metadata": {},
   "outputs": [],
   "source": [
    "#Removing remaining NaNs:\n",
    "Y_train.fillna(0, inplace=True)\n",
    "\n",
    "print(f\"y_train NaN:\\n{Y_train.isna().sum()}\",\"\\n\",\"\\n\",f\"y_valid NaN:\\n{Y_valid.isna().sum()}\")"
   ]
  },
  {
   "cell_type": "markdown",
   "metadata": {},
   "source": [
    "## Applying the model:"
   ]
  },
  {
   "cell_type": "code",
   "execution_count": null,
   "metadata": {},
   "outputs": [],
   "source": [
    "rf_model = RandomForestRegressor(n_estimators=100, random_state=RSEED)\n",
    "rf_model.fit(X_train_pre, Y_train)"
   ]
  },
  {
   "cell_type": "markdown",
   "metadata": {},
   "source": [
    "#### The prediction for all targets:"
   ]
  },
  {
   "cell_type": "code",
   "execution_count": null,
   "metadata": {},
   "outputs": [],
   "source": [
    "y_pred = rf_model.predict(X_valid_pre)\n",
    "y_pred"
   ]
  },
  {
   "cell_type": "code",
   "execution_count": null,
   "metadata": {},
   "outputs": [],
   "source": [
    "y_pred = rf_model.predict(X_valid_pre)\n",
    "mae = mean_absolute_error(Y_valid, y_pred, multioutput=\"raw_values\")\n",
    "mse = mean_squared_error(Y_valid, y_pred, multioutput=\"raw_values\")\n",
    "\n",
    "print(f\"Mean Absolute Error:{mae}\",\"\\n\",\"\\n\", f\"Mean Squared Error:{mse}\")"
   ]
  },
  {
   "cell_type": "markdown",
   "metadata": {},
   "source": [
    "#### The prediction in separate targets:"
   ]
  },
  {
   "cell_type": "markdown",
   "metadata": {},
   "source": [
    "- Water Stress target:"
   ]
  },
  {
   "cell_type": "code",
   "execution_count": null,
   "metadata": {},
   "outputs": [],
   "source": [
    "Y_train_water = Y_train[\"water_stress\"]\n",
    "Y_valid_water = Y_valid[\"water_stress\"]\n",
    "\n",
    "rf_model.fit(X_train_pre, Y_train_water)\n",
    "y_pred_water = rf_model.predict(X_valid_pre)"
   ]
  },
  {
   "cell_type": "code",
   "execution_count": null,
   "metadata": {},
   "outputs": [],
   "source": [
    "mae_water = mean_absolute_error(Y_valid_water, y_pred_water)\n",
    "mse_water = mean_squared_error(Y_valid_water, y_pred_water)\n",
    "\n",
    "print(f\"Mean Absolute Error:{mae_water}\",\"\\n\",\"\\n\", f\"Mean Squared Error:{mse_water}\")"
   ]
  },
  {
   "cell_type": "markdown",
   "metadata": {},
   "source": [
    "- GDP per capita target:"
   ]
  },
  {
   "cell_type": "code",
   "execution_count": null,
   "metadata": {},
   "outputs": [],
   "source": [
    "Y_train_gdp = Y_train[\"gdp_per_capita\"]\n",
    "Y_valid_gdp = Y_valid[\"gdp_per_capita\"]\n",
    "\n",
    "rf_model.fit(X_train_pre, Y_train_gdp)\n",
    "y_pred_gdp = rf_model.predict(X_valid_pre)"
   ]
  },
  {
   "cell_type": "code",
   "execution_count": null,
   "metadata": {},
   "outputs": [],
   "source": [
    "mae_gdp = mean_absolute_error(Y_valid_gdp, y_pred_gdp)\n",
    "mse_gdp = mean_squared_error(Y_valid_gdp, y_pred_gdp)\n",
    "\n",
    "print(f\"Mean Absolute Error:{mae_gdp}\",\"\\n\",\"\\n\", f\"Mean Squared Error:{mse_gdp}\")"
   ]
  },
  {
   "cell_type": "markdown",
   "metadata": {},
   "source": [
    "- Total population with access to safe drinking water:"
   ]
  },
  {
   "cell_type": "code",
   "execution_count": null,
   "metadata": {},
   "outputs": [],
   "source": [
    "Y_train_swp = Y_train[\"total_population_with_access_to_safe_drinking_water\"]\n",
    "Y_valid_swp = Y_valid[\"total_population_with_access_to_safe_drinking_water\"]\n",
    "\n",
    "rf_model.fit(X_train_pre, Y_train_swp)\n",
    "y_pred_swp = rf_model.predict(X_valid_pre)"
   ]
  },
  {
   "cell_type": "code",
   "execution_count": null,
   "metadata": {},
   "outputs": [],
   "source": [
    "mae_swp = mean_absolute_error(Y_valid_swp, y_pred_swp)\n",
    "mse_swp = mean_squared_error(Y_valid_swp, y_pred_swp)\n",
    "\n",
    "print(f\"Mean Absolute Error:{mae_swp}\",\"\\n\",\"\\n\", f\"Mean Squared Error:{mse_swp}\")"
   ]
  }
 ],
 "metadata": {
  "kernelspec": {
   "display_name": ".amwag",
   "language": "python",
   "name": "python3"
  },
  "language_info": {
   "codemirror_mode": {
    "name": "ipython",
    "version": 3
   },
   "file_extension": ".py",
   "mimetype": "text/x-python",
   "name": "python",
   "nbconvert_exporter": "python",
   "pygments_lexer": "ipython3",
   "version": "3.10.5"
  },
  "orig_nbformat": 4
 },
 "nbformat": 4,
 "nbformat_minor": 2
}
