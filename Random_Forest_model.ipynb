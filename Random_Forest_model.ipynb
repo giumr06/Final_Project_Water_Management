{
 "cells": [
  {
   "cell_type": "markdown",
   "metadata": {},
   "source": [
    "### Import libraries:"
   ]
  },
  {
   "cell_type": "code",
   "execution_count": 116,
   "metadata": {},
   "outputs": [],
   "source": [
    "#1# Mandatory libraries: \n",
    "import pandas as pd\n",
    "import numpy as np\n",
    "from preprocessing import *\n",
    "\n",
    "#2# Random Forest model:\n",
    "from sklearn.model_selection import train_test_split\n",
    "from sklearn.ensemble import RandomForestRegressor\n",
    "from sklearn.metrics import accuracy_score,mean_absolute_error, mean_squared_error\n",
    "\n",
    "RSEED = 5"
   ]
  },
  {
   "cell_type": "code",
   "execution_count": 117,
   "metadata": {},
   "outputs": [
    {
     "data": {
      "text/plain": [
       "<Figure size 800x800 with 0 Axes>"
      ]
     },
     "metadata": {},
     "output_type": "display_data"
    }
   ],
   "source": [
    "#3# Data visualization: \n",
    "import matplotlib.pyplot as plt\n",
    "import seaborn as sns\n",
    "\n",
    "#3A# Plot formatting:\n",
    "from matplotlib.ticker import PercentFormatter\n",
    "plt.style.use('fivethirtyeight')\n",
    "plt.rcParams['font.size'] = 6\n",
    "plt.figure(figsize = (8, 8))\n",
    "pd.plotting.register_matplotlib_converters()\n",
    "pd.set_option('display.float_format', lambda x: '%.3f' % x)"
   ]
  },
  {
   "cell_type": "markdown",
   "metadata": {},
   "source": [
    "### Collecting and preprocessing the data: "
   ]
  },
  {
   "cell_type": "code",
   "execution_count": 118,
   "metadata": {},
   "outputs": [],
   "source": [
    "df = pd.read_csv(\"data/AQUASTAT_complete.csv\", index_col=0)\n",
    "\n",
    "\n",
    "pre_split_processor = get_pre_split_processor()\n",
    "df_pre = pre_split_processor.transform(df)"
   ]
  },
  {
   "cell_type": "markdown",
   "metadata": {},
   "source": [
    "### Splitting the data:"
   ]
  },
  {
   "cell_type": "code",
   "execution_count": 119,
   "metadata": {},
   "outputs": [],
   "source": [
    "#To avoid having a certain amount of NaN values in the model, we decided to restrict the number of years:\n",
    "df_pre = df_pre.query(\"year > 2010\")"
   ]
  },
  {
   "cell_type": "code",
   "execution_count": 120,
   "metadata": {},
   "outputs": [],
   "source": [
    "targets = ['gdp_per_capita', 'water_stress', 'total_population_with_access_to_safe_drinking_water']\n",
    "\n",
    "Y = df_pre[targets]\n",
    "X = df_pre.drop(columns=targets)\n",
    "\n",
    "X_train, X_pretest, Y_train, Y_pretest = train_test_split(X, Y, test_size=0.30, random_state=RSEED, stratify=X.country)\n",
    "X_test, X_valid, Y_test, Y_valid = train_test_split(X_pretest, Y_pretest, test_size=0.50, random_state=RSEED, stratify=X_pretest.country)"
   ]
  },
  {
   "cell_type": "markdown",
   "metadata": {},
   "source": [
    "#### Checking the train and validation data: "
   ]
  },
  {
   "cell_type": "code",
   "execution_count": 121,
   "metadata": {},
   "outputs": [
    {
     "name": "stdout",
     "output_type": "stream",
     "text": [
      "y_train NaN:\n",
      "gdp_per_capita                                         0\n",
      "water_stress                                           1\n",
      "total_population_with_access_to_safe_drinking_water    0\n",
      "dtype: int64 \n",
      " \n",
      " y_valid NaN:\n",
      "gdp_per_capita                                         0\n",
      "water_stress                                           0\n",
      "total_population_with_access_to_safe_drinking_water    0\n",
      "dtype: int64\n"
     ]
    }
   ],
   "source": [
    "print(f\"y_train NaN:\\n{Y_train.isna().sum()}\",\"\\n\",\"\\n\",f\"y_valid NaN:\\n{Y_valid.isna().sum()}\")"
   ]
  },
  {
   "cell_type": "code",
   "execution_count": 122,
   "metadata": {},
   "outputs": [
    {
     "data": {
      "text/html": [
       "<div>\n",
       "<style scoped>\n",
       "    .dataframe tbody tr th:only-of-type {\n",
       "        vertical-align: middle;\n",
       "    }\n",
       "\n",
       "    .dataframe tbody tr th {\n",
       "        vertical-align: top;\n",
       "    }\n",
       "\n",
       "    .dataframe thead th {\n",
       "        text-align: right;\n",
       "    }\n",
       "</style>\n",
       "<table border=\"1\" class=\"dataframe\">\n",
       "  <thead>\n",
       "    <tr style=\"text-align: right;\">\n",
       "      <th></th>\n",
       "      <th>gdp_per_capita</th>\n",
       "      <th>water_stress</th>\n",
       "      <th>total_population_with_access_to_safe_drinking_water</th>\n",
       "    </tr>\n",
       "  </thead>\n",
       "  <tbody>\n",
       "    <tr>\n",
       "      <th>1901</th>\n",
       "      <td>9229.834</td>\n",
       "      <td>NaN</td>\n",
       "      <td>97.300</td>\n",
       "    </tr>\n",
       "  </tbody>\n",
       "</table>\n",
       "</div>"
      ],
      "text/plain": [
       "      gdp_per_capita  water_stress   \n",
       "1901        9229.834           NaN  \\\n",
       "\n",
       "      total_population_with_access_to_safe_drinking_water  \n",
       "1901                                             97.300    "
      ]
     },
     "execution_count": 122,
     "metadata": {},
     "output_type": "execute_result"
    }
   ],
   "source": [
    "Y_train.query(\"water_stress.isna()\")"
   ]
  },
  {
   "cell_type": "code",
   "execution_count": 123,
   "metadata": {},
   "outputs": [],
   "source": [
    "Y_train.fillna(0, inplace=True)"
   ]
  },
  {
   "cell_type": "code",
   "execution_count": 124,
   "metadata": {},
   "outputs": [],
   "source": [
    "#Applying full preprocessor to remove NaN and Strings: \n",
    "full_preprocessor = get_full_preprocessor(X_train.columns.to_list(), hot=True)\n",
    "\n",
    "X_train_pre = full_preprocessor.fit_transform(X_train)\n",
    "X_valid_pre = full_preprocessor.transform(X_valid)"
   ]
  },
  {
   "cell_type": "markdown",
   "metadata": {},
   "source": [
    "### Applying the model in general target:"
   ]
  },
  {
   "cell_type": "code",
   "execution_count": 125,
   "metadata": {},
   "outputs": [
    {
     "data": {
      "text/html": [
       "<style>#sk-container-id-6 {color: black;}#sk-container-id-6 pre{padding: 0;}#sk-container-id-6 div.sk-toggleable {background-color: white;}#sk-container-id-6 label.sk-toggleable__label {cursor: pointer;display: block;width: 100%;margin-bottom: 0;padding: 0.3em;box-sizing: border-box;text-align: center;}#sk-container-id-6 label.sk-toggleable__label-arrow:before {content: \"▸\";float: left;margin-right: 0.25em;color: #696969;}#sk-container-id-6 label.sk-toggleable__label-arrow:hover:before {color: black;}#sk-container-id-6 div.sk-estimator:hover label.sk-toggleable__label-arrow:before {color: black;}#sk-container-id-6 div.sk-toggleable__content {max-height: 0;max-width: 0;overflow: hidden;text-align: left;background-color: #f0f8ff;}#sk-container-id-6 div.sk-toggleable__content pre {margin: 0.2em;color: black;border-radius: 0.25em;background-color: #f0f8ff;}#sk-container-id-6 input.sk-toggleable__control:checked~div.sk-toggleable__content {max-height: 200px;max-width: 100%;overflow: auto;}#sk-container-id-6 input.sk-toggleable__control:checked~label.sk-toggleable__label-arrow:before {content: \"▾\";}#sk-container-id-6 div.sk-estimator input.sk-toggleable__control:checked~label.sk-toggleable__label {background-color: #d4ebff;}#sk-container-id-6 div.sk-label input.sk-toggleable__control:checked~label.sk-toggleable__label {background-color: #d4ebff;}#sk-container-id-6 input.sk-hidden--visually {border: 0;clip: rect(1px 1px 1px 1px);clip: rect(1px, 1px, 1px, 1px);height: 1px;margin: -1px;overflow: hidden;padding: 0;position: absolute;width: 1px;}#sk-container-id-6 div.sk-estimator {font-family: monospace;background-color: #f0f8ff;border: 1px dotted black;border-radius: 0.25em;box-sizing: border-box;margin-bottom: 0.5em;}#sk-container-id-6 div.sk-estimator:hover {background-color: #d4ebff;}#sk-container-id-6 div.sk-parallel-item::after {content: \"\";width: 100%;border-bottom: 1px solid gray;flex-grow: 1;}#sk-container-id-6 div.sk-label:hover label.sk-toggleable__label {background-color: #d4ebff;}#sk-container-id-6 div.sk-serial::before {content: \"\";position: absolute;border-left: 1px solid gray;box-sizing: border-box;top: 0;bottom: 0;left: 50%;z-index: 0;}#sk-container-id-6 div.sk-serial {display: flex;flex-direction: column;align-items: center;background-color: white;padding-right: 0.2em;padding-left: 0.2em;position: relative;}#sk-container-id-6 div.sk-item {position: relative;z-index: 1;}#sk-container-id-6 div.sk-parallel {display: flex;align-items: stretch;justify-content: center;background-color: white;position: relative;}#sk-container-id-6 div.sk-item::before, #sk-container-id-6 div.sk-parallel-item::before {content: \"\";position: absolute;border-left: 1px solid gray;box-sizing: border-box;top: 0;bottom: 0;left: 50%;z-index: -1;}#sk-container-id-6 div.sk-parallel-item {display: flex;flex-direction: column;z-index: 1;position: relative;background-color: white;}#sk-container-id-6 div.sk-parallel-item:first-child::after {align-self: flex-end;width: 50%;}#sk-container-id-6 div.sk-parallel-item:last-child::after {align-self: flex-start;width: 50%;}#sk-container-id-6 div.sk-parallel-item:only-child::after {width: 0;}#sk-container-id-6 div.sk-dashed-wrapped {border: 1px dashed gray;margin: 0 0.4em 0.5em 0.4em;box-sizing: border-box;padding-bottom: 0.4em;background-color: white;}#sk-container-id-6 div.sk-label label {font-family: monospace;font-weight: bold;display: inline-block;line-height: 1.2em;}#sk-container-id-6 div.sk-label-container {text-align: center;}#sk-container-id-6 div.sk-container {/* jupyter's `normalize.less` sets `[hidden] { display: none; }` but bootstrap.min.css set `[hidden] { display: none !important; }` so we also need the `!important` here to be able to override the default hidden behavior on the sphinx rendered scikit-learn.org. See: https://github.com/scikit-learn/scikit-learn/issues/21755 */display: inline-block !important;position: relative;}#sk-container-id-6 div.sk-text-repr-fallback {display: none;}</style><div id=\"sk-container-id-6\" class=\"sk-top-container\"><div class=\"sk-text-repr-fallback\"><pre>RandomForestRegressor(random_state=5)</pre><b>In a Jupyter environment, please rerun this cell to show the HTML representation or trust the notebook. <br />On GitHub, the HTML representation is unable to render, please try loading this page with nbviewer.org.</b></div><div class=\"sk-container\" hidden><div class=\"sk-item\"><div class=\"sk-estimator sk-toggleable\"><input class=\"sk-toggleable__control sk-hidden--visually\" id=\"sk-estimator-id-6\" type=\"checkbox\" checked><label for=\"sk-estimator-id-6\" class=\"sk-toggleable__label sk-toggleable__label-arrow\">RandomForestRegressor</label><div class=\"sk-toggleable__content\"><pre>RandomForestRegressor(random_state=5)</pre></div></div></div></div></div>"
      ],
      "text/plain": [
       "RandomForestRegressor(random_state=5)"
      ]
     },
     "execution_count": 125,
     "metadata": {},
     "output_type": "execute_result"
    }
   ],
   "source": [
    "rf_model = RandomForestRegressor(n_estimators=100, random_state=RSEED)\n",
    "rf_model.fit(X_train_pre, Y_train)"
   ]
  },
  {
   "cell_type": "code",
   "execution_count": 126,
   "metadata": {},
   "outputs": [],
   "source": [
    "y_pred_3t = rf_model.predict(X_valid_pre)"
   ]
  },
  {
   "cell_type": "code",
   "execution_count": 127,
   "metadata": {},
   "outputs": [
    {
     "data": {
      "text/plain": [
       "array([[1.76501935e+03, 6.41792141e+01, 9.30590000e+01],\n",
       "       [1.08151171e+03, 6.62338387e+00, 8.58880000e+01],\n",
       "       [7.37735224e+02, 8.69991297e+00, 7.97990000e+01],\n",
       "       [5.13893562e+03, 6.53849031e+01, 8.67860000e+01],\n",
       "       [1.07288392e+04, 5.05341612e+00, 9.75450000e+01],\n",
       "       [4.99706908e+02, 2.74431347e+00, 5.15910000e+01],\n",
       "       [5.87709539e+04, 3.86212024e+01, 9.99120000e+01],\n",
       "       [3.88826541e+03, 1.46266369e+00, 8.76300000e+01],\n",
       "       [1.31543203e+03, 2.91782930e+01, 7.24200000e+01],\n",
       "       [2.16711593e+03, 6.70364453e+00, 8.17690000e+01],\n",
       "       [4.00726373e+04, 2.42020982e+01, 1.00000000e+02],\n",
       "       [3.17056715e+03, 1.51178715e+00, 9.91220000e+01],\n",
       "       [6.19967756e+03, 6.69473914e+00, 8.70560000e+01],\n",
       "       [4.46189241e+03, 9.79784624e+01, 9.64260000e+01],\n",
       "       [5.95138074e+03, 2.39676528e+01, 9.75390000e+01],\n",
       "       [4.40810077e+04, 8.04808476e+00, 1.00000000e+02],\n",
       "       [1.57676070e+03, 1.81369841e+01, 5.98510000e+01],\n",
       "       [5.96469496e+04, 2.81849424e+01, 9.91970000e+01],\n",
       "       [4.11002092e+03, 1.22920001e+01, 9.42880000e+01],\n",
       "       [1.26220937e+03, 1.81014106e+00, 7.51680000e+01],\n",
       "       [1.27638128e+03, 1.17129719e+02, 9.08960000e+01],\n",
       "       [4.50593133e+04, 5.15626900e+01, 1.00000000e+02],\n",
       "       [8.58158714e+02, 8.36527767e+00, 9.02330000e+01],\n",
       "       [3.81396567e+04, 1.17461822e+02, 9.99960000e+01],\n",
       "       [3.15188129e+03, 4.02941004e+01, 6.15950000e+01],\n",
       "       [8.23137952e+02, 7.97169693e+00, 7.38700000e+01],\n",
       "       [8.22529051e+03, 3.13325137e+00, 9.33450000e+01],\n",
       "       [3.18501663e+03, 2.67048583e+01, 9.15640000e+01],\n",
       "       [1.08786741e+04, 4.15809592e+01, 9.98390000e+01],\n",
       "       [3.70650741e+03, 5.38649081e+01, 9.87120000e+01],\n",
       "       [5.91343312e+02, 1.15080577e+01, 5.79380000e+01],\n",
       "       [1.48361986e+03, 3.19098179e+01, 7.72490000e+01],\n",
       "       [8.21031727e+02, 7.95958462e+00, 7.59000000e+01],\n",
       "       [7.57764782e+02, 3.60664177e+00, 7.53230000e+01],\n",
       "       [1.42695082e+02, 2.35159503e+01, 3.44620000e+01],\n",
       "       [3.20301658e+03, 1.22172629e+02, 9.84940000e+01],\n",
       "       [5.31045944e+02, 3.23274812e-01, 7.50400000e+01],\n",
       "       [7.26815606e+04, 2.70012112e+01, 9.80560000e+01],\n",
       "       [9.14111525e+02, 6.09314435e+01, 7.47260000e+01],\n",
       "       [2.80942158e+04, 2.79298942e+01, 9.99350000e+01],\n",
       "       [1.47988646e+04, 1.08900479e+01, 9.81920000e+01],\n",
       "       [9.33053346e+04, 2.38087555e+00, 9.99580000e+01],\n",
       "       [3.04653958e+04, 3.45350199e+03, 9.90560000e+01],\n",
       "       [2.20866176e+03, 6.68855992e+00, 8.74440000e+01],\n",
       "       [3.95421977e+03, 1.67851586e+01, 9.75280000e+01],\n",
       "       [5.69805028e+02, 2.71003606e+00, 5.34490000e+01],\n",
       "       [4.88149318e+03, 2.58529602e+01, 9.53740000e+01],\n",
       "       [4.89734467e+04, 9.87877615e+00, 9.99750000e+01],\n",
       "       [2.74667083e+04, 4.09496963e+01, 9.97840000e+01],\n",
       "       [3.43337880e+04, 3.81407134e+01, 9.40600000e+01],\n",
       "       [1.18501592e+04, 3.01300775e+01, 9.32920000e+01],\n",
       "       [7.16207370e+02, 3.23420172e+00, 8.81660000e+01],\n",
       "       [4.14046156e+04, 1.65582708e+03, 9.95980000e+01],\n",
       "       [5.49475426e+03, 8.65809761e-01, 9.05220000e+01],\n",
       "       [6.39657642e+03, 6.11013840e+00, 9.83020000e+01],\n",
       "       [2.05830126e+03, 5.16841429e+00, 6.61610000e+01],\n",
       "       [6.72410116e+03, 6.28926034e+00, 9.09100000e+01],\n",
       "       [5.71412570e+03, 5.56275587e-01, 9.53540000e+01],\n",
       "       [4.87717872e+04, 1.00797659e+01, 9.99750000e+01],\n",
       "       [1.09785844e+03, 1.42628224e+02, 5.84640000e+01],\n",
       "       [3.97098052e+03, 7.64343414e+01, 7.47010000e+01],\n",
       "       [1.90715890e+04, 2.43841392e+01, 9.92480000e+01],\n",
       "       [1.86272662e+03, 1.58037969e+02, 8.64520000e+01],\n",
       "       [7.14891836e+03, 1.39602470e+02, 6.15980000e+01],\n",
       "       [4.25545299e+04, 3.74713262e+01, 9.99760000e+01],\n",
       "       [7.82307693e+02, 4.01039012e+00, 6.54310000e+01],\n",
       "       [1.18970626e+03, 5.47763406e+00, 5.91490000e+01],\n",
       "       [1.11174190e+04, 3.04153935e+01, 9.33840000e+01],\n",
       "       [6.37046748e+03, 8.01891658e+01, 9.60980000e+01],\n",
       "       [1.12545493e+05, 3.78449420e+00, 1.00000000e+02],\n",
       "       [2.57221650e+04, 1.15615611e+02, 9.75570000e+01],\n",
       "       [4.08343402e+03, 8.62887887e+01, 9.48660000e+01],\n",
       "       [1.36542911e+04, 3.06503456e+00, 9.86810000e+01],\n",
       "       [5.50220334e+04, 4.81406315e+00, 9.99770000e+01],\n",
       "       [1.40813256e+03, 8.51555690e-01, 8.96420000e+01],\n",
       "       [1.82903658e+03, 1.10400105e+02, 5.88190000e+01],\n",
       "       [1.24431333e+03, 6.35460475e+00, 6.08820000e+01],\n",
       "       [5.47386244e+03, 2.09354146e+00, 9.77120000e+01],\n",
       "       [2.44789974e+03, 1.21508667e+01, 8.84700000e+01],\n",
       "       [1.42920085e+03, 8.49523575e-01, 8.97880000e+01],\n",
       "       [7.34897728e+03, 4.22715411e+01, 9.44330000e+01],\n",
       "       [1.49728603e+04, 4.54964409e+01, 9.82680000e+01],\n",
       "       [4.89441758e+03, 1.50383943e+00, 9.86340000e+01],\n",
       "       [6.32840844e+03, 5.24022600e+00, 5.99070000e+01],\n",
       "       [2.65380973e+03, 1.31606178e+02, 9.91520000e+01],\n",
       "       [6.75783202e+02, 2.91223533e+01, 9.93440000e+01],\n",
       "       [1.97871988e+04, 1.90717066e+01, 9.82100000e+01],\n",
       "       [4.38105909e+03, 6.79048437e+00, 9.24550000e+01],\n",
       "       [7.62547386e+03, 5.57607125e+00, 9.17800000e+01],\n",
       "       [8.23300108e+02, 6.31464631e+00, 7.84790000e+01],\n",
       "       [6.96969092e+04, 9.75627659e+00, 1.00000000e+02],\n",
       "       [1.87164273e+03, 1.60736910e+02, 8.65440000e+01],\n",
       "       [4.98767222e+04, 9.35754737e+00, 9.99890000e+01],\n",
       "       [2.10409103e+03, 1.25971056e+01, 6.87040000e+01],\n",
       "       [4.80542190e+02, 1.61208182e+01, 8.37810000e+01],\n",
       "       [8.16411303e+03, 3.51272213e+00, 9.61930000e+01],\n",
       "       [1.10147700e+03, 1.55881074e+01, 5.88650000e+01],\n",
       "       [8.15488976e+03, 3.38070827e+01, 9.47970000e+01],\n",
       "       [8.23294053e+03, 4.11897887e+01, 9.49020000e+01],\n",
       "       [7.22523306e+03, 7.69514369e+00, 9.45190000e+01],\n",
       "       [3.99902640e+03, 6.56137140e+00, 6.71660000e+01],\n",
       "       [1.44593968e+03, 1.56043011e+00, 7.55600000e+01],\n",
       "       [1.41213492e+04, 9.07175003e+00, 9.90190000e+01],\n",
       "       [1.86954056e+04, 1.10602043e+02, 9.48780000e+01],\n",
       "       [7.06687630e+04, 5.58174706e+02, 9.98450000e+01],\n",
       "       [4.19745982e+03, 3.45648179e+00, 6.65680000e+01],\n",
       "       [4.55603063e+04, 2.21156382e+00, 9.97720000e+01],\n",
       "       [5.09357215e+02, 5.42269641e+01, 5.52020000e+01],\n",
       "       [1.23616656e+03, 9.02548167e+00, 7.98650000e+01],\n",
       "       [1.12425894e+04, 4.08366189e+00, 9.66140000e+01],\n",
       "       [1.29648254e+03, 1.40255262e+01, 7.77010000e+01],\n",
       "       [3.14605069e+03, 2.77423248e+01, 9.15130000e+01],\n",
       "       [6.36860148e+04, 6.02571097e+00, 9.99980000e+01],\n",
       "       [7.70257138e+04, 2.20699156e+00, 9.99790000e+01],\n",
       "       [3.26233741e+02, 1.08268736e+01, 7.30810000e+01],\n",
       "       [5.21095451e+03, 2.17330932e+00, 7.99850000e+01],\n",
       "       [1.01599331e+04, 3.53290548e+00, 9.80080000e+01],\n",
       "       [9.93323022e+02, 6.44278085e+00, 8.46530000e+01],\n",
       "       [5.38160122e+02, 1.01239609e+01, 5.84700000e+01],\n",
       "       [3.89756401e+03, 8.63400737e+01, 9.64730000e+01],\n",
       "       [5.31545087e+02, 2.73624178e+01, 5.56330000e+01],\n",
       "       [7.22897667e+03, 1.41532180e+02, 6.08510000e+01],\n",
       "       [3.28490163e+04, 9.27275793e+01, 9.99560000e+01],\n",
       "       [3.11388865e+03, 5.05774453e+01, 8.47250000e+01],\n",
       "       [1.95412754e+03, 6.31011710e+01, 9.30670000e+01],\n",
       "       [5.07954099e+02, 1.03597346e+00, 6.27140000e+01],\n",
       "       [1.18616208e+02, 2.45277406e+01, 3.17000000e+01],\n",
       "       [1.90069470e+04, 6.26325985e+02, 9.58070000e+01],\n",
       "       [2.49985858e+03, 2.00595466e+01, 9.67090000e+01],\n",
       "       [3.17710717e+04, 3.48018325e+03, 9.90240000e+01],\n",
       "       [5.87439595e+02, 1.13903195e+01, 6.05980000e+01],\n",
       "       [1.72991836e+04, 2.26773432e+00, 9.86690000e+01],\n",
       "       [1.68843836e+04, 8.69414175e+01, 9.95320000e+01],\n",
       "       [5.41134119e+03, 3.51775901e+00, 9.62010000e+01],\n",
       "       [1.07634284e+03, 2.52597192e+00, 7.57320000e+01],\n",
       "       [1.09356252e+04, 4.04305986e+00, 9.69030000e+01],\n",
       "       [3.64783254e+03, 2.90421482e+01, 8.74550000e+01],\n",
       "       [5.52845627e+03, 1.03426764e+02, 8.57640000e+01],\n",
       "       [3.39420609e+04, 1.47093799e+02, 9.79720000e+01],\n",
       "       [3.94328697e+03, 4.12121661e+00, 9.33830000e+01],\n",
       "       [1.26512905e+04, 2.16332555e+00, 9.90510000e+01],\n",
       "       [7.22334994e+02, 4.86366316e+00, 5.36600000e+01],\n",
       "       [1.94797744e+04, 2.68653828e+00, 9.63330000e+01],\n",
       "       [1.45043358e+03, 1.85452936e+00, 7.57980000e+01],\n",
       "       [1.19119443e+03, 1.19953739e+02, 8.92270000e+01],\n",
       "       [4.42945335e+04, 3.49525274e+01, 1.00000000e+02],\n",
       "       [5.60394309e+02, 5.32888585e+01, 5.45020000e+01],\n",
       "       [6.51721977e+03, 5.86447328e+01, 9.31810000e+01],\n",
       "       [5.85441835e+02, 8.20500677e-01, 6.21580000e+01],\n",
       "       [2.26687560e+04, 2.80418174e+02, 9.59020000e+01],\n",
       "       [1.59246455e+03, 2.05670807e+01, 5.99960000e+01],\n",
       "       [1.35346447e+03, 1.17908191e+02, 9.14030000e+01],\n",
       "       [6.81854513e+02, 4.62938399e+00, 6.43920000e+01],\n",
       "       [7.93172805e+03, 5.80773535e+01, 9.89370000e+01],\n",
       "       [7.06832312e+03, 4.89803603e+01, 8.62860000e+01],\n",
       "       [1.30381569e+03, 2.40331588e+01, 5.90520000e+01],\n",
       "       [2.37298520e+04, 1.66690522e+02, 9.98920000e+01],\n",
       "       [2.39190669e+03, 1.25788606e+01, 6.70910000e+01],\n",
       "       [1.02693113e+04, 2.16664607e+01, 9.94530000e+01],\n",
       "       [1.33416028e+03, 2.97024704e+01, 6.33870000e+01],\n",
       "       [8.33704653e+03, 7.30647548e+02, 7.33320000e+01],\n",
       "       [9.89733521e+03, 9.08827468e+00, 9.88150000e+01],\n",
       "       [2.36157465e+04, 8.84502923e+01, 9.93660000e+01],\n",
       "       [1.71860257e+04, 8.52389370e+01, 9.94480000e+01],\n",
       "       [3.05350628e+03, 5.08584504e+01, 8.48430000e+01],\n",
       "       [3.91229202e+04, 1.12862767e+02, 9.99960000e+01],\n",
       "       [2.07921320e+04, 2.02387473e+01, 9.98400000e+01],\n",
       "       [2.71359532e+04, 8.57473296e+01, 1.00000000e+02],\n",
       "       [2.46038257e+03, 1.40129776e+01, 9.42630000e+01],\n",
       "       [1.07132476e+04, 5.04801638e+01, 9.88420000e+01],\n",
       "       [1.91659223e+04, 2.24790425e+01, 9.51950000e+01],\n",
       "       [1.44615299e+04, 1.69122181e+01, 9.87520000e+01],\n",
       "       [1.17094391e+03, 1.18884115e+02, 8.87110000e+01],\n",
       "       [3.03598783e+03, 3.95694557e+01, 6.37180000e+01],\n",
       "       [9.77811462e+03, 2.79969419e+00, 9.80250000e+01],\n",
       "       [3.22768458e+03, 1.57089230e+01, 9.57370000e+01],\n",
       "       [1.20414186e+03, 9.25678164e+00, 9.04250000e+01],\n",
       "       [1.20106258e+04, 1.03568437e+01, 9.88610000e+01],\n",
       "       [1.99974231e+03, 7.62425406e+00, 8.59370000e+01],\n",
       "       [4.68860322e+04, 4.59504890e+00, 9.98030000e+01],\n",
       "       [1.70061039e+03, 1.03985169e+02, 5.97960000e+01],\n",
       "       [3.80265977e+03, 7.61780373e+01, 9.39900000e+01],\n",
       "       [5.77909678e+04, 6.32670444e-01, 9.99100000e+01],\n",
       "       [5.98357789e+03, 4.64532828e+00, 5.90770000e+01],\n",
       "       [6.34068570e+03, 3.41325814e+01, 9.18200000e+01],\n",
       "       [1.10187410e+04, 3.87559085e+00, 9.76680000e+01],\n",
       "       [1.18706752e+04, 6.00234344e+00, 9.77680000e+01],\n",
       "       [5.10897790e+03, 1.56208721e+01, 9.36260000e+01],\n",
       "       [7.81779820e+03, 2.02975304e+00, 9.27280000e+01],\n",
       "       [1.38540713e+04, 3.84995548e+01, 9.80250000e+01],\n",
       "       [3.92861438e+04, 3.70529813e+01, 9.99760000e+01],\n",
       "       [4.20849988e+02, 4.43105717e-01, 6.81180000e+01],\n",
       "       [4.27244993e+04, 1.53283200e+01, 1.00000000e+02],\n",
       "       [1.39284252e+03, 2.54014193e+00, 8.15750000e+01],\n",
       "       [3.54464561e+04, 3.53533106e+01, 9.91950000e+01],\n",
       "       [1.25395672e+03, 5.00776342e+01, 8.68880000e+01],\n",
       "       [2.00000554e+03, 2.79346227e+00, 8.60210000e+01],\n",
       "       [8.17913706e+03, 4.11831849e+00, 9.58960000e+01],\n",
       "       [7.63822280e+02, 1.43637018e+01, 7.51210000e+01],\n",
       "       [4.73589525e+02, 1.61497862e+01, 8.71390000e+01],\n",
       "       [2.44747813e+03, 7.25757269e+00, 7.67710000e+01],\n",
       "       [4.81927015e+03, 1.86478525e+00, 7.89960000e+01],\n",
       "       [9.61970148e+03, 5.03205212e+01, 9.22720000e+01],\n",
       "       [4.20724192e+03, 1.31669529e+02, 8.39630000e+01],\n",
       "       [1.85813277e+03, 3.09446942e+00, 8.49780000e+01],\n",
       "       [6.61834991e+02, 1.10586162e+01, 5.89510000e+01],\n",
       "       [2.53075187e+03, 4.77985002e+00, 9.10010000e+01],\n",
       "       [6.40795290e+03, 5.42493450e+01, 9.26410000e+01],\n",
       "       [5.36125839e+02, 8.03985339e-01, 6.64180000e+01],\n",
       "       [6.25305178e+02, 2.52218589e+00, 7.60270000e+01],\n",
       "       [1.13926360e+05, 4.63599403e+00, 1.00000000e+02],\n",
       "       [7.00348859e+03, 2.32877315e+01, 9.70110000e+01],\n",
       "       [3.33221731e+03, 1.08656033e+01, 9.02950000e+01],\n",
       "       [5.73232374e+03, 8.56765672e+00, 8.69660000e+01],\n",
       "       [2.33483654e+04, 2.85963243e+01, 9.93460000e+01],\n",
       "       [4.56355116e+04, 5.20172795e+01, 1.00000000e+02],\n",
       "       [6.13230458e+04, 2.74285933e+01, 9.92180000e+01],\n",
       "       [2.20184312e+04, 1.74289688e+01, 9.95290000e+01],\n",
       "       [1.68516497e+03, 3.05849242e+01, 7.46880000e+01],\n",
       "       [2.60972903e+03, 3.29214434e+00, 9.80290000e+01],\n",
       "       [2.44472639e+03, 5.81559679e+00, 9.07200000e+01],\n",
       "       [3.78508101e+03, 5.14075450e+01, 9.81640000e+01],\n",
       "       [6.60180539e+03, 9.79736383e+00, 8.69880000e+01],\n",
       "       [5.18749917e+04, 1.78549616e+01, 9.99300000e+01],\n",
       "       [5.61936100e+04, 5.70924046e+02, 9.98510000e+01],\n",
       "       [3.23033838e+04, 3.23879838e+01, 9.97520000e+01],\n",
       "       [6.95904865e+03, 3.88097174e+01, 9.51280000e+01],\n",
       "       [5.15563096e+02, 1.09455419e+01, 5.16500000e+01],\n",
       "       [1.47243824e+03, 2.58785162e+00, 8.17530000e+01],\n",
       "       [5.21677892e+03, 2.27988960e+01, 9.78640000e+01],\n",
       "       [8.60721788e+04, 6.51059340e+00, 1.00000000e+02],\n",
       "       [6.88952032e+02, 1.60393896e+00, 7.91480000e+01],\n",
       "       [7.29442658e+03, 5.39572265e+01, 8.63300000e+01],\n",
       "       [2.10461177e+04, 4.60192770e+00, 9.98100000e+01],\n",
       "       [6.60042122e+02, 1.86517503e+00, 5.16380000e+01],\n",
       "       [4.98869667e+02, 1.10334480e+01, 5.22230000e+01],\n",
       "       [2.31702203e+04, 1.62967809e+02, 9.98240000e+01],\n",
       "       [5.90978828e+04, 4.60314157e+00, 9.99750000e+01],\n",
       "       [5.58504175e+02, 3.18645156e-01, 7.52150000e+01],\n",
       "       [9.74060461e+03, 3.88166456e+01, 9.61600000e+01],\n",
       "       [5.54422786e+03, 1.89487022e+00, 9.73430000e+01],\n",
       "       [2.09626656e+04, 3.79303413e+01, 9.94840000e+01],\n",
       "       [7.91802418e+02, 9.51489808e+00, 7.11120000e+01],\n",
       "       [1.39916207e+04, 7.46956662e+00, 9.98310000e+01],\n",
       "       [5.64242958e+02, 9.96870652e-01, 5.39610000e+01]])"
      ]
     },
     "execution_count": 127,
     "metadata": {},
     "output_type": "execute_result"
    }
   ],
   "source": [
    "y_pred_3t"
   ]
  },
  {
   "cell_type": "code",
   "execution_count": 128,
   "metadata": {},
   "outputs": [
    {
     "name": "stdout",
     "output_type": "stream",
     "text": [
      "Mean Absolute Error:[1.04100918e+03 1.06935350e+01 9.39518367e-01] \n",
      " \n",
      " Mean Squared Error:[5.83914308e+06 2.13964875e+03 2.91612378e+00]\n"
     ]
    }
   ],
   "source": [
    "y_pred_3t = rf_model.predict(X_valid_pre)\n",
    "mae = mean_absolute_error(Y_valid, y_pred_3t, multioutput=\"raw_values\")\n",
    "mse = mean_squared_error(Y_valid, y_pred_3t, multioutput=\"raw_values\")\n",
    "\n",
    "print(f\"Mean Absolute Error:{mae}\",\"\\n\",\"\\n\", f\"Mean Squared Error:{mse}\")"
   ]
  },
  {
   "cell_type": "markdown",
   "metadata": {},
   "source": [
    "### Separeting the targets:"
   ]
  },
  {
   "cell_type": "markdown",
   "metadata": {},
   "source": [
    "- Water Stress target:"
   ]
  },
  {
   "cell_type": "code",
   "execution_count": 106,
   "metadata": {},
   "outputs": [
    {
     "name": "stdout",
     "output_type": "stream",
     "text": [
      "Y_train:4360   50.039\n",
      "5152   20.756\n",
      "2073   27.987\n",
      "4269   26.539\n",
      "5096   13.246\n",
      "        ...  \n",
      "5097   13.246\n",
      "989     2.062\n",
      "624    87.500\n",
      "4444    1.095\n",
      "1910    5.352\n",
      "Name: water_stress, Length: 1139, dtype: float64 \n",
      " Y_valid:3673   66.492\n",
      "2962    2.210\n",
      "1167    7.820\n",
      "454    53.729\n",
      "1903    4.208\n",
      "        ...  \n",
      "6212    1.835\n",
      "6437   17.572\n",
      "4982    8.003\n",
      "3560    8.181\n",
      "2251    0.227\n",
      "Name: water_stress, Length: 245, dtype: float64\n"
     ]
    }
   ],
   "source": [
    "Y_train_water = Y_train[\"water_stress\"]\n",
    "Y_valid_water = Y_valid[\"water_stress\"]\n",
    "\n",
    "print(f\"Y_train:{Y_train_water} \\n Y_valid:{Y_valid_water}\")"
   ]
  },
  {
   "cell_type": "code",
   "execution_count": 107,
   "metadata": {},
   "outputs": [
    {
     "name": "stdout",
     "output_type": "stream",
     "text": [
      "Mean Absolute Error:2.056758381478721 \n",
      " \n",
      " Mean Squared Error:153.1139290794525\n"
     ]
    }
   ],
   "source": [
    "rf_model = RandomForestRegressor(n_estimators=100, random_state=RSEED)\n",
    "rf_model.fit(X_train_pre, Y_train_water)\n",
    "\n",
    "y_pred_water = rf_model.predict(X_valid_pre)\n",
    "\n",
    "mae_water = mean_absolute_error(Y_valid_water, y_pred_water)\n",
    "mse_water = mean_squared_error(Y_valid_water, y_pred_water)\n",
    "\n",
    "print(f\"Mean Absolute Error:{mae_water}\",\"\\n\",\"\\n\", f\"Mean Squared Error:{mse_water}\")"
   ]
  },
  {
   "cell_type": "markdown",
   "metadata": {},
   "source": [
    "- GDP per capita target:"
   ]
  },
  {
   "cell_type": "code",
   "execution_count": 108,
   "metadata": {},
   "outputs": [
    {
     "name": "stdout",
     "output_type": "stream",
     "text": [
      "Y_train:4360    1312.035\n",
      "5152    9206.776\n",
      "2073   19738.393\n",
      "4269    1325.976\n",
      "5096    1815.219\n",
      "          ...   \n",
      "5097    1892.098\n",
      "989     7617.292\n",
      "624    17419.314\n",
      "4444   14215.173\n",
      "1910   12076.806\n",
      "Name: gdp_per_capita, Length: 1139, dtype: float64 \n",
      " Y_valid:3673    1729.378\n",
      "2962     732.727\n",
      "1167     813.100\n",
      "454     4735.143\n",
      "1903   10744.099\n",
      "          ...   \n",
      "6212    5324.636\n",
      "6437   21614.537\n",
      "4982     778.670\n",
      "3560   14711.084\n",
      "2251     545.216\n",
      "Name: gdp_per_capita, Length: 245, dtype: float64\n"
     ]
    }
   ],
   "source": [
    "Y_train_gdp = Y_train[\"gdp_per_capita\"]\n",
    "Y_valid_gdp = Y_valid[\"gdp_per_capita\"]\n",
    "\n",
    "print(f\"Y_train:{Y_train_gdp} \\n Y_valid:{Y_valid_gdp}\")"
   ]
  },
  {
   "cell_type": "code",
   "execution_count": 109,
   "metadata": {},
   "outputs": [
    {
     "name": "stdout",
     "output_type": "stream",
     "text": [
      "Mean Absolute Error:1036.9271510293875 \n",
      " \n",
      " Mean Squared Error:6070267.206866616\n"
     ]
    }
   ],
   "source": [
    "rf_model = RandomForestRegressor(n_estimators=100, random_state=RSEED)\n",
    "rf_model.fit(X_train_pre, Y_train_gdp)\n",
    "\n",
    "y_pred_gdp = rf_model.predict(X_valid_pre)\n",
    "\n",
    "mae_gdp = mean_absolute_error(Y_valid_gdp, y_pred_gdp)\n",
    "mse_gdp = mean_squared_error(Y_valid_gdp, y_pred_gdp)\n",
    "\n",
    "print(f\"Mean Absolute Error:{mae_gdp}\",\"\\n\",\"\\n\", f\"Mean Squared Error:{mse_gdp}\")"
   ]
  },
  {
   "cell_type": "markdown",
   "metadata": {},
   "source": [
    "- Total population with access to safe drinking water:"
   ]
  },
  {
   "cell_type": "code",
   "execution_count": 112,
   "metadata": {},
   "outputs": [
    {
     "name": "stdout",
     "output_type": "stream",
     "text": [
      "Y_train:4360    90.000\n",
      "5152    99.800\n",
      "2073   100.000\n",
      "4269    62.300\n",
      "5096    56.700\n",
      "         ...  \n",
      "5097    57.900\n",
      "989     96.000\n",
      "624     99.700\n",
      "4444    99.300\n",
      "1910    97.800\n",
      "Name: total_population_with_access_to_safe_drinking_water, Length: 1139, dtype: float64 \n",
      " Y_valid:3673    94.100\n",
      "2962    90.200\n",
      "1167    82.300\n",
      "454     87.000\n",
      "1903    97.600\n",
      "         ...  \n",
      "6212    98.000\n",
      "6437   100.000\n",
      "4982    70.900\n",
      "3560   100.000\n",
      "2251    52.400\n",
      "Name: total_population_with_access_to_safe_drinking_water, Length: 245, dtype: float64\n"
     ]
    }
   ],
   "source": [
    "Y_train_swp = Y_train[\"total_population_with_access_to_safe_drinking_water\"]\n",
    "Y_valid_swp = Y_valid[\"total_population_with_access_to_safe_drinking_water\"]\n",
    "\n",
    "print(f\"Y_train:{Y_train_psw} \\n Y_valid:{Y_valid_psw}\")"
   ]
  },
  {
   "cell_type": "code",
   "execution_count": 113,
   "metadata": {},
   "outputs": [
    {
     "name": "stdout",
     "output_type": "stream",
     "text": [
      "Mean Absolute Error:0.59508979591837 \n",
      " \n",
      " Mean Squared Error:2.307919595918377\n"
     ]
    }
   ],
   "source": [
    "rf_model = RandomForestRegressor(n_estimators=100, random_state=RSEED)\n",
    "rf_model.fit(X_train_pre, Y_train_swp)\n",
    "\n",
    "y_pred_swp = rf_model.predict(X_valid_pre)\n",
    "\n",
    "mae_swp = mean_absolute_error(Y_valid_swp, y_pred_swp)\n",
    "mse_swp = mean_squared_error(Y_valid_swp, y_pred_swp)\n",
    "\n",
    "print(f\"Mean Absolute Error:{mae_swp}\",\"\\n\",\"\\n\", f\"Mean Squared Error:{mse_swp}\")"
   ]
  }
 ],
 "metadata": {
  "kernelspec": {
   "display_name": ".amwag",
   "language": "python",
   "name": "python3"
  },
  "language_info": {
   "codemirror_mode": {
    "name": "ipython",
    "version": 3
   },
   "file_extension": ".py",
   "mimetype": "text/x-python",
   "name": "python",
   "nbconvert_exporter": "python",
   "pygments_lexer": "ipython3",
   "version": "3.10.5"
  },
  "orig_nbformat": 4
 },
 "nbformat": 4,
 "nbformat_minor": 2
}
