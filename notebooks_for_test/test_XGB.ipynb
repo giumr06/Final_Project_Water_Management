{
 "cells": [
  {
   "cell_type": "code",
   "execution_count": 1,
   "metadata": {},
   "outputs": [
    {
     "ename": "ModuleNotFoundError",
     "evalue": "No module named 'app_utilities'",
     "output_type": "error",
     "traceback": [
      "\u001b[1;31m---------------------------------------------------------------------------\u001b[0m",
      "\u001b[1;31mModuleNotFoundError\u001b[0m                       Traceback (most recent call last)",
      "\u001b[1;32mc:\\Users\\Giu\\Desktop\\Spiced\\000_projects\\Final_Project_Water_Management\\notebooks_for_test\\test_XGB.ipynb Cell 1\u001b[0m line \u001b[0;36m7\n\u001b[0;32m      <a href='vscode-notebook-cell:/c%3A/Users/Giu/Desktop/Spiced/000_projects/Final_Project_Water_Management/notebooks_for_test/test_XGB.ipynb#W0sZmlsZQ%3D%3D?line=4'>5</a>\u001b[0m \u001b[39mimport\u001b[39;00m \u001b[39mseaborn\u001b[39;00m \u001b[39mas\u001b[39;00m \u001b[39msns\u001b[39;00m\n\u001b[0;32m      <a href='vscode-notebook-cell:/c%3A/Users/Giu/Desktop/Spiced/000_projects/Final_Project_Water_Management/notebooks_for_test/test_XGB.ipynb#W0sZmlsZQ%3D%3D?line=5'>6</a>\u001b[0m \u001b[39mimport\u001b[39;00m \u001b[39mpickle\u001b[39;00m \u001b[39mas\u001b[39;00m \u001b[39mpkl\u001b[39;00m\n\u001b[1;32m----> <a href='vscode-notebook-cell:/c%3A/Users/Giu/Desktop/Spiced/000_projects/Final_Project_Water_Management/notebooks_for_test/test_XGB.ipynb#W0sZmlsZQ%3D%3D?line=6'>7</a>\u001b[0m \u001b[39mfrom\u001b[39;00m \u001b[39mapp_utilities\u001b[39;00m\u001b[39m.\u001b[39;00m\u001b[39mpreprocessing\u001b[39;00m \u001b[39mimport\u001b[39;00m \u001b[39m*\u001b[39m\n\u001b[0;32m      <a href='vscode-notebook-cell:/c%3A/Users/Giu/Desktop/Spiced/000_projects/Final_Project_Water_Management/notebooks_for_test/test_XGB.ipynb#W0sZmlsZQ%3D%3D?line=7'>8</a>\u001b[0m \u001b[39mfrom\u001b[39;00m \u001b[39msklearn\u001b[39;00m\u001b[39m.\u001b[39;00m\u001b[39mpipeline\u001b[39;00m \u001b[39mimport\u001b[39;00m FeatureUnion\n\u001b[0;32m      <a href='vscode-notebook-cell:/c%3A/Users/Giu/Desktop/Spiced/000_projects/Final_Project_Water_Management/notebooks_for_test/test_XGB.ipynb#W0sZmlsZQ%3D%3D?line=8'>9</a>\u001b[0m \u001b[39mfrom\u001b[39;00m \u001b[39msklearn\u001b[39;00m\u001b[39m.\u001b[39;00m\u001b[39mdecomposition\u001b[39;00m \u001b[39mimport\u001b[39;00m PCA\n",
      "\u001b[1;31mModuleNotFoundError\u001b[0m: No module named 'app_utilities'"
     ]
    }
   ],
   "source": [
    "#%load_ext autoreload\n",
    "#%autoreload 2\n",
    "import pandas as pd\n",
    "import matplotlib.pyplot as plt\n",
    "import seaborn as sns\n",
    "import pickle as pkl\n",
    "from app_utilities.preprocessing import *\n",
    "from sklearn.pipeline import FeatureUnion\n",
    "from sklearn.decomposition import PCA\n",
    "from xgboost import XGBRegressor\n",
    "from sklearn.model_selection import train_test_split\n",
    "from sklearn.metrics import mean_squared_error, r2_score, mean_absolute_error\n",
    "\n",
    "from sklearn import set_config\n",
    "set_config(transform_output=\"pandas\")\n",
    "\n",
    "RSEED = 5"
   ]
  },
  {
   "cell_type": "code",
   "execution_count": null,
   "metadata": {},
   "outputs": [],
   "source": [
    "df = pd.read_csv(\"../data/AQUASTAT_complete.csv\", index_col=0)"
   ]
  },
  {
   "cell_type": "code",
   "execution_count": null,
   "metadata": {},
   "outputs": [
    {
     "data": {
      "text/plain": [
       "Index(['Country', 'M49', 'Variable', 'Year', 'Unit', 'Symbol',\n",
       "       'Symbol Description', 'Value'],\n",
       "      dtype='object')"
      ]
     },
     "execution_count": 3,
     "metadata": {},
     "output_type": "execute_result"
    }
   ],
   "source": [
    "df.columns"
   ]
  },
  {
   "cell_type": "code",
   "execution_count": null,
   "metadata": {},
   "outputs": [],
   "source": [
    "#df.Variable.unique()"
   ]
  },
  {
   "cell_type": "markdown",
   "metadata": {},
   "source": [
    "pre-split preprocessing"
   ]
  },
  {
   "cell_type": "code",
   "execution_count": null,
   "metadata": {},
   "outputs": [
    {
     "data": {
      "text/html": [
       "<style>#sk-container-id-1 {color: black;}#sk-container-id-1 pre{padding: 0;}#sk-container-id-1 div.sk-toggleable {background-color: white;}#sk-container-id-1 label.sk-toggleable__label {cursor: pointer;display: block;width: 100%;margin-bottom: 0;padding: 0.3em;box-sizing: border-box;text-align: center;}#sk-container-id-1 label.sk-toggleable__label-arrow:before {content: \"▸\";float: left;margin-right: 0.25em;color: #696969;}#sk-container-id-1 label.sk-toggleable__label-arrow:hover:before {color: black;}#sk-container-id-1 div.sk-estimator:hover label.sk-toggleable__label-arrow:before {color: black;}#sk-container-id-1 div.sk-toggleable__content {max-height: 0;max-width: 0;overflow: hidden;text-align: left;background-color: #f0f8ff;}#sk-container-id-1 div.sk-toggleable__content pre {margin: 0.2em;color: black;border-radius: 0.25em;background-color: #f0f8ff;}#sk-container-id-1 input.sk-toggleable__control:checked~div.sk-toggleable__content {max-height: 200px;max-width: 100%;overflow: auto;}#sk-container-id-1 input.sk-toggleable__control:checked~label.sk-toggleable__label-arrow:before {content: \"▾\";}#sk-container-id-1 div.sk-estimator input.sk-toggleable__control:checked~label.sk-toggleable__label {background-color: #d4ebff;}#sk-container-id-1 div.sk-label input.sk-toggleable__control:checked~label.sk-toggleable__label {background-color: #d4ebff;}#sk-container-id-1 input.sk-hidden--visually {border: 0;clip: rect(1px 1px 1px 1px);clip: rect(1px, 1px, 1px, 1px);height: 1px;margin: -1px;overflow: hidden;padding: 0;position: absolute;width: 1px;}#sk-container-id-1 div.sk-estimator {font-family: monospace;background-color: #f0f8ff;border: 1px dotted black;border-radius: 0.25em;box-sizing: border-box;margin-bottom: 0.5em;}#sk-container-id-1 div.sk-estimator:hover {background-color: #d4ebff;}#sk-container-id-1 div.sk-parallel-item::after {content: \"\";width: 100%;border-bottom: 1px solid gray;flex-grow: 1;}#sk-container-id-1 div.sk-label:hover label.sk-toggleable__label {background-color: #d4ebff;}#sk-container-id-1 div.sk-serial::before {content: \"\";position: absolute;border-left: 1px solid gray;box-sizing: border-box;top: 0;bottom: 0;left: 50%;z-index: 0;}#sk-container-id-1 div.sk-serial {display: flex;flex-direction: column;align-items: center;background-color: white;padding-right: 0.2em;padding-left: 0.2em;position: relative;}#sk-container-id-1 div.sk-item {position: relative;z-index: 1;}#sk-container-id-1 div.sk-parallel {display: flex;align-items: stretch;justify-content: center;background-color: white;position: relative;}#sk-container-id-1 div.sk-item::before, #sk-container-id-1 div.sk-parallel-item::before {content: \"\";position: absolute;border-left: 1px solid gray;box-sizing: border-box;top: 0;bottom: 0;left: 50%;z-index: -1;}#sk-container-id-1 div.sk-parallel-item {display: flex;flex-direction: column;z-index: 1;position: relative;background-color: white;}#sk-container-id-1 div.sk-parallel-item:first-child::after {align-self: flex-end;width: 50%;}#sk-container-id-1 div.sk-parallel-item:last-child::after {align-self: flex-start;width: 50%;}#sk-container-id-1 div.sk-parallel-item:only-child::after {width: 0;}#sk-container-id-1 div.sk-dashed-wrapped {border: 1px dashed gray;margin: 0 0.4em 0.5em 0.4em;box-sizing: border-box;padding-bottom: 0.4em;background-color: white;}#sk-container-id-1 div.sk-label label {font-family: monospace;font-weight: bold;display: inline-block;line-height: 1.2em;}#sk-container-id-1 div.sk-label-container {text-align: center;}#sk-container-id-1 div.sk-container {/* jupyter's `normalize.less` sets `[hidden] { display: none; }` but bootstrap.min.css set `[hidden] { display: none !important; }` so we also need the `!important` here to be able to override the default hidden behavior on the sphinx rendered scikit-learn.org. See: https://github.com/scikit-learn/scikit-learn/issues/21755 */display: inline-block !important;position: relative;}#sk-container-id-1 div.sk-text-repr-fallback {display: none;}</style><div id=\"sk-container-id-1\" class=\"sk-top-container\"><div class=\"sk-text-repr-fallback\"><pre>Pipeline(steps=[(&#x27;initial_drop_columns&#x27;,\n",
       "                 &lt;app_utilities.preprocessing.ColumnDropper object at 0x000002A740073580&gt;),\n",
       "                (&#x27;drop_countries&#x27;,\n",
       "                 &lt;app_utilities.preprocessing.FromColumnDropper object at 0x000002A7400739A0&gt;),\n",
       "                (&#x27;drop_variables&#x27;,\n",
       "                 &lt;app_utilities.preprocessing.FromColumnDropper object at 0x000002A73FF28220&gt;),\n",
       "                (&#x27;pivot&#x27;,\n",
       "                 &lt;app_utilities.preprocessing.Pivoter object at 0x000002A73FF28DC0&gt;),\n",
       "                (&#x27;rename&#x27;,\n",
       "                 &lt;app_utilities.preprocessing.ColumnRenamer object at 0x000002A73FF280A0&gt;)])</pre><b>In a Jupyter environment, please rerun this cell to show the HTML representation or trust the notebook. <br />On GitHub, the HTML representation is unable to render, please try loading this page with nbviewer.org.</b></div><div class=\"sk-container\" hidden><div class=\"sk-item sk-dashed-wrapped\"><div class=\"sk-label-container\"><div class=\"sk-label sk-toggleable\"><input class=\"sk-toggleable__control sk-hidden--visually\" id=\"sk-estimator-id-1\" type=\"checkbox\" ><label for=\"sk-estimator-id-1\" class=\"sk-toggleable__label sk-toggleable__label-arrow\">Pipeline</label><div class=\"sk-toggleable__content\"><pre>Pipeline(steps=[(&#x27;initial_drop_columns&#x27;,\n",
       "                 &lt;app_utilities.preprocessing.ColumnDropper object at 0x000002A740073580&gt;),\n",
       "                (&#x27;drop_countries&#x27;,\n",
       "                 &lt;app_utilities.preprocessing.FromColumnDropper object at 0x000002A7400739A0&gt;),\n",
       "                (&#x27;drop_variables&#x27;,\n",
       "                 &lt;app_utilities.preprocessing.FromColumnDropper object at 0x000002A73FF28220&gt;),\n",
       "                (&#x27;pivot&#x27;,\n",
       "                 &lt;app_utilities.preprocessing.Pivoter object at 0x000002A73FF28DC0&gt;),\n",
       "                (&#x27;rename&#x27;,\n",
       "                 &lt;app_utilities.preprocessing.ColumnRenamer object at 0x000002A73FF280A0&gt;)])</pre></div></div></div><div class=\"sk-serial\"><div class=\"sk-item\"><div class=\"sk-estimator sk-toggleable\"><input class=\"sk-toggleable__control sk-hidden--visually\" id=\"sk-estimator-id-2\" type=\"checkbox\" ><label for=\"sk-estimator-id-2\" class=\"sk-toggleable__label sk-toggleable__label-arrow\">ColumnDropper</label><div class=\"sk-toggleable__content\"><pre>&lt;app_utilities.preprocessing.ColumnDropper object at 0x000002A740073580&gt;</pre></div></div></div><div class=\"sk-item\"><div class=\"sk-estimator sk-toggleable\"><input class=\"sk-toggleable__control sk-hidden--visually\" id=\"sk-estimator-id-3\" type=\"checkbox\" ><label for=\"sk-estimator-id-3\" class=\"sk-toggleable__label sk-toggleable__label-arrow\">FromColumnDropper</label><div class=\"sk-toggleable__content\"><pre>&lt;app_utilities.preprocessing.FromColumnDropper object at 0x000002A7400739A0&gt;</pre></div></div></div><div class=\"sk-item\"><div class=\"sk-estimator sk-toggleable\"><input class=\"sk-toggleable__control sk-hidden--visually\" id=\"sk-estimator-id-4\" type=\"checkbox\" ><label for=\"sk-estimator-id-4\" class=\"sk-toggleable__label sk-toggleable__label-arrow\">FromColumnDropper</label><div class=\"sk-toggleable__content\"><pre>&lt;app_utilities.preprocessing.FromColumnDropper object at 0x000002A73FF28220&gt;</pre></div></div></div><div class=\"sk-item\"><div class=\"sk-estimator sk-toggleable\"><input class=\"sk-toggleable__control sk-hidden--visually\" id=\"sk-estimator-id-5\" type=\"checkbox\" ><label for=\"sk-estimator-id-5\" class=\"sk-toggleable__label sk-toggleable__label-arrow\">Pivoter</label><div class=\"sk-toggleable__content\"><pre>&lt;app_utilities.preprocessing.Pivoter object at 0x000002A73FF28DC0&gt;</pre></div></div></div><div class=\"sk-item\"><div class=\"sk-estimator sk-toggleable\"><input class=\"sk-toggleable__control sk-hidden--visually\" id=\"sk-estimator-id-6\" type=\"checkbox\" ><label for=\"sk-estimator-id-6\" class=\"sk-toggleable__label sk-toggleable__label-arrow\">ColumnRenamer</label><div class=\"sk-toggleable__content\"><pre>&lt;app_utilities.preprocessing.ColumnRenamer object at 0x000002A73FF280A0&gt;</pre></div></div></div></div></div></div></div>"
      ],
      "text/plain": [
       "Pipeline(steps=[('initial_drop_columns',\n",
       "                 <app_utilities.preprocessing.ColumnDropper object at 0x000002A740073580>),\n",
       "                ('drop_countries',\n",
       "                 <app_utilities.preprocessing.FromColumnDropper object at 0x000002A7400739A0>),\n",
       "                ('drop_variables',\n",
       "                 <app_utilities.preprocessing.FromColumnDropper object at 0x000002A73FF28220>),\n",
       "                ('pivot',\n",
       "                 <app_utilities.preprocessing.Pivoter object at 0x000002A73FF28DC0>),\n",
       "                ('rename',\n",
       "                 <app_utilities.preprocessing.ColumnRenamer object at 0x000002A73FF280A0>)])"
      ]
     },
     "execution_count": 5,
     "metadata": {},
     "output_type": "execute_result"
    }
   ],
   "source": [
    "pre_split_processor = get_pre_split_processor()\n",
    "pre_split_processor"
   ]
  },
  {
   "cell_type": "code",
   "execution_count": null,
   "metadata": {},
   "outputs": [],
   "source": [
    "df_pre = pre_split_processor.transform(df)"
   ]
  },
  {
   "cell_type": "code",
   "execution_count": null,
   "metadata": {},
   "outputs": [
    {
     "data": {
      "text/plain": [
       "(8575, 41)"
      ]
     },
     "execution_count": 7,
     "metadata": {},
     "output_type": "execute_result"
    }
   ],
   "source": [
    "df_pre.shape"
   ]
  },
  {
   "cell_type": "code",
   "execution_count": null,
   "metadata": {},
   "outputs": [
    {
     "data": {
      "text/plain": [
       "Index(['country', 'year',\n",
       "       '%_of_agricultural_gva_produced_by_irrigated_agriculture',\n",
       "       '%_of_agricultural_water_managed_area_equipped_for_irrigation',\n",
       "       '%_of_total_country_area_cultivated', 'agricultural_water_withdrawal',\n",
       "       'agricultural_water_withdrawal_as_%_of_total_renewable_water_resources',\n",
       "       'agricultural_water_withdrawal_as_%_of_total_water_withdrawal',\n",
       "       'agriculture_value_added_%_gdp',\n",
       "       'cultivated_area_arable_land_plus_permanent_crops',\n",
       "       'dam_capacity_per_capita', 'dependency_ratio', 'gdp_per_capita',\n",
       "       'groundwater_accounted_inflow',\n",
       "       'groundwater_entering_the_country_total', 'industrial_water_withdrawal',\n",
       "       'municipal_water_withdrawal', 'national_rainfall_index',\n",
       "       'population_density', 'ratio_between_rainfed_and_irrigated_yields',\n",
       "       'rural_population', 'industrial_water_use_efficiency',\n",
       "       'irrigated_agriculture_water_use_efficiency',\n",
       "       'services_water_use_efficiency', 'water_use_efficiency', 'water_stress',\n",
       "       'surface_water_entering_the_country_total',\n",
       "       'surface_water_leaving_the_country_to_other_countries_total',\n",
       "       'total_agricultural_water_managed_area',\n",
       "       'total_area_of_the_country_excl_coastal_water', 'total_dam_capacity',\n",
       "       'total_internal_renewable_water_resources',\n",
       "       'total_internal_renewable_water_resources_per_capita',\n",
       "       'total_population',\n",
       "       'total_population_with_access_to_safe_drinking_water',\n",
       "       'total_renewable_groundwater',\n",
       "       'total_renewable_water_resources_per_capita', 'total_water_withdrawal',\n",
       "       'total_water_withdrawal_per_capita', 'urban_population',\n",
       "       'water_resources_total_external_renewable'],\n",
       "      dtype='object')"
      ]
     },
     "execution_count": 8,
     "metadata": {},
     "output_type": "execute_result"
    }
   ],
   "source": [
    "df_pre.columns"
   ]
  },
  {
   "cell_type": "markdown",
   "metadata": {},
   "source": [
    "limit years here!"
   ]
  },
  {
   "cell_type": "code",
   "execution_count": null,
   "metadata": {},
   "outputs": [],
   "source": [
    "df_pre = df_pre.query(\"year > 2010\")\n",
    "df_pre_2020 = df_pre.query(\"year == 2020\")"
   ]
  },
  {
   "cell_type": "markdown",
   "metadata": {},
   "source": [
    "splitting"
   ]
  },
  {
   "cell_type": "code",
   "execution_count": null,
   "metadata": {},
   "outputs": [],
   "source": [
    "targets = ['gdp_per_capita', 'water_stress', 'total_population_with_access_to_safe_drinking_water']\n",
    "\n",
    "Y = df_pre[targets]\n",
    "X = df_pre.drop(columns=targets)\n",
    "\n",
    "X_train, X_pretest, Y_train, Y_pretest = train_test_split(X, Y, test_size=0.30, random_state=RSEED, stratify=X.country)\n",
    "X_test, X_valid, Y_test, Y_valid = train_test_split(X_pretest, Y_pretest, test_size=0.50, random_state=RSEED, stratify=X_pretest.country)"
   ]
  },
  {
   "cell_type": "code",
   "execution_count": null,
   "metadata": {},
   "outputs": [],
   "source": [
    "df_targets_2020 = df_pre_2020[[\"country\"]+targets]\n",
    "\n",
    "# with open(\"targets_2020.pkl\", \"wb\") as file:\n",
    "#     pkl.dump(df_targets_2020, file)\n",
    "df_targets_2020.to_csv(\"targets_2020.csv\")"
   ]
  },
  {
   "cell_type": "code",
   "execution_count": null,
   "metadata": {},
   "outputs": [
    {
     "name": "stderr",
     "output_type": "stream",
     "text": [
      "C:\\Users\\soa\\AppData\\Local\\Temp\\ipykernel_11984\\3642842298.py:1: SettingWithCopyWarning: \n",
      "A value is trying to be set on a copy of a slice from a DataFrame\n",
      "\n",
      "See the caveats in the documentation: https://pandas.pydata.org/pandas-docs/stable/user_guide/indexing.html#returning-a-view-versus-a-copy\n",
      "  df_pre_2020.drop(columns=targets, inplace=True)\n"
     ]
    }
   ],
   "source": [
    "df_pre_2020.drop(columns=targets, inplace=True)\n",
    "\n",
    "# with open(\"data_2020.pkl\", \"wb\") as file:\n",
    "#     pkl.dump(df_pre_2020, file)\n",
    "df_pre_2020.to_csv(\"data_2020.csv\")"
   ]
  },
  {
   "cell_type": "code",
   "execution_count": null,
   "metadata": {},
   "outputs": [
    {
     "data": {
      "text/html": [
       "<div>\n",
       "<style scoped>\n",
       "    .dataframe tbody tr th:only-of-type {\n",
       "        vertical-align: middle;\n",
       "    }\n",
       "\n",
       "    .dataframe tbody tr th {\n",
       "        vertical-align: top;\n",
       "    }\n",
       "\n",
       "    .dataframe thead th {\n",
       "        text-align: right;\n",
       "    }\n",
       "</style>\n",
       "<table border=\"1\" class=\"dataframe\">\n",
       "  <thead>\n",
       "    <tr style=\"text-align: right;\">\n",
       "      <th></th>\n",
       "      <th>country</th>\n",
       "      <th>year</th>\n",
       "      <th>%_of_agricultural_gva_produced_by_irrigated_agriculture</th>\n",
       "      <th>%_of_agricultural_water_managed_area_equipped_for_irrigation</th>\n",
       "      <th>%_of_total_country_area_cultivated</th>\n",
       "      <th>agricultural_water_withdrawal</th>\n",
       "      <th>agricultural_water_withdrawal_as_%_of_total_renewable_water_resources</th>\n",
       "      <th>agricultural_water_withdrawal_as_%_of_total_water_withdrawal</th>\n",
       "      <th>agriculture_value_added_%_gdp</th>\n",
       "      <th>cultivated_area_arable_land_plus_permanent_crops</th>\n",
       "      <th>...</th>\n",
       "      <th>total_dam_capacity</th>\n",
       "      <th>total_internal_renewable_water_resources</th>\n",
       "      <th>total_internal_renewable_water_resources_per_capita</th>\n",
       "      <th>total_population</th>\n",
       "      <th>total_renewable_groundwater</th>\n",
       "      <th>total_renewable_water_resources_per_capita</th>\n",
       "      <th>total_water_withdrawal</th>\n",
       "      <th>total_water_withdrawal_per_capita</th>\n",
       "      <th>urban_population</th>\n",
       "      <th>water_resources_total_external_renewable</th>\n",
       "    </tr>\n",
       "  </thead>\n",
       "  <tbody>\n",
       "    <tr>\n",
       "      <th>4360</th>\n",
       "      <td>Kyrgyzstan</td>\n",
       "      <td>2018</td>\n",
       "      <td>84.633588</td>\n",
       "      <td>100.000000</td>\n",
       "      <td>6.826741</td>\n",
       "      <td>7.100000</td>\n",
       "      <td>30.061817</td>\n",
       "      <td>92.689295</td>\n",
       "      <td>11.675286</td>\n",
       "      <td>1365.00</td>\n",
       "      <td>...</td>\n",
       "      <td>23.570000</td>\n",
       "      <td>48.930</td>\n",
       "      <td>7761.701642</td>\n",
       "      <td>6304.030</td>\n",
       "      <td>13.690</td>\n",
       "      <td>3746.492323</td>\n",
       "      <td>7.6600</td>\n",
       "      <td>1215.095740</td>\n",
       "      <td>2229.369</td>\n",
       "      <td>-25.312</td>\n",
       "    </tr>\n",
       "    <tr>\n",
       "      <th>5152</th>\n",
       "      <td>Mauritius</td>\n",
       "      <td>2011</td>\n",
       "      <td>32.117931</td>\n",
       "      <td>100.000000</td>\n",
       "      <td>40.196078</td>\n",
       "      <td>0.356000</td>\n",
       "      <td>12.940749</td>\n",
       "      <td>62.346760</td>\n",
       "      <td>3.703648</td>\n",
       "      <td>82.00</td>\n",
       "      <td>...</td>\n",
       "      <td>0.092870</td>\n",
       "      <td>2.751</td>\n",
       "      <td>2198.900150</td>\n",
       "      <td>1251.080</td>\n",
       "      <td>0.893</td>\n",
       "      <td>2198.900150</td>\n",
       "      <td>0.5710</td>\n",
       "      <td>456.405666</td>\n",
       "      <td>518.469</td>\n",
       "      <td>0.000</td>\n",
       "    </tr>\n",
       "    <tr>\n",
       "      <th>2073</th>\n",
       "      <td>Czechia</td>\n",
       "      <td>2012</td>\n",
       "      <td>1.262949</td>\n",
       "      <td>100.000000</td>\n",
       "      <td>32.435020</td>\n",
       "      <td>0.043200</td>\n",
       "      <td>0.328517</td>\n",
       "      <td>2.346551</td>\n",
       "      <td>2.251186</td>\n",
       "      <td>2558.15</td>\n",
       "      <td>...</td>\n",
       "      <td>3.184300</td>\n",
       "      <td>13.150</td>\n",
       "      <td>1242.759273</td>\n",
       "      <td>10581.293</td>\n",
       "      <td>1.430</td>\n",
       "      <td>1242.759273</td>\n",
       "      <td>1.8410</td>\n",
       "      <td>173.986298</td>\n",
       "      <td>7749.174</td>\n",
       "      <td>0.000</td>\n",
       "    </tr>\n",
       "    <tr>\n",
       "      <th>4269</th>\n",
       "      <td>Kenya</td>\n",
       "      <td>2013</td>\n",
       "      <td>3.132026</td>\n",
       "      <td>100.000000</td>\n",
       "      <td>10.906835</td>\n",
       "      <td>1.907711</td>\n",
       "      <td>6.214043</td>\n",
       "      <td>59.260410</td>\n",
       "      <td>17.052016</td>\n",
       "      <td>6330.00</td>\n",
       "      <td>...</td>\n",
       "      <td>24.773275</td>\n",
       "      <td>20.700</td>\n",
       "      <td>454.745357</td>\n",
       "      <td>45519.981</td>\n",
       "      <td>3.500</td>\n",
       "      <td>674.429104</td>\n",
       "      <td>3.2192</td>\n",
       "      <td>70.720592</td>\n",
       "      <td>11114.158</td>\n",
       "      <td>10.000</td>\n",
       "    </tr>\n",
       "    <tr>\n",
       "      <th>5096</th>\n",
       "      <td>Mauritania</td>\n",
       "      <td>2012</td>\n",
       "      <td>27.765060</td>\n",
       "      <td>41.377091</td>\n",
       "      <td>0.398758</td>\n",
       "      <td>1.223000</td>\n",
       "      <td>10.728070</td>\n",
       "      <td>90.579173</td>\n",
       "      <td>16.085961</td>\n",
       "      <td>411.00</td>\n",
       "      <td>...</td>\n",
       "      <td>0.500000</td>\n",
       "      <td>0.400</td>\n",
       "      <td>107.916920</td>\n",
       "      <td>3706.555</td>\n",
       "      <td>0.300</td>\n",
       "      <td>3075.632225</td>\n",
       "      <td>1.3502</td>\n",
       "      <td>364.273564</td>\n",
       "      <td>1853.842</td>\n",
       "      <td>11.000</td>\n",
       "    </tr>\n",
       "  </tbody>\n",
       "</table>\n",
       "<p>5 rows × 38 columns</p>\n",
       "</div>"
      ],
      "text/plain": [
       "         country  year  \\\n",
       "4360  Kyrgyzstan  2018   \n",
       "5152   Mauritius  2011   \n",
       "2073     Czechia  2012   \n",
       "4269       Kenya  2013   \n",
       "5096  Mauritania  2012   \n",
       "\n",
       "      %_of_agricultural_gva_produced_by_irrigated_agriculture  \\\n",
       "4360                                          84.633588         \n",
       "5152                                          32.117931         \n",
       "2073                                           1.262949         \n",
       "4269                                           3.132026         \n",
       "5096                                          27.765060         \n",
       "\n",
       "      %_of_agricultural_water_managed_area_equipped_for_irrigation  \\\n",
       "4360                                         100.000000              \n",
       "5152                                         100.000000              \n",
       "2073                                         100.000000              \n",
       "4269                                         100.000000              \n",
       "5096                                          41.377091              \n",
       "\n",
       "      %_of_total_country_area_cultivated  agricultural_water_withdrawal  \\\n",
       "4360                            6.826741                       7.100000   \n",
       "5152                           40.196078                       0.356000   \n",
       "2073                           32.435020                       0.043200   \n",
       "4269                           10.906835                       1.907711   \n",
       "5096                            0.398758                       1.223000   \n",
       "\n",
       "      agricultural_water_withdrawal_as_%_of_total_renewable_water_resources  \\\n",
       "4360                                          30.061817                       \n",
       "5152                                          12.940749                       \n",
       "2073                                           0.328517                       \n",
       "4269                                           6.214043                       \n",
       "5096                                          10.728070                       \n",
       "\n",
       "      agricultural_water_withdrawal_as_%_of_total_water_withdrawal  \\\n",
       "4360                                          92.689295              \n",
       "5152                                          62.346760              \n",
       "2073                                           2.346551              \n",
       "4269                                          59.260410              \n",
       "5096                                          90.579173              \n",
       "\n",
       "      agriculture_value_added_%_gdp  \\\n",
       "4360                      11.675286   \n",
       "5152                       3.703648   \n",
       "2073                       2.251186   \n",
       "4269                      17.052016   \n",
       "5096                      16.085961   \n",
       "\n",
       "      cultivated_area_arable_land_plus_permanent_crops  ...  \\\n",
       "4360                                           1365.00  ...   \n",
       "5152                                             82.00  ...   \n",
       "2073                                           2558.15  ...   \n",
       "4269                                           6330.00  ...   \n",
       "5096                                            411.00  ...   \n",
       "\n",
       "      total_dam_capacity  total_internal_renewable_water_resources  \\\n",
       "4360           23.570000                                    48.930   \n",
       "5152            0.092870                                     2.751   \n",
       "2073            3.184300                                    13.150   \n",
       "4269           24.773275                                    20.700   \n",
       "5096            0.500000                                     0.400   \n",
       "\n",
       "      total_internal_renewable_water_resources_per_capita  total_population  \\\n",
       "4360                                        7761.701642            6304.030   \n",
       "5152                                        2198.900150            1251.080   \n",
       "2073                                        1242.759273           10581.293   \n",
       "4269                                         454.745357           45519.981   \n",
       "5096                                         107.916920            3706.555   \n",
       "\n",
       "      total_renewable_groundwater  total_renewable_water_resources_per_capita  \\\n",
       "4360                       13.690                                 3746.492323   \n",
       "5152                        0.893                                 2198.900150   \n",
       "2073                        1.430                                 1242.759273   \n",
       "4269                        3.500                                  674.429104   \n",
       "5096                        0.300                                 3075.632225   \n",
       "\n",
       "      total_water_withdrawal  total_water_withdrawal_per_capita  \\\n",
       "4360                  7.6600                        1215.095740   \n",
       "5152                  0.5710                         456.405666   \n",
       "2073                  1.8410                         173.986298   \n",
       "4269                  3.2192                          70.720592   \n",
       "5096                  1.3502                         364.273564   \n",
       "\n",
       "      urban_population  water_resources_total_external_renewable  \n",
       "4360          2229.369                                   -25.312  \n",
       "5152           518.469                                     0.000  \n",
       "2073          7749.174                                     0.000  \n",
       "4269         11114.158                                    10.000  \n",
       "5096          1853.842                                    11.000  \n",
       "\n",
       "[5 rows x 38 columns]"
      ]
     },
     "execution_count": 13,
     "metadata": {},
     "output_type": "execute_result"
    }
   ],
   "source": [
    "X_train.head()"
   ]
  },
  {
   "cell_type": "code",
   "execution_count": null,
   "metadata": {},
   "outputs": [],
   "source": [
    "full_preprocessor = get_full_preprocessor(X_train.columns.to_list(), hot=False)\n",
    "\n",
    "X_train_pre = full_preprocessor.fit_transform(X_train)\n",
    "X_valid_pre = full_preprocessor.transform(X_valid)"
   ]
  },
  {
   "cell_type": "code",
   "execution_count": null,
   "metadata": {},
   "outputs": [],
   "source": [
    "# with open(\"preprocessor.pkl\", \"wb\") as file:\n",
    "#     pkl.dump(full_preprocessor, file)"
   ]
  },
  {
   "cell_type": "code",
   "execution_count": null,
   "metadata": {},
   "outputs": [
    {
     "data": {
      "text/html": [
       "<div>\n",
       "<style scoped>\n",
       "    .dataframe tbody tr th:only-of-type {\n",
       "        vertical-align: middle;\n",
       "    }\n",
       "\n",
       "    .dataframe tbody tr th {\n",
       "        vertical-align: top;\n",
       "    }\n",
       "\n",
       "    .dataframe thead th {\n",
       "        text-align: right;\n",
       "    }\n",
       "</style>\n",
       "<table border=\"1\" class=\"dataframe\">\n",
       "  <thead>\n",
       "    <tr style=\"text-align: right;\">\n",
       "      <th></th>\n",
       "      <th>year</th>\n",
       "      <th>%_of_agricultural_gva_produced_by_irrigated_agriculture</th>\n",
       "      <th>%_of_agricultural_water_managed_area_equipped_for_irrigation</th>\n",
       "      <th>%_of_total_country_area_cultivated</th>\n",
       "      <th>agricultural_water_withdrawal</th>\n",
       "      <th>agricultural_water_withdrawal_as_%_of_total_renewable_water_resources</th>\n",
       "      <th>agricultural_water_withdrawal_as_%_of_total_water_withdrawal</th>\n",
       "      <th>agriculture_value_added_%_gdp</th>\n",
       "      <th>cultivated_area_arable_land_plus_permanent_crops</th>\n",
       "      <th>dam_capacity_per_capita</th>\n",
       "      <th>...</th>\n",
       "      <th>total_internal_renewable_water_resources</th>\n",
       "      <th>total_internal_renewable_water_resources_per_capita</th>\n",
       "      <th>total_population</th>\n",
       "      <th>total_renewable_groundwater</th>\n",
       "      <th>total_renewable_water_resources_per_capita</th>\n",
       "      <th>total_water_withdrawal</th>\n",
       "      <th>total_water_withdrawal_per_capita</th>\n",
       "      <th>urban_population</th>\n",
       "      <th>water_resources_total_external_renewable</th>\n",
       "      <th>country</th>\n",
       "    </tr>\n",
       "  </thead>\n",
       "  <tbody>\n",
       "    <tr>\n",
       "      <th>4360</th>\n",
       "      <td>0.884087</td>\n",
       "      <td>1.489056</td>\n",
       "      <td>0.426955</td>\n",
       "      <td>-0.625666</td>\n",
       "      <td>0.651579</td>\n",
       "      <td>0.907818</td>\n",
       "      <td>1.137040</td>\n",
       "      <td>0.336820</td>\n",
       "      <td>-0.183027</td>\n",
       "      <td>0.623850</td>\n",
       "      <td>...</td>\n",
       "      <td>0.180948</td>\n",
       "      <td>0.380207</td>\n",
       "      <td>-0.368034</td>\n",
       "      <td>0.200534</td>\n",
       "      <td>-0.077096</td>\n",
       "      <td>0.439879</td>\n",
       "      <td>1.475159</td>\n",
       "      <td>-0.626130</td>\n",
       "      <td>-0.364138</td>\n",
       "      <td>Kyrgyzstan</td>\n",
       "    </tr>\n",
       "    <tr>\n",
       "      <th>5152</th>\n",
       "      <td>-1.571950</td>\n",
       "      <td>0.552681</td>\n",
       "      <td>0.426955</td>\n",
       "      <td>1.310835</td>\n",
       "      <td>-0.402517</td>\n",
       "      <td>0.611140</td>\n",
       "      <td>0.173611</td>\n",
       "      <td>-0.634211</td>\n",
       "      <td>-1.610545</td>\n",
       "      <td>0.207509</td>\n",
       "      <td>...</td>\n",
       "      <td>-0.735133</td>\n",
       "      <td>-0.024378</td>\n",
       "      <td>-1.389866</td>\n",
       "      <td>-0.479137</td>\n",
       "      <td>-0.362993</td>\n",
       "      <td>-0.797719</td>\n",
       "      <td>0.296595</td>\n",
       "      <td>-1.530502</td>\n",
       "      <td>-0.269714</td>\n",
       "      <td>Mauritius</td>\n",
       "    </tr>\n",
       "    <tr>\n",
       "      <th>2073</th>\n",
       "      <td>-1.221088</td>\n",
       "      <td>-1.068290</td>\n",
       "      <td>0.426955</td>\n",
       "      <td>1.011327</td>\n",
       "      <td>-1.145332</td>\n",
       "      <td>-0.681893</td>\n",
       "      <td>-1.731500</td>\n",
       "      <td>-0.952666</td>\n",
       "      <td>0.135823</td>\n",
       "      <td>0.356196</td>\n",
       "      <td>...</td>\n",
       "      <td>-0.237233</td>\n",
       "      <td>-0.207424</td>\n",
       "      <td>-0.040795</td>\n",
       "      <td>-0.361907</td>\n",
       "      <td>-0.669149</td>\n",
       "      <td>-0.239701</td>\n",
       "      <td>-0.542871</td>\n",
       "      <td>0.146346</td>\n",
       "      <td>-0.269714</td>\n",
       "      <td>Czechia</td>\n",
       "    </tr>\n",
       "    <tr>\n",
       "      <th>4269</th>\n",
       "      <td>-0.870225</td>\n",
       "      <td>-0.772976</td>\n",
       "      <td>0.426955</td>\n",
       "      <td>-0.219407</td>\n",
       "      <td>0.188725</td>\n",
       "      <td>0.352934</td>\n",
       "      <td>0.075614</td>\n",
       "      <td>0.747781</td>\n",
       "      <td>0.595733</td>\n",
       "      <td>0.419132</td>\n",
       "      <td>...</td>\n",
       "      <td>-0.092836</td>\n",
       "      <td>-0.529923</td>\n",
       "      <td>0.881129</td>\n",
       "      <td>-0.139049</td>\n",
       "      <td>-0.997088</td>\n",
       "      <td>0.026670</td>\n",
       "      <td>-1.116847</td>\n",
       "      <td>0.369950</td>\n",
       "      <td>-0.232410</td>\n",
       "      <td>Kenya</td>\n",
       "    </tr>\n",
       "    <tr>\n",
       "      <th>5096</th>\n",
       "      <td>-1.221088</td>\n",
       "      <td>0.436291</td>\n",
       "      <td>-2.062436</td>\n",
       "      <td>-2.096523</td>\n",
       "      <td>0.032140</td>\n",
       "      <td>0.545136</td>\n",
       "      <td>1.070040</td>\n",
       "      <td>0.681079</td>\n",
       "      <td>-0.792329</td>\n",
       "      <td>0.270960</td>\n",
       "      <td>...</td>\n",
       "      <td>-1.348815</td>\n",
       "      <td>-0.991328</td>\n",
       "      <td>-0.703606</td>\n",
       "      <td>-0.750725</td>\n",
       "      <td>-0.182959</td>\n",
       "      <td>-0.387494</td>\n",
       "      <td>0.075508</td>\n",
       "      <td>-0.740499</td>\n",
       "      <td>-0.228680</td>\n",
       "      <td>Mauritania</td>\n",
       "    </tr>\n",
       "  </tbody>\n",
       "</table>\n",
       "<p>5 rows × 38 columns</p>\n",
       "</div>"
      ],
      "text/plain": [
       "          year  %_of_agricultural_gva_produced_by_irrigated_agriculture  \\\n",
       "4360  0.884087                                           1.489056         \n",
       "5152 -1.571950                                           0.552681         \n",
       "2073 -1.221088                                          -1.068290         \n",
       "4269 -0.870225                                          -0.772976         \n",
       "5096 -1.221088                                           0.436291         \n",
       "\n",
       "      %_of_agricultural_water_managed_area_equipped_for_irrigation  \\\n",
       "4360                                           0.426955              \n",
       "5152                                           0.426955              \n",
       "2073                                           0.426955              \n",
       "4269                                           0.426955              \n",
       "5096                                          -2.062436              \n",
       "\n",
       "      %_of_total_country_area_cultivated  agricultural_water_withdrawal  \\\n",
       "4360                           -0.625666                       0.651579   \n",
       "5152                            1.310835                      -0.402517   \n",
       "2073                            1.011327                      -1.145332   \n",
       "4269                           -0.219407                       0.188725   \n",
       "5096                           -2.096523                       0.032140   \n",
       "\n",
       "      agricultural_water_withdrawal_as_%_of_total_renewable_water_resources  \\\n",
       "4360                                           0.907818                       \n",
       "5152                                           0.611140                       \n",
       "2073                                          -0.681893                       \n",
       "4269                                           0.352934                       \n",
       "5096                                           0.545136                       \n",
       "\n",
       "      agricultural_water_withdrawal_as_%_of_total_water_withdrawal  \\\n",
       "4360                                           1.137040              \n",
       "5152                                           0.173611              \n",
       "2073                                          -1.731500              \n",
       "4269                                           0.075614              \n",
       "5096                                           1.070040              \n",
       "\n",
       "      agriculture_value_added_%_gdp  \\\n",
       "4360                       0.336820   \n",
       "5152                      -0.634211   \n",
       "2073                      -0.952666   \n",
       "4269                       0.747781   \n",
       "5096                       0.681079   \n",
       "\n",
       "      cultivated_area_arable_land_plus_permanent_crops  \\\n",
       "4360                                         -0.183027   \n",
       "5152                                         -1.610545   \n",
       "2073                                          0.135823   \n",
       "4269                                          0.595733   \n",
       "5096                                         -0.792329   \n",
       "\n",
       "      dam_capacity_per_capita  ...  total_internal_renewable_water_resources  \\\n",
       "4360                 0.623850  ...                                  0.180948   \n",
       "5152                 0.207509  ...                                 -0.735133   \n",
       "2073                 0.356196  ...                                 -0.237233   \n",
       "4269                 0.419132  ...                                 -0.092836   \n",
       "5096                 0.270960  ...                                 -1.348815   \n",
       "\n",
       "      total_internal_renewable_water_resources_per_capita  total_population  \\\n",
       "4360                                           0.380207           -0.368034   \n",
       "5152                                          -0.024378           -1.389866   \n",
       "2073                                          -0.207424           -0.040795   \n",
       "4269                                          -0.529923            0.881129   \n",
       "5096                                          -0.991328           -0.703606   \n",
       "\n",
       "      total_renewable_groundwater  total_renewable_water_resources_per_capita  \\\n",
       "4360                     0.200534                                   -0.077096   \n",
       "5152                    -0.479137                                   -0.362993   \n",
       "2073                    -0.361907                                   -0.669149   \n",
       "4269                    -0.139049                                   -0.997088   \n",
       "5096                    -0.750725                                   -0.182959   \n",
       "\n",
       "      total_water_withdrawal  total_water_withdrawal_per_capita  \\\n",
       "4360                0.439879                           1.475159   \n",
       "5152               -0.797719                           0.296595   \n",
       "2073               -0.239701                          -0.542871   \n",
       "4269                0.026670                          -1.116847   \n",
       "5096               -0.387494                           0.075508   \n",
       "\n",
       "      urban_population  water_resources_total_external_renewable     country  \n",
       "4360         -0.626130                                 -0.364138  Kyrgyzstan  \n",
       "5152         -1.530502                                 -0.269714   Mauritius  \n",
       "2073          0.146346                                 -0.269714     Czechia  \n",
       "4269          0.369950                                 -0.232410       Kenya  \n",
       "5096         -0.740499                                 -0.228680  Mauritania  \n",
       "\n",
       "[5 rows x 38 columns]"
      ]
     },
     "execution_count": 16,
     "metadata": {},
     "output_type": "execute_result"
    }
   ],
   "source": [
    "X_train_pre.head()"
   ]
  },
  {
   "cell_type": "code",
   "execution_count": null,
   "metadata": {},
   "outputs": [
    {
     "name": "stdout",
     "output_type": "stream",
     "text": [
      "(1139, 38)\n",
      "(245, 38)\n"
     ]
    }
   ],
   "source": [
    "print(X_train_pre.shape)\n",
    "print(X_valid_pre.shape)"
   ]
  },
  {
   "cell_type": "code",
   "execution_count": null,
   "metadata": {},
   "outputs": [
    {
     "name": "stdout",
     "output_type": "stream",
     "text": [
      "NaNs in train:  0\n",
      "NaNs in valid:  0\n"
     ]
    }
   ],
   "source": [
    "# for k,v in X_train_pre.isna().sum().to_dict().items():\n",
    "#     print(k, v)\n",
    "print(\"NaNs in train: \", X_train_pre.isna().sum().sum())\n",
    "print(\"NaNs in valid: \", X_valid_pre.isna().sum().sum())"
   ]
  },
  {
   "cell_type": "code",
   "execution_count": null,
   "metadata": {},
   "outputs": [],
   "source": [
    "hot_preprocessor = get_full_preprocessor(X_train.columns.to_list())\n",
    "\n",
    "X_train_hot = hot_preprocessor.fit_transform(X_train)\n",
    "X_valid_hot = hot_preprocessor.transform(X_valid)"
   ]
  },
  {
   "cell_type": "code",
   "execution_count": null,
   "metadata": {},
   "outputs": [],
   "source": [
    "# with open(\"hot_preprocessor.pkl\", \"wb\") as file:\n",
    "#     pkl.dump(hot_preprocessor, file)"
   ]
  },
  {
   "cell_type": "code",
   "execution_count": null,
   "metadata": {},
   "outputs": [
    {
     "data": {
      "text/html": [
       "<div>\n",
       "<style scoped>\n",
       "    .dataframe tbody tr th:only-of-type {\n",
       "        vertical-align: middle;\n",
       "    }\n",
       "\n",
       "    .dataframe tbody tr th {\n",
       "        vertical-align: top;\n",
       "    }\n",
       "\n",
       "    .dataframe thead th {\n",
       "        text-align: right;\n",
       "    }\n",
       "</style>\n",
       "<table border=\"1\" class=\"dataframe\">\n",
       "  <thead>\n",
       "    <tr style=\"text-align: right;\">\n",
       "      <th></th>\n",
       "      <th>num__year</th>\n",
       "      <th>num__%_of_agricultural_gva_produced_by_irrigated_agriculture</th>\n",
       "      <th>num__%_of_agricultural_water_managed_area_equipped_for_irrigation</th>\n",
       "      <th>num__%_of_total_country_area_cultivated</th>\n",
       "      <th>num__agricultural_water_withdrawal</th>\n",
       "      <th>num__agricultural_water_withdrawal_as_%_of_total_renewable_water_resources</th>\n",
       "      <th>num__agricultural_water_withdrawal_as_%_of_total_water_withdrawal</th>\n",
       "      <th>num__agriculture_value_added_%_gdp</th>\n",
       "      <th>num__cultivated_area_arable_land_plus_permanent_crops</th>\n",
       "      <th>num__dam_capacity_per_capita</th>\n",
       "      <th>...</th>\n",
       "      <th>cat__country_United Kingdom of Great Britain and Northern Ireland</th>\n",
       "      <th>cat__country_United Republic of Tanzania</th>\n",
       "      <th>cat__country_United States of America</th>\n",
       "      <th>cat__country_Uruguay</th>\n",
       "      <th>cat__country_Uzbekistan</th>\n",
       "      <th>cat__country_Venezuela (Bolivarian Republic of)</th>\n",
       "      <th>cat__country_Viet Nam</th>\n",
       "      <th>cat__country_Yemen</th>\n",
       "      <th>cat__country_Zambia</th>\n",
       "      <th>cat__country_Zimbabwe</th>\n",
       "    </tr>\n",
       "  </thead>\n",
       "  <tbody>\n",
       "    <tr>\n",
       "      <th>4360</th>\n",
       "      <td>0.884087</td>\n",
       "      <td>1.489056</td>\n",
       "      <td>0.426955</td>\n",
       "      <td>-0.625666</td>\n",
       "      <td>0.651579</td>\n",
       "      <td>0.907818</td>\n",
       "      <td>1.137040</td>\n",
       "      <td>0.336820</td>\n",
       "      <td>-0.183027</td>\n",
       "      <td>0.623850</td>\n",
       "      <td>...</td>\n",
       "      <td>0.0</td>\n",
       "      <td>0.0</td>\n",
       "      <td>0.0</td>\n",
       "      <td>0.0</td>\n",
       "      <td>0.0</td>\n",
       "      <td>0.0</td>\n",
       "      <td>0.0</td>\n",
       "      <td>0.0</td>\n",
       "      <td>0.0</td>\n",
       "      <td>0.0</td>\n",
       "    </tr>\n",
       "    <tr>\n",
       "      <th>5152</th>\n",
       "      <td>-1.571950</td>\n",
       "      <td>0.552681</td>\n",
       "      <td>0.426955</td>\n",
       "      <td>1.310835</td>\n",
       "      <td>-0.402517</td>\n",
       "      <td>0.611140</td>\n",
       "      <td>0.173611</td>\n",
       "      <td>-0.634211</td>\n",
       "      <td>-1.610545</td>\n",
       "      <td>0.207509</td>\n",
       "      <td>...</td>\n",
       "      <td>0.0</td>\n",
       "      <td>0.0</td>\n",
       "      <td>0.0</td>\n",
       "      <td>0.0</td>\n",
       "      <td>0.0</td>\n",
       "      <td>0.0</td>\n",
       "      <td>0.0</td>\n",
       "      <td>0.0</td>\n",
       "      <td>0.0</td>\n",
       "      <td>0.0</td>\n",
       "    </tr>\n",
       "    <tr>\n",
       "      <th>2073</th>\n",
       "      <td>-1.221088</td>\n",
       "      <td>-1.068290</td>\n",
       "      <td>0.426955</td>\n",
       "      <td>1.011327</td>\n",
       "      <td>-1.145332</td>\n",
       "      <td>-0.681893</td>\n",
       "      <td>-1.731500</td>\n",
       "      <td>-0.952666</td>\n",
       "      <td>0.135823</td>\n",
       "      <td>0.356196</td>\n",
       "      <td>...</td>\n",
       "      <td>0.0</td>\n",
       "      <td>0.0</td>\n",
       "      <td>0.0</td>\n",
       "      <td>0.0</td>\n",
       "      <td>0.0</td>\n",
       "      <td>0.0</td>\n",
       "      <td>0.0</td>\n",
       "      <td>0.0</td>\n",
       "      <td>0.0</td>\n",
       "      <td>0.0</td>\n",
       "    </tr>\n",
       "    <tr>\n",
       "      <th>4269</th>\n",
       "      <td>-0.870225</td>\n",
       "      <td>-0.772976</td>\n",
       "      <td>0.426955</td>\n",
       "      <td>-0.219407</td>\n",
       "      <td>0.188725</td>\n",
       "      <td>0.352934</td>\n",
       "      <td>0.075614</td>\n",
       "      <td>0.747781</td>\n",
       "      <td>0.595733</td>\n",
       "      <td>0.419132</td>\n",
       "      <td>...</td>\n",
       "      <td>0.0</td>\n",
       "      <td>0.0</td>\n",
       "      <td>0.0</td>\n",
       "      <td>0.0</td>\n",
       "      <td>0.0</td>\n",
       "      <td>0.0</td>\n",
       "      <td>0.0</td>\n",
       "      <td>0.0</td>\n",
       "      <td>0.0</td>\n",
       "      <td>0.0</td>\n",
       "    </tr>\n",
       "    <tr>\n",
       "      <th>5096</th>\n",
       "      <td>-1.221088</td>\n",
       "      <td>0.436291</td>\n",
       "      <td>-2.062436</td>\n",
       "      <td>-2.096523</td>\n",
       "      <td>0.032140</td>\n",
       "      <td>0.545136</td>\n",
       "      <td>1.070040</td>\n",
       "      <td>0.681079</td>\n",
       "      <td>-0.792329</td>\n",
       "      <td>0.270960</td>\n",
       "      <td>...</td>\n",
       "      <td>0.0</td>\n",
       "      <td>0.0</td>\n",
       "      <td>0.0</td>\n",
       "      <td>0.0</td>\n",
       "      <td>0.0</td>\n",
       "      <td>0.0</td>\n",
       "      <td>0.0</td>\n",
       "      <td>0.0</td>\n",
       "      <td>0.0</td>\n",
       "      <td>0.0</td>\n",
       "    </tr>\n",
       "  </tbody>\n",
       "</table>\n",
       "<p>5 rows × 199 columns</p>\n",
       "</div>"
      ],
      "text/plain": [
       "      num__year  num__%_of_agricultural_gva_produced_by_irrigated_agriculture  \\\n",
       "4360   0.884087                                           1.489056              \n",
       "5152  -1.571950                                           0.552681              \n",
       "2073  -1.221088                                          -1.068290              \n",
       "4269  -0.870225                                          -0.772976              \n",
       "5096  -1.221088                                           0.436291              \n",
       "\n",
       "      num__%_of_agricultural_water_managed_area_equipped_for_irrigation  \\\n",
       "4360                                           0.426955                   \n",
       "5152                                           0.426955                   \n",
       "2073                                           0.426955                   \n",
       "4269                                           0.426955                   \n",
       "5096                                          -2.062436                   \n",
       "\n",
       "      num__%_of_total_country_area_cultivated  \\\n",
       "4360                                -0.625666   \n",
       "5152                                 1.310835   \n",
       "2073                                 1.011327   \n",
       "4269                                -0.219407   \n",
       "5096                                -2.096523   \n",
       "\n",
       "      num__agricultural_water_withdrawal  \\\n",
       "4360                            0.651579   \n",
       "5152                           -0.402517   \n",
       "2073                           -1.145332   \n",
       "4269                            0.188725   \n",
       "5096                            0.032140   \n",
       "\n",
       "      num__agricultural_water_withdrawal_as_%_of_total_renewable_water_resources  \\\n",
       "4360                                           0.907818                            \n",
       "5152                                           0.611140                            \n",
       "2073                                          -0.681893                            \n",
       "4269                                           0.352934                            \n",
       "5096                                           0.545136                            \n",
       "\n",
       "      num__agricultural_water_withdrawal_as_%_of_total_water_withdrawal  \\\n",
       "4360                                           1.137040                   \n",
       "5152                                           0.173611                   \n",
       "2073                                          -1.731500                   \n",
       "4269                                           0.075614                   \n",
       "5096                                           1.070040                   \n",
       "\n",
       "      num__agriculture_value_added_%_gdp  \\\n",
       "4360                            0.336820   \n",
       "5152                           -0.634211   \n",
       "2073                           -0.952666   \n",
       "4269                            0.747781   \n",
       "5096                            0.681079   \n",
       "\n",
       "      num__cultivated_area_arable_land_plus_permanent_crops  \\\n",
       "4360                                          -0.183027       \n",
       "5152                                          -1.610545       \n",
       "2073                                           0.135823       \n",
       "4269                                           0.595733       \n",
       "5096                                          -0.792329       \n",
       "\n",
       "      num__dam_capacity_per_capita  ...  \\\n",
       "4360                      0.623850  ...   \n",
       "5152                      0.207509  ...   \n",
       "2073                      0.356196  ...   \n",
       "4269                      0.419132  ...   \n",
       "5096                      0.270960  ...   \n",
       "\n",
       "      cat__country_United Kingdom of Great Britain and Northern Ireland  \\\n",
       "4360                                                0.0                   \n",
       "5152                                                0.0                   \n",
       "2073                                                0.0                   \n",
       "4269                                                0.0                   \n",
       "5096                                                0.0                   \n",
       "\n",
       "      cat__country_United Republic of Tanzania  \\\n",
       "4360                                       0.0   \n",
       "5152                                       0.0   \n",
       "2073                                       0.0   \n",
       "4269                                       0.0   \n",
       "5096                                       0.0   \n",
       "\n",
       "      cat__country_United States of America  cat__country_Uruguay  \\\n",
       "4360                                    0.0                   0.0   \n",
       "5152                                    0.0                   0.0   \n",
       "2073                                    0.0                   0.0   \n",
       "4269                                    0.0                   0.0   \n",
       "5096                                    0.0                   0.0   \n",
       "\n",
       "      cat__country_Uzbekistan  \\\n",
       "4360                      0.0   \n",
       "5152                      0.0   \n",
       "2073                      0.0   \n",
       "4269                      0.0   \n",
       "5096                      0.0   \n",
       "\n",
       "      cat__country_Venezuela (Bolivarian Republic of)  cat__country_Viet Nam  \\\n",
       "4360                                              0.0                    0.0   \n",
       "5152                                              0.0                    0.0   \n",
       "2073                                              0.0                    0.0   \n",
       "4269                                              0.0                    0.0   \n",
       "5096                                              0.0                    0.0   \n",
       "\n",
       "      cat__country_Yemen  cat__country_Zambia  cat__country_Zimbabwe  \n",
       "4360                 0.0                  0.0                    0.0  \n",
       "5152                 0.0                  0.0                    0.0  \n",
       "2073                 0.0                  0.0                    0.0  \n",
       "4269                 0.0                  0.0                    0.0  \n",
       "5096                 0.0                  0.0                    0.0  \n",
       "\n",
       "[5 rows x 199 columns]"
      ]
     },
     "execution_count": 21,
     "metadata": {},
     "output_type": "execute_result"
    }
   ],
   "source": [
    "X_train_hot.head()"
   ]
  },
  {
   "cell_type": "code",
   "execution_count": null,
   "metadata": {},
   "outputs": [
    {
     "name": "stdout",
     "output_type": "stream",
     "text": [
      "(1139, 199)\n",
      "(245, 199)\n",
      "NaNs in train:  0\n",
      "NaNs in valid:  0\n"
     ]
    }
   ],
   "source": [
    "print(X_train_hot.shape)\n",
    "print(X_valid_hot.shape)\n",
    "# for k,v in X_train_hot.isna().sum().to_dict().items():\n",
    "#     print(k, v)\n",
    "print(\"NaNs in train: \", X_train_hot.isna().sum().sum())\n",
    "print(\"NaNs in valid: \", X_valid_hot.isna().sum().sum())"
   ]
  },
  {
   "cell_type": "markdown",
   "metadata": {},
   "source": [
    "### using hot encoded countries"
   ]
  },
  {
   "cell_type": "markdown",
   "metadata": {},
   "source": [
    "PCA"
   ]
  },
  {
   "cell_type": "code",
   "execution_count": null,
   "metadata": {},
   "outputs": [],
   "source": [
    "hot_pca = PCA()\n",
    "\n",
    "X_train_hot_pca = hot_pca.fit_transform(X_train_hot.drop(columns=[\"num__year\"]))\n",
    "X_valid_hot_pca = hot_pca.transform(X_valid_hot.drop(columns=[\"num__year\"]))"
   ]
  },
  {
   "cell_type": "code",
   "execution_count": null,
   "metadata": {},
   "outputs": [],
   "source": [
    "# with open(\"pca.pkl\", \"wb\") as file:\n",
    "#     pkl.dump(hot_pca, file)"
   ]
  },
  {
   "cell_type": "code",
   "execution_count": null,
   "metadata": {},
   "outputs": [
    {
     "name": "stdout",
     "output_type": "stream",
     "text": [
      "(1139, 198)\n",
      "(245, 198)\n",
      "NaNs in train:  0\n",
      "NaNs in valid:  0\n"
     ]
    }
   ],
   "source": [
    "print(X_train_hot_pca.shape)\n",
    "print(X_valid_hot_pca.shape)\n",
    "# for k,v in X_train_hot_pca.isna().sum().to_dict().items():\n",
    "#     print(k, v)\n",
    "print(\"NaNs in train: \", X_train_hot_pca.isna().sum().sum())\n",
    "print(\"NaNs in valid: \", X_valid_hot_pca.isna().sum().sum())"
   ]
  },
  {
   "cell_type": "code",
   "execution_count": null,
   "metadata": {},
   "outputs": [
    {
     "data": {
      "text/plain": [
       "(0.98, 1.0)"
      ]
     },
     "execution_count": 26,
     "metadata": {},
     "output_type": "execute_result"
    },
    {
     "data": {
      "image/png": "[encoded data removed]",
      "text/plain": [
       "<Figure size 640x480 with 1 Axes>"
      ]
     },
     "metadata": {},
     "output_type": "display_data"
    }
   ],
   "source": [
    "plt.plot(hot_pca.explained_variance_ratio_.cumsum())\n",
    "plt.plot([0.99]*199)\n",
    "plt.ylim(0.98, 1)"
   ]
  },
  {
   "cell_type": "markdown",
   "metadata": {},
   "source": [
    "--> take 100 components"
   ]
  },
  {
   "cell_type": "code",
   "execution_count": null,
   "metadata": {},
   "outputs": [
    {
     "data": {
      "text/html": [
       "<div>\n",
       "<style scoped>\n",
       "    .dataframe tbody tr th:only-of-type {\n",
       "        vertical-align: middle;\n",
       "    }\n",
       "\n",
       "    .dataframe tbody tr th {\n",
       "        vertical-align: top;\n",
       "    }\n",
       "\n",
       "    .dataframe thead th {\n",
       "        text-align: right;\n",
       "    }\n",
       "</style>\n",
       "<table border=\"1\" class=\"dataframe\">\n",
       "  <thead>\n",
       "    <tr style=\"text-align: right;\">\n",
       "      <th></th>\n",
       "      <th>pca0</th>\n",
       "      <th>pca1</th>\n",
       "      <th>pca2</th>\n",
       "      <th>pca3</th>\n",
       "      <th>pca4</th>\n",
       "      <th>pca5</th>\n",
       "      <th>pca6</th>\n",
       "      <th>pca7</th>\n",
       "      <th>pca8</th>\n",
       "      <th>pca9</th>\n",
       "      <th>...</th>\n",
       "      <th>pca90</th>\n",
       "      <th>pca91</th>\n",
       "      <th>pca92</th>\n",
       "      <th>pca93</th>\n",
       "      <th>pca94</th>\n",
       "      <th>pca95</th>\n",
       "      <th>pca96</th>\n",
       "      <th>pca97</th>\n",
       "      <th>pca98</th>\n",
       "      <th>pca99</th>\n",
       "    </tr>\n",
       "  </thead>\n",
       "  <tbody>\n",
       "    <tr>\n",
       "      <th>4360</th>\n",
       "      <td>-1.529727</td>\n",
       "      <td>0.862451</td>\n",
       "      <td>1.973352</td>\n",
       "      <td>2.518253</td>\n",
       "      <td>0.079970</td>\n",
       "      <td>1.104029</td>\n",
       "      <td>-1.373544</td>\n",
       "      <td>0.127858</td>\n",
       "      <td>-0.407081</td>\n",
       "      <td>0.316137</td>\n",
       "      <td>...</td>\n",
       "      <td>-0.055207</td>\n",
       "      <td>-0.075471</td>\n",
       "      <td>-0.046859</td>\n",
       "      <td>-0.034716</td>\n",
       "      <td>-0.199963</td>\n",
       "      <td>-0.043629</td>\n",
       "      <td>-0.010957</td>\n",
       "      <td>-0.210722</td>\n",
       "      <td>-0.047144</td>\n",
       "      <td>-0.060670</td>\n",
       "    </tr>\n",
       "    <tr>\n",
       "      <th>5152</th>\n",
       "      <td>3.322620</td>\n",
       "      <td>0.951410</td>\n",
       "      <td>-0.038562</td>\n",
       "      <td>1.211774</td>\n",
       "      <td>-3.234055</td>\n",
       "      <td>0.106525</td>\n",
       "      <td>-0.134617</td>\n",
       "      <td>1.674887</td>\n",
       "      <td>0.359087</td>\n",
       "      <td>-0.344605</td>\n",
       "      <td>...</td>\n",
       "      <td>-0.023734</td>\n",
       "      <td>-0.053260</td>\n",
       "      <td>0.069400</td>\n",
       "      <td>0.103398</td>\n",
       "      <td>0.167570</td>\n",
       "      <td>-0.077038</td>\n",
       "      <td>0.016340</td>\n",
       "      <td>0.057536</td>\n",
       "      <td>0.110123</td>\n",
       "      <td>-0.065047</td>\n",
       "    </tr>\n",
       "    <tr>\n",
       "      <th>2073</th>\n",
       "      <td>1.073962</td>\n",
       "      <td>-0.640477</td>\n",
       "      <td>-2.785395</td>\n",
       "      <td>-1.089317</td>\n",
       "      <td>-0.958354</td>\n",
       "      <td>-0.139006</td>\n",
       "      <td>-1.112987</td>\n",
       "      <td>-0.947105</td>\n",
       "      <td>0.350526</td>\n",
       "      <td>-0.388615</td>\n",
       "      <td>...</td>\n",
       "      <td>-0.053721</td>\n",
       "      <td>0.053868</td>\n",
       "      <td>-0.139312</td>\n",
       "      <td>-0.015625</td>\n",
       "      <td>-0.046239</td>\n",
       "      <td>0.013164</td>\n",
       "      <td>0.110485</td>\n",
       "      <td>0.039668</td>\n",
       "      <td>0.071191</td>\n",
       "      <td>0.051733</td>\n",
       "    </tr>\n",
       "    <tr>\n",
       "      <th>4269</th>\n",
       "      <td>-1.066756</td>\n",
       "      <td>0.045669</td>\n",
       "      <td>0.493086</td>\n",
       "      <td>-1.445353</td>\n",
       "      <td>0.574824</td>\n",
       "      <td>-0.817825</td>\n",
       "      <td>-1.004938</td>\n",
       "      <td>0.147405</td>\n",
       "      <td>0.249213</td>\n",
       "      <td>-0.783239</td>\n",
       "      <td>...</td>\n",
       "      <td>0.007306</td>\n",
       "      <td>-0.048965</td>\n",
       "      <td>-0.009906</td>\n",
       "      <td>0.001059</td>\n",
       "      <td>0.004475</td>\n",
       "      <td>0.063187</td>\n",
       "      <td>0.048094</td>\n",
       "      <td>-0.039300</td>\n",
       "      <td>-0.016775</td>\n",
       "      <td>-0.006282</td>\n",
       "    </tr>\n",
       "    <tr>\n",
       "      <th>5096</th>\n",
       "      <td>1.509648</td>\n",
       "      <td>1.065530</td>\n",
       "      <td>2.800243</td>\n",
       "      <td>1.717262</td>\n",
       "      <td>2.921624</td>\n",
       "      <td>-0.119885</td>\n",
       "      <td>-0.293201</td>\n",
       "      <td>-1.424427</td>\n",
       "      <td>0.083685</td>\n",
       "      <td>-1.265936</td>\n",
       "      <td>...</td>\n",
       "      <td>-0.129826</td>\n",
       "      <td>-0.050482</td>\n",
       "      <td>0.016165</td>\n",
       "      <td>0.009660</td>\n",
       "      <td>-0.013444</td>\n",
       "      <td>-0.059546</td>\n",
       "      <td>0.001005</td>\n",
       "      <td>-0.114037</td>\n",
       "      <td>0.117905</td>\n",
       "      <td>0.068433</td>\n",
       "    </tr>\n",
       "  </tbody>\n",
       "</table>\n",
       "<p>5 rows × 100 columns</p>\n",
       "</div>"
      ],
      "text/plain": [
       "          pca0      pca1      pca2      pca3      pca4      pca5      pca6  \\\n",
       "4360 -1.529727  0.862451  1.973352  2.518253  0.079970  1.104029 -1.373544   \n",
       "5152  3.322620  0.951410 -0.038562  1.211774 -3.234055  0.106525 -0.134617   \n",
       "2073  1.073962 -0.640477 -2.785395 -1.089317 -0.958354 -0.139006 -1.112987   \n",
       "4269 -1.066756  0.045669  0.493086 -1.445353  0.574824 -0.817825 -1.004938   \n",
       "5096  1.509648  1.065530  2.800243  1.717262  2.921624 -0.119885 -0.293201   \n",
       "\n",
       "          pca7      pca8      pca9  ...     pca90     pca91     pca92  \\\n",
       "4360  0.127858 -0.407081  0.316137  ... -0.055207 -0.075471 -0.046859   \n",
       "5152  1.674887  0.359087 -0.344605  ... -0.023734 -0.053260  0.069400   \n",
       "2073 -0.947105  0.350526 -0.388615  ... -0.053721  0.053868 -0.139312   \n",
       "4269  0.147405  0.249213 -0.783239  ...  0.007306 -0.048965 -0.009906   \n",
       "5096 -1.424427  0.083685 -1.265936  ... -0.129826 -0.050482  0.016165   \n",
       "\n",
       "         pca93     pca94     pca95     pca96     pca97     pca98     pca99  \n",
       "4360 -0.034716 -0.199963 -0.043629 -0.010957 -0.210722 -0.047144 -0.060670  \n",
       "5152  0.103398  0.167570 -0.077038  0.016340  0.057536  0.110123 -0.065047  \n",
       "2073 -0.015625 -0.046239  0.013164  0.110485  0.039668  0.071191  0.051733  \n",
       "4269  0.001059  0.004475  0.063187  0.048094 -0.039300 -0.016775 -0.006282  \n",
       "5096  0.009660 -0.013444 -0.059546  0.001005 -0.114037  0.117905  0.068433  \n",
       "\n",
       "[5 rows x 100 columns]"
      ]
     },
     "execution_count": 27,
     "metadata": {},
     "output_type": "execute_result"
    }
   ],
   "source": [
    "X_train_hot_pca_lim = X_train_hot_pca.iloc[:,:100]\n",
    "X_valid_hot_pca_lim = X_valid_hot_pca.iloc[:,:100]\n",
    "X_train_hot_pca_lim.head()"
   ]
  },
  {
   "cell_type": "code",
   "execution_count": null,
   "metadata": {},
   "outputs": [
    {
     "data": {
      "text/plain": [
       "Index(['gdp_per_capita', 'water_stress',\n",
       "       'total_population_with_access_to_safe_drinking_water'],\n",
       "      dtype='object')"
      ]
     },
     "execution_count": 28,
     "metadata": {},
     "output_type": "execute_result"
    }
   ],
   "source": [
    "Y_train.columns"
   ]
  },
  {
   "cell_type": "code",
   "execution_count": null,
   "metadata": {},
   "outputs": [],
   "source": [
    "def print_model_performance(ytrain, ytrainp, ytest, ytestp):\n",
    "    print(\"train\")\n",
    "    print(\"MAE: \", round(mean_absolute_error(ytrain, ytrainp), 3))\n",
    "    print(\"R2:  \", round(r2_score(ytrain, ytrainp), 3))\n",
    "    print(\"\")\n",
    "    print(\"test\")\n",
    "    print(\"MAE: \", round(mean_absolute_error(ytest, ytestp), 3))\n",
    "    print(\"R2:  \", round(r2_score(ytest, ytestp), 3))\n",
    "\n",
    "    fig, axs = plt.subplots(1,2, figsize=(5, 2))\n",
    "    \n",
    "    axs[0].plot(ytrain, ytrainp, 'o')\n",
    "    axs[0].set_ylabel('y-train-p')\n",
    "    axs[0].set_xlabel('y-train')\n",
    "    min_0 = min([min(ytrain), min(ytrainp)]) \n",
    "    max_0 = max([max(ytrain), max(ytrainp)])\n",
    "    axs[0].plot(np.arange(min_0, max_0, 0.1), np.arange(min_0, max_0, 0.1), 'r--', lw=0.5, alpha=0.5)\n",
    "\n",
    "    axs[1].plot(ytest, ytestp, 'o')\n",
    "    axs[1].set_ylabel('y-valid-p')\n",
    "    axs[1].set_xlabel('y-valid')\n",
    "    min_1 = min([min(ytest), min(ytestp)]) \n",
    "    max_1 = max([max(ytest), max(ytestp)])\n",
    "    axs[1].plot(np.arange(min_1, max_1, 0.1), np.arange(min_1, max_1, 0.1), 'r--', lw=0.5, alpha=0.5)\n",
    "\n",
    "    fig.tight_layout()"
   ]
  },
  {
   "cell_type": "markdown",
   "metadata": {},
   "source": [
    "save drinking water"
   ]
  },
  {
   "cell_type": "code",
   "execution_count": null,
   "metadata": {},
   "outputs": [
    {
     "data": {
      "text/html": [
       "<style>#sk-container-id-2 {color: black;}#sk-container-id-2 pre{padding: 0;}#sk-container-id-2 div.sk-toggleable {background-color: white;}#sk-container-id-2 label.sk-toggleable__label {cursor: pointer;display: block;width: 100%;margin-bottom: 0;padding: 0.3em;box-sizing: border-box;text-align: center;}#sk-container-id-2 label.sk-toggleable__label-arrow:before {content: \"▸\";float: left;margin-right: 0.25em;color: #696969;}#sk-container-id-2 label.sk-toggleable__label-arrow:hover:before {color: black;}#sk-container-id-2 div.sk-estimator:hover label.sk-toggleable__label-arrow:before {color: black;}#sk-container-id-2 div.sk-toggleable__content {max-height: 0;max-width: 0;overflow: hidden;text-align: left;background-color: #f0f8ff;}#sk-container-id-2 div.sk-toggleable__content pre {margin: 0.2em;color: black;border-radius: 0.25em;background-color: #f0f8ff;}#sk-container-id-2 input.sk-toggleable__control:checked~div.sk-toggleable__content {max-height: 200px;max-width: 100%;overflow: auto;}#sk-container-id-2 input.sk-toggleable__control:checked~label.sk-toggleable__label-arrow:before {content: \"▾\";}#sk-container-id-2 div.sk-estimator input.sk-toggleable__control:checked~label.sk-toggleable__label {background-color: #d4ebff;}#sk-container-id-2 div.sk-label input.sk-toggleable__control:checked~label.sk-toggleable__label {background-color: #d4ebff;}#sk-container-id-2 input.sk-hidden--visually {border: 0;clip: rect(1px 1px 1px 1px);clip: rect(1px, 1px, 1px, 1px);height: 1px;margin: -1px;overflow: hidden;padding: 0;position: absolute;width: 1px;}#sk-container-id-2 div.sk-estimator {font-family: monospace;background-color: #f0f8ff;border: 1px dotted black;border-radius: 0.25em;box-sizing: border-box;margin-bottom: 0.5em;}#sk-container-id-2 div.sk-estimator:hover {background-color: #d4ebff;}#sk-container-id-2 div.sk-parallel-item::after {content: \"\";width: 100%;border-bottom: 1px solid gray;flex-grow: 1;}#sk-container-id-2 div.sk-label:hover label.sk-toggleable__label {background-color: #d4ebff;}#sk-container-id-2 div.sk-serial::before {content: \"\";position: absolute;border-left: 1px solid gray;box-sizing: border-box;top: 0;bottom: 0;left: 50%;z-index: 0;}#sk-container-id-2 div.sk-serial {display: flex;flex-direction: column;align-items: center;background-color: white;padding-right: 0.2em;padding-left: 0.2em;position: relative;}#sk-container-id-2 div.sk-item {position: relative;z-index: 1;}#sk-container-id-2 div.sk-parallel {display: flex;align-items: stretch;justify-content: center;background-color: white;position: relative;}#sk-container-id-2 div.sk-item::before, #sk-container-id-2 div.sk-parallel-item::before {content: \"\";position: absolute;border-left: 1px solid gray;box-sizing: border-box;top: 0;bottom: 0;left: 50%;z-index: -1;}#sk-container-id-2 div.sk-parallel-item {display: flex;flex-direction: column;z-index: 1;position: relative;background-color: white;}#sk-container-id-2 div.sk-parallel-item:first-child::after {align-self: flex-end;width: 50%;}#sk-container-id-2 div.sk-parallel-item:last-child::after {align-self: flex-start;width: 50%;}#sk-container-id-2 div.sk-parallel-item:only-child::after {width: 0;}#sk-container-id-2 div.sk-dashed-wrapped {border: 1px dashed gray;margin: 0 0.4em 0.5em 0.4em;box-sizing: border-box;padding-bottom: 0.4em;background-color: white;}#sk-container-id-2 div.sk-label label {font-family: monospace;font-weight: bold;display: inline-block;line-height: 1.2em;}#sk-container-id-2 div.sk-label-container {text-align: center;}#sk-container-id-2 div.sk-container {/* jupyter's `normalize.less` sets `[hidden] { display: none; }` but bootstrap.min.css set `[hidden] { display: none !important; }` so we also need the `!important` here to be able to override the default hidden behavior on the sphinx rendered scikit-learn.org. See: https://github.com/scikit-learn/scikit-learn/issues/21755 */display: inline-block !important;position: relative;}#sk-container-id-2 div.sk-text-repr-fallback {display: none;}</style><div id=\"sk-container-id-2\" class=\"sk-top-container\"><div class=\"sk-text-repr-fallback\"><pre>XGBRegressor(base_score=None, booster=None, callbacks=None,\n",
       "             colsample_bylevel=None, colsample_bynode=None,\n",
       "             colsample_bytree=None, early_stopping_rounds=None,\n",
       "             enable_categorical=False, eval_metric=None, feature_types=None,\n",
       "             gamma=None, gpu_id=None, grow_policy=None, importance_type=None,\n",
       "             interaction_constraints=None, learning_rate=None, max_bin=None,\n",
       "             max_cat_threshold=None, max_cat_to_onehot=None,\n",
       "             max_delta_step=None, max_depth=None, max_leaves=None,\n",
       "             min_child_weight=None, missing=nan, monotone_constraints=None,\n",
       "             n_estimators=100, n_jobs=None, num_parallel_tree=None,\n",
       "             predictor=None, random_state=None, ...)</pre><b>In a Jupyter environment, please rerun this cell to show the HTML representation or trust the notebook. <br />On GitHub, the HTML representation is unable to render, please try loading this page with nbviewer.org.</b></div><div class=\"sk-container\" hidden><div class=\"sk-item\"><div class=\"sk-estimator sk-toggleable\"><input class=\"sk-toggleable__control sk-hidden--visually\" id=\"sk-estimator-id-7\" type=\"checkbox\" checked><label for=\"sk-estimator-id-7\" class=\"sk-toggleable__label sk-toggleable__label-arrow\">XGBRegressor</label><div class=\"sk-toggleable__content\"><pre>XGBRegressor(base_score=None, booster=None, callbacks=None,\n",
       "             colsample_bylevel=None, colsample_bynode=None,\n",
       "             colsample_bytree=None, early_stopping_rounds=None,\n",
       "             enable_categorical=False, eval_metric=None, feature_types=None,\n",
       "             gamma=None, gpu_id=None, grow_policy=None, importance_type=None,\n",
       "             interaction_constraints=None, learning_rate=None, max_bin=None,\n",
       "             max_cat_threshold=None, max_cat_to_onehot=None,\n",
       "             max_delta_step=None, max_depth=None, max_leaves=None,\n",
       "             min_child_weight=None, missing=nan, monotone_constraints=None,\n",
       "             n_estimators=100, n_jobs=None, num_parallel_tree=None,\n",
       "             predictor=None, random_state=None, ...)</pre></div></div></div></div></div>"
      ],
      "text/plain": [
       "XGBRegressor(base_score=None, booster=None, callbacks=None,\n",
       "             colsample_bylevel=None, colsample_bynode=None,\n",
       "             colsample_bytree=None, early_stopping_rounds=None,\n",
       "             enable_categorical=False, eval_metric=None, feature_types=None,\n",
       "             gamma=None, gpu_id=None, grow_policy=None, importance_type=None,\n",
       "             interaction_constraints=None, learning_rate=None, max_bin=None,\n",
       "             max_cat_threshold=None, max_cat_to_onehot=None,\n",
       "             max_delta_step=None, max_depth=None, max_leaves=None,\n",
       "             min_child_weight=None, missing=nan, monotone_constraints=None,\n",
       "             n_estimators=100, n_jobs=None, num_parallel_tree=None,\n",
       "             predictor=None, random_state=None, ...)"
      ]
     },
     "execution_count": 30,
     "metadata": {},
     "output_type": "execute_result"
    }
   ],
   "source": [
    "xgb_model_save = XGBRegressor()\n",
    "\n",
    "xgb_model_save.fit(X_train_hot_pca_lim, Y_train[\"total_population_with_access_to_safe_drinking_water\"])"
   ]
  },
  {
   "cell_type": "code",
   "execution_count": null,
   "metadata": {},
   "outputs": [],
   "source": [
    "y_train_p = xgb_model_save.predict(X_train_hot_pca_lim)\n",
    "y_val_p = xgb_model_save.predict(X_valid_hot_pca_lim)"
   ]
  },
  {
   "cell_type": "code",
   "execution_count": null,
   "metadata": {},
   "outputs": [
    {
     "name": "stdout",
     "output_type": "stream",
     "text": [
      "train\n",
      "MAE:  0.07\n",
      "R2:   1.0\n",
      "\n",
      "test\n",
      "MAE:  0.737\n",
      "R2:   0.99\n"
     ]
    },
    {
     "data": {
      "image/png": "[encoded data removed]",
      "text/plain": [
       "<Figure size 500x200 with 2 Axes>"
      ]
     },
     "metadata": {},
     "output_type": "display_data"
    }
   ],
   "source": [
    "print_model_performance(Y_train[\"total_population_with_access_to_safe_drinking_water\"], y_train_p, Y_valid[\"total_population_with_access_to_safe_drinking_water\"], y_val_p)"
   ]
  },
  {
   "cell_type": "code",
   "execution_count": null,
   "metadata": {},
   "outputs": [
    {
     "data": {
      "text/plain": [
       "count    1139.000000\n",
       "mean       87.295435\n",
       "std        15.316385\n",
       "min        31.700000\n",
       "25%        77.900000\n",
       "50%        93.800000\n",
       "75%        99.500000\n",
       "max       100.000000\n",
       "Name: total_population_with_access_to_safe_drinking_water, dtype: float64"
      ]
     },
     "execution_count": 33,
     "metadata": {},
     "output_type": "execute_result"
    }
   ],
   "source": [
    "Y_train[\"total_population_with_access_to_safe_drinking_water\"].describe()\n"
   ]
  },
  {
   "cell_type": "markdown",
   "metadata": {},
   "source": [
    "GDP"
   ]
  },
  {
   "cell_type": "code",
   "execution_count": null,
   "metadata": {},
   "outputs": [
    {
     "name": "stdout",
     "output_type": "stream",
     "text": [
      "train\n",
      "MAE:  107.538\n",
      "R2:   1.0\n",
      "\n",
      "test\n",
      "MAE:  1082.521\n",
      "R2:   0.983\n"
     ]
    },
    {
     "data": {
      "image/png": "[encoded data removed]",
      "text/plain": [
       "<Figure size 500x200 with 2 Axes>"
      ]
     },
     "metadata": {},
     "output_type": "display_data"
    }
   ],
   "source": [
    "xgb_model_gdp = XGBRegressor()\n",
    "\n",
    "xgb_model_gdp.fit(X_train_hot_pca_lim, Y_train[\"gdp_per_capita\"])\n",
    "y_train_p = xgb_model_gdp.predict(X_train_hot_pca_lim)\n",
    "y_val_p = xgb_model_gdp.predict(X_valid_hot_pca_lim)\n",
    "print_model_performance(Y_train[\"gdp_per_capita\"], y_train_p, Y_valid[\"gdp_per_capita\"], y_val_p)"
   ]
  },
  {
   "cell_type": "code",
   "execution_count": null,
   "metadata": {},
   "outputs": [
    {
     "data": {
      "text/plain": [
       "count      1139.000000\n",
       "mean      13766.969999\n",
       "std       19828.122939\n",
       "min         105.440171\n",
       "25%        1464.572242\n",
       "50%        5094.384038\n",
       "75%       16506.780464\n",
       "max      120142.923763\n",
       "Name: gdp_per_capita, dtype: float64"
      ]
     },
     "execution_count": 35,
     "metadata": {},
     "output_type": "execute_result"
    }
   ],
   "source": [
    "Y_train[\"gdp_per_capita\"].describe()"
   ]
  },
  {
   "cell_type": "markdown",
   "metadata": {},
   "source": [
    "water stress"
   ]
  },
  {
   "cell_type": "code",
   "execution_count": null,
   "metadata": {},
   "outputs": [
    {
     "name": "stdout",
     "output_type": "stream",
     "text": [
      "train\n",
      "MAE:  0.195\n",
      "R2:   1.0\n",
      "\n",
      "test\n",
      "MAE:  1.609\n",
      "R2:   1.0\n"
     ]
    },
    {
     "data": {
      "image/png": "[encoded data removed]",
      "text/plain": [
       "<Figure size 500x200 with 2 Axes>"
      ]
     },
     "metadata": {},
     "output_type": "display_data"
    }
   ],
   "source": [
    "xgb_model_stress = XGBRegressor()\n",
    "\n",
    "xgb_model_stress.fit(X_train_hot_pca_lim.drop(1901), Y_train[\"water_stress\"].drop(1901))\n",
    "y_train_p = xgb_model_stress.predict(X_train_hot_pca_lim.drop(1901))\n",
    "y_val_p = xgb_model_stress.predict(X_valid_hot_pca_lim)\n",
    "print_model_performance(Y_train[\"water_stress\"].drop(1901), y_train_p, Y_valid[\"water_stress\"], y_val_p)"
   ]
  },
  {
   "cell_type": "code",
   "execution_count": null,
   "metadata": {},
   "outputs": [
    {
     "data": {
      "text/plain": [
       "count    1138.000000\n",
       "mean       71.650778\n",
       "std       315.772060\n",
       "min         0.027446\n",
       "25%         3.839188\n",
       "50%        11.261506\n",
       "75%        39.553314\n",
       "max      3850.500000\n",
       "Name: water_stress, dtype: float64"
      ]
     },
     "execution_count": 37,
     "metadata": {},
     "output_type": "execute_result"
    }
   ],
   "source": [
    "Y_train[\"water_stress\"].describe()"
   ]
  },
  {
   "cell_type": "code",
   "execution_count": null,
   "metadata": {},
   "outputs": [
    {
     "data": {
      "text/html": [
       "<div>\n",
       "<style scoped>\n",
       "    .dataframe tbody tr th:only-of-type {\n",
       "        vertical-align: middle;\n",
       "    }\n",
       "\n",
       "    .dataframe tbody tr th {\n",
       "        vertical-align: top;\n",
       "    }\n",
       "\n",
       "    .dataframe thead th {\n",
       "        text-align: right;\n",
       "    }\n",
       "</style>\n",
       "<table border=\"1\" class=\"dataframe\">\n",
       "  <thead>\n",
       "    <tr style=\"text-align: right;\">\n",
       "      <th></th>\n",
       "      <th>gdp_per_capita</th>\n",
       "      <th>water_stress</th>\n",
       "      <th>total_population_with_access_to_safe_drinking_water</th>\n",
       "    </tr>\n",
       "  </thead>\n",
       "  <tbody>\n",
       "    <tr>\n",
       "      <th>1901</th>\n",
       "      <td>9229.833788</td>\n",
       "      <td>NaN</td>\n",
       "      <td>97.3</td>\n",
       "    </tr>\n",
       "  </tbody>\n",
       "</table>\n",
       "</div>"
      ],
      "text/plain": [
       "      gdp_per_capita  water_stress  \\\n",
       "1901     9229.833788           NaN   \n",
       "\n",
       "      total_population_with_access_to_safe_drinking_water  \n",
       "1901                                               97.3    "
      ]
     },
     "execution_count": 38,
     "metadata": {},
     "output_type": "execute_result"
    }
   ],
   "source": [
    "Y_train[Y_train[\"water_stress\"].isna()]"
   ]
  },
  {
   "cell_type": "code",
   "execution_count": null,
   "metadata": {},
   "outputs": [
    {
     "data": {
      "text/plain": [
       "gdp_per_capita                                         0\n",
       "water_stress                                           0\n",
       "total_population_with_access_to_safe_drinking_water    0\n",
       "dtype: int64"
      ]
     },
     "execution_count": 39,
     "metadata": {},
     "output_type": "execute_result"
    }
   ],
   "source": [
    "Y_train.drop(1901).isna().sum()"
   ]
  },
  {
   "cell_type": "markdown",
   "metadata": {},
   "source": [
    "### using no country information"
   ]
  },
  {
   "cell_type": "markdown",
   "metadata": {},
   "source": [
    "PCA"
   ]
  },
  {
   "cell_type": "code",
   "execution_count": null,
   "metadata": {},
   "outputs": [
    {
     "name": "stdout",
     "output_type": "stream",
     "text": [
      "(1139, 36)\n",
      "(245, 36)\n",
      "NaNs in train:  0\n",
      "NaNs in valid:  0\n"
     ]
    }
   ],
   "source": [
    "pca = PCA()\n",
    "\n",
    "X_train_pre_pca = pca.fit_transform(X_train_pre.drop(columns=[\"country\", \"year\"]))\n",
    "X_valid_pre_pca = pca.transform(X_valid_pre.drop(columns=[\"country\", \"year\"], axis=1))\n",
    "print(X_train_pre_pca.shape)\n",
    "print(X_valid_pre_pca.shape)\n",
    "print(\"NaNs in train: \", X_train_pre_pca.isna().sum().sum())\n",
    "print(\"NaNs in valid: \", X_valid_pre_pca.isna().sum().sum())"
   ]
  },
  {
   "cell_type": "code",
   "execution_count": null,
   "metadata": {},
   "outputs": [
    {
     "data": {
      "text/plain": [
       "(15.0, 25.0)"
      ]
     },
     "execution_count": 41,
     "metadata": {},
     "output_type": "execute_result"
    },
    {
     "data": {
      "image/png": "[encoded data removed]",
      "text/plain": [
       "<Figure size 640x480 with 1 Axes>"
      ]
     },
     "metadata": {},
     "output_type": "display_data"
    }
   ],
   "source": [
    "plt.plot(pca.explained_variance_ratio_.cumsum())\n",
    "plt.plot([0.99]*199)\n",
    "plt.ylim(0.98, 1)\n",
    "plt.xlim(15,25)"
   ]
  },
  {
   "cell_type": "markdown",
   "metadata": {},
   "source": [
    "--> take 23 components"
   ]
  },
  {
   "cell_type": "code",
   "execution_count": null,
   "metadata": {},
   "outputs": [
    {
     "data": {
      "text/html": [
       "<div>\n",
       "<style scoped>\n",
       "    .dataframe tbody tr th:only-of-type {\n",
       "        vertical-align: middle;\n",
       "    }\n",
       "\n",
       "    .dataframe tbody tr th {\n",
       "        vertical-align: top;\n",
       "    }\n",
       "\n",
       "    .dataframe thead th {\n",
       "        text-align: right;\n",
       "    }\n",
       "</style>\n",
       "<table border=\"1\" class=\"dataframe\">\n",
       "  <thead>\n",
       "    <tr style=\"text-align: right;\">\n",
       "      <th></th>\n",
       "      <th>pca0</th>\n",
       "      <th>pca1</th>\n",
       "      <th>pca2</th>\n",
       "      <th>pca3</th>\n",
       "      <th>pca4</th>\n",
       "      <th>pca5</th>\n",
       "      <th>pca6</th>\n",
       "      <th>pca7</th>\n",
       "      <th>pca8</th>\n",
       "      <th>pca9</th>\n",
       "      <th>...</th>\n",
       "      <th>pca13</th>\n",
       "      <th>pca14</th>\n",
       "      <th>pca15</th>\n",
       "      <th>pca16</th>\n",
       "      <th>pca17</th>\n",
       "      <th>pca18</th>\n",
       "      <th>pca19</th>\n",
       "      <th>pca20</th>\n",
       "      <th>pca21</th>\n",
       "      <th>pca22</th>\n",
       "    </tr>\n",
       "  </thead>\n",
       "  <tbody>\n",
       "    <tr>\n",
       "      <th>4360</th>\n",
       "      <td>-1.529212</td>\n",
       "      <td>0.862001</td>\n",
       "      <td>1.971373</td>\n",
       "      <td>2.515192</td>\n",
       "      <td>0.079972</td>\n",
       "      <td>1.101795</td>\n",
       "      <td>-1.370206</td>\n",
       "      <td>0.126895</td>\n",
       "      <td>-0.405839</td>\n",
       "      <td>0.313820</td>\n",
       "      <td>...</td>\n",
       "      <td>-0.877659</td>\n",
       "      <td>-0.051657</td>\n",
       "      <td>0.150712</td>\n",
       "      <td>0.949447</td>\n",
       "      <td>-0.608297</td>\n",
       "      <td>-0.305351</td>\n",
       "      <td>-0.111042</td>\n",
       "      <td>0.098861</td>\n",
       "      <td>0.290884</td>\n",
       "      <td>0.408484</td>\n",
       "    </tr>\n",
       "    <tr>\n",
       "      <th>5152</th>\n",
       "      <td>3.321541</td>\n",
       "      <td>0.950912</td>\n",
       "      <td>-0.038363</td>\n",
       "      <td>1.210454</td>\n",
       "      <td>-3.229648</td>\n",
       "      <td>0.105593</td>\n",
       "      <td>-0.135355</td>\n",
       "      <td>1.671353</td>\n",
       "      <td>0.357809</td>\n",
       "      <td>-0.342709</td>\n",
       "      <td>...</td>\n",
       "      <td>-0.460782</td>\n",
       "      <td>-0.108212</td>\n",
       "      <td>-0.022718</td>\n",
       "      <td>0.176111</td>\n",
       "      <td>-0.135341</td>\n",
       "      <td>-0.088800</td>\n",
       "      <td>1.063952</td>\n",
       "      <td>-0.119136</td>\n",
       "      <td>0.148327</td>\n",
       "      <td>-0.375265</td>\n",
       "    </tr>\n",
       "    <tr>\n",
       "      <th>2073</th>\n",
       "      <td>1.073587</td>\n",
       "      <td>-0.640190</td>\n",
       "      <td>-2.782743</td>\n",
       "      <td>-1.087844</td>\n",
       "      <td>-0.957095</td>\n",
       "      <td>-0.138003</td>\n",
       "      <td>-1.110343</td>\n",
       "      <td>-0.945685</td>\n",
       "      <td>0.349812</td>\n",
       "      <td>-0.387481</td>\n",
       "      <td>...</td>\n",
       "      <td>-0.817534</td>\n",
       "      <td>0.362948</td>\n",
       "      <td>-0.868757</td>\n",
       "      <td>-0.047031</td>\n",
       "      <td>0.326308</td>\n",
       "      <td>0.411295</td>\n",
       "      <td>0.074980</td>\n",
       "      <td>0.259133</td>\n",
       "      <td>0.198803</td>\n",
       "      <td>-0.406923</td>\n",
       "    </tr>\n",
       "    <tr>\n",
       "      <th>4269</th>\n",
       "      <td>-1.066320</td>\n",
       "      <td>0.045521</td>\n",
       "      <td>0.492583</td>\n",
       "      <td>-1.443870</td>\n",
       "      <td>0.574181</td>\n",
       "      <td>-0.816247</td>\n",
       "      <td>-1.002412</td>\n",
       "      <td>0.145672</td>\n",
       "      <td>0.249206</td>\n",
       "      <td>-0.783018</td>\n",
       "      <td>...</td>\n",
       "      <td>-0.419583</td>\n",
       "      <td>-0.129073</td>\n",
       "      <td>0.378632</td>\n",
       "      <td>-0.564411</td>\n",
       "      <td>-0.096978</td>\n",
       "      <td>-0.700897</td>\n",
       "      <td>-0.240810</td>\n",
       "      <td>-0.027662</td>\n",
       "      <td>-0.342543</td>\n",
       "      <td>-0.580911</td>\n",
       "    </tr>\n",
       "    <tr>\n",
       "      <th>5096</th>\n",
       "      <td>1.509153</td>\n",
       "      <td>1.064965</td>\n",
       "      <td>2.797784</td>\n",
       "      <td>1.715264</td>\n",
       "      <td>2.917775</td>\n",
       "      <td>-0.119435</td>\n",
       "      <td>-0.291024</td>\n",
       "      <td>-1.420955</td>\n",
       "      <td>0.084376</td>\n",
       "      <td>-1.255765</td>\n",
       "      <td>...</td>\n",
       "      <td>1.588464</td>\n",
       "      <td>0.934671</td>\n",
       "      <td>-0.643929</td>\n",
       "      <td>0.764737</td>\n",
       "      <td>0.928257</td>\n",
       "      <td>-0.652354</td>\n",
       "      <td>0.378801</td>\n",
       "      <td>-0.675544</td>\n",
       "      <td>0.101343</td>\n",
       "      <td>-0.220127</td>\n",
       "    </tr>\n",
       "  </tbody>\n",
       "</table>\n",
       "<p>5 rows × 23 columns</p>\n",
       "</div>"
      ],
      "text/plain": [
       "          pca0      pca1      pca2      pca3      pca4      pca5      pca6  \\\n",
       "4360 -1.529212  0.862001  1.971373  2.515192  0.079972  1.101795 -1.370206   \n",
       "5152  3.321541  0.950912 -0.038363  1.210454 -3.229648  0.105593 -0.135355   \n",
       "2073  1.073587 -0.640190 -2.782743 -1.087844 -0.957095 -0.138003 -1.110343   \n",
       "4269 -1.066320  0.045521  0.492583 -1.443870  0.574181 -0.816247 -1.002412   \n",
       "5096  1.509153  1.064965  2.797784  1.715264  2.917775 -0.119435 -0.291024   \n",
       "\n",
       "          pca7      pca8      pca9  ...     pca13     pca14     pca15  \\\n",
       "4360  0.126895 -0.405839  0.313820  ... -0.877659 -0.051657  0.150712   \n",
       "5152  1.671353  0.357809 -0.342709  ... -0.460782 -0.108212 -0.022718   \n",
       "2073 -0.945685  0.349812 -0.387481  ... -0.817534  0.362948 -0.868757   \n",
       "4269  0.145672  0.249206 -0.783018  ... -0.419583 -0.129073  0.378632   \n",
       "5096 -1.420955  0.084376 -1.255765  ...  1.588464  0.934671 -0.643929   \n",
       "\n",
       "         pca16     pca17     pca18     pca19     pca20     pca21     pca22  \n",
       "4360  0.949447 -0.608297 -0.305351 -0.111042  0.098861  0.290884  0.408484  \n",
       "5152  0.176111 -0.135341 -0.088800  1.063952 -0.119136  0.148327 -0.375265  \n",
       "2073 -0.047031  0.326308  0.411295  0.074980  0.259133  0.198803 -0.406923  \n",
       "4269 -0.564411 -0.096978 -0.700897 -0.240810 -0.027662 -0.342543 -0.580911  \n",
       "5096  0.764737  0.928257 -0.652354  0.378801 -0.675544  0.101343 -0.220127  \n",
       "\n",
       "[5 rows x 23 columns]"
      ]
     },
     "execution_count": 42,
     "metadata": {},
     "output_type": "execute_result"
    }
   ],
   "source": [
    "X_train_pre_pca_lim = X_train_pre_pca.iloc[:,:23]\n",
    "X_valid_pre_pca_lim = X_valid_pre_pca.iloc[:,:23]\n",
    "X_train_pre_pca_lim.head()"
   ]
  },
  {
   "cell_type": "markdown",
   "metadata": {},
   "source": [
    "save drinking water"
   ]
  },
  {
   "cell_type": "code",
   "execution_count": null,
   "metadata": {},
   "outputs": [
    {
     "name": "stdout",
     "output_type": "stream",
     "text": [
      "train\n",
      "MAE:  0.065\n",
      "R2:   1.0\n",
      "\n",
      "test\n",
      "MAE:  0.802\n",
      "R2:   0.991\n"
     ]
    },
    {
     "data": {
      "image/png": "[encoded data removed]",
      "text/plain": [
       "<Figure size 500x200 with 2 Axes>"
      ]
     },
     "metadata": {},
     "output_type": "display_data"
    }
   ],
   "source": [
    "xgb_model = XGBRegressor()\n",
    "\n",
    "xgb_model.fit(X_train_pre_pca_lim, Y_train[\"total_population_with_access_to_safe_drinking_water\"])\n",
    "y_train_p = xgb_model.predict(X_train_pre_pca_lim)\n",
    "y_val_p = xgb_model.predict(X_valid_pre_pca_lim)\n",
    "print_model_performance(Y_train[\"total_population_with_access_to_safe_drinking_water\"], y_train_p, Y_valid[\"total_population_with_access_to_safe_drinking_water\"], y_val_p)\n"
   ]
  },
  {
   "cell_type": "code",
   "execution_count": null,
   "metadata": {},
   "outputs": [
    {
     "data": {
      "text/plain": [
       "count    1139.000000\n",
       "mean       87.295435\n",
       "std        15.316385\n",
       "min        31.700000\n",
       "25%        77.900000\n",
       "50%        93.800000\n",
       "75%        99.500000\n",
       "max       100.000000\n",
       "Name: total_population_with_access_to_safe_drinking_water, dtype: float64"
      ]
     },
     "execution_count": 44,
     "metadata": {},
     "output_type": "execute_result"
    }
   ],
   "source": [
    "Y_train[\"total_population_with_access_to_safe_drinking_water\"].describe()"
   ]
  },
  {
   "cell_type": "markdown",
   "metadata": {},
   "source": [
    "GDP"
   ]
  },
  {
   "cell_type": "code",
   "execution_count": null,
   "metadata": {},
   "outputs": [
    {
     "name": "stdout",
     "output_type": "stream",
     "text": [
      "train\n",
      "MAE:  89.122\n",
      "R2:   1.0\n",
      "\n",
      "test\n",
      "MAE:  1155.556\n",
      "R2:   0.984\n"
     ]
    },
    {
     "data": {
      "image/png": "[encoded data removed]",
      "text/plain": [
       "<Figure size 500x200 with 2 Axes>"
      ]
     },
     "metadata": {},
     "output_type": "display_data"
    }
   ],
   "source": [
    "xgb_model = XGBRegressor()\n",
    "\n",
    "xgb_model.fit(X_train_pre_pca_lim, Y_train[\"gdp_per_capita\"])\n",
    "y_train_p = xgb_model.predict(X_train_pre_pca_lim)\n",
    "y_val_p = xgb_model.predict(X_valid_pre_pca_lim)\n",
    "print_model_performance(Y_train[\"gdp_per_capita\"], y_train_p, Y_valid[\"gdp_per_capita\"], y_val_p)"
   ]
  },
  {
   "cell_type": "code",
   "execution_count": null,
   "metadata": {},
   "outputs": [
    {
     "data": {
      "text/plain": [
       "count      1139.000000\n",
       "mean      13766.969999\n",
       "std       19828.122939\n",
       "min         105.440171\n",
       "25%        1464.572242\n",
       "50%        5094.384038\n",
       "75%       16506.780464\n",
       "max      120142.923763\n",
       "Name: gdp_per_capita, dtype: float64"
      ]
     },
     "execution_count": 46,
     "metadata": {},
     "output_type": "execute_result"
    }
   ],
   "source": [
    "Y_train[\"gdp_per_capita\"].describe()"
   ]
  },
  {
   "cell_type": "markdown",
   "metadata": {},
   "source": [
    "water stress"
   ]
  },
  {
   "cell_type": "code",
   "execution_count": null,
   "metadata": {},
   "outputs": [
    {
     "name": "stdout",
     "output_type": "stream",
     "text": [
      "train\n",
      "MAE:  0.149\n",
      "R2:   1.0\n",
      "\n",
      "test\n",
      "MAE:  3.839\n",
      "R2:   0.993\n"
     ]
    },
    {
     "data": {
      "image/png": "[encoded data removed]",
      "text/plain": [
       "<Figure size 500x200 with 2 Axes>"
      ]
     },
     "metadata": {},
     "output_type": "display_data"
    }
   ],
   "source": [
    "xgb_model = XGBRegressor()\n",
    "\n",
    "xgb_model.fit(X_train_pre_pca_lim.drop(1901), Y_train[\"water_stress\"].drop(1901))\n",
    "y_train_p = xgb_model.predict(X_train_pre_pca_lim.drop(1901))\n",
    "y_val_p = xgb_model.predict(X_valid_pre_pca_lim)\n",
    "print_model_performance(Y_train[\"water_stress\"].drop(1901), y_train_p, Y_valid[\"water_stress\"], y_val_p)"
   ]
  },
  {
   "cell_type": "code",
   "execution_count": null,
   "metadata": {},
   "outputs": [
    {
     "data": {
      "text/plain": [
       "count    1138.000000\n",
       "mean       71.650778\n",
       "std       315.772060\n",
       "min         0.027446\n",
       "25%         3.839188\n",
       "50%        11.261506\n",
       "75%        39.553314\n",
       "max      3850.500000\n",
       "Name: water_stress, dtype: float64"
      ]
     },
     "execution_count": 48,
     "metadata": {},
     "output_type": "execute_result"
    }
   ],
   "source": [
    "Y_train[\"water_stress\"].describe()"
   ]
  },
  {
   "cell_type": "markdown",
   "metadata": {},
   "source": [
    "best result with default hyper parameters so far:  \n",
    "hot encoded countries,  \n",
    "exclude year "
   ]
  },
  {
   "cell_type": "markdown",
   "metadata": {},
   "source": [
    "now lets run a grid search on this"
   ]
  },
  {
   "cell_type": "code",
   "execution_count": null,
   "metadata": {},
   "outputs": [],
   "source": [
    "from sklearn.model_selection import GridSearchCV"
   ]
  },
  {
   "cell_type": "markdown",
   "metadata": {},
   "source": [
    "save drinking water"
   ]
  },
  {
   "cell_type": "code",
   "execution_count": null,
   "metadata": {},
   "outputs": [],
   "source": [
    "# Define your hyperparameters for GridSearchCV\n",
    "params = {\n",
    "    'n_estimators': [50, 100, 200],\n",
    "    'learning_rate': [0.01, 0.1, 0.5],\n",
    "    'max_depth': [3, 5, 7],\n",
    "    'subsample': [0.5, 0.8, 1.0],\n",
    "    'colsample_bytree': [0.5, 0.8, 1.0],\n",
    "}"
   ]
  },
  {
   "cell_type": "code",
   "execution_count": null,
   "metadata": {},
   "outputs": [],
   "source": [
    "# gs1 = GridSearchCV(XGBRegressor(), params, cv=3, n_jobs=-1) # scoring is r2_score\n",
    "# gs1.fit(X_train_hot_pca_lim, Y_train[\"total_population_with_access_to_safe_drinking_water\"])\n",
    "\n",
    "# besti = gs1.best_estimator_\n",
    "# y_train_p = besti.predict(X_train_hot_pca_lim)\n",
    "# y_val_p = besti.predict(X_valid_hot_pca_lim)\n",
    "# print_model_performance(Y_train[\"total_population_with_access_to_safe_drinking_water\"], y_train_p, Y_valid[\"total_population_with_access_to_safe_drinking_water\"], y_val_p)\n",
    "# print(gs1.best_params_)"
   ]
  },
  {
   "cell_type": "markdown",
   "metadata": {},
   "source": [
    "GDP"
   ]
  },
  {
   "cell_type": "code",
   "execution_count": null,
   "metadata": {},
   "outputs": [],
   "source": [
    "# gs2 = GridSearchCV(XGBRegressor(), params, cv=3, n_jobs=-1) # scoring is r2_score\n",
    "# gs2.fit(X_train_hot_pca_lim, Y_train[\"gdp_per_capita\"])\n",
    "\n",
    "# besti = gs2.best_estimator_\n",
    "# y_train_p = besti.predict(X_train_hot_pca_lim)\n",
    "# y_val_p = besti.predict(X_valid_hot_pca_lim)\n",
    "# print_model_performance(Y_train[\"gdp_per_capita\"], y_train_p, Y_valid[\"gdp_per_capita\"], y_val_p)\n",
    "# print(gs2.best_params_)"
   ]
  },
  {
   "cell_type": "markdown",
   "metadata": {},
   "source": [
    "water stress"
   ]
  },
  {
   "cell_type": "code",
   "execution_count": null,
   "metadata": {},
   "outputs": [],
   "source": [
    "# gs3 = GridSearchCV(XGBRegressor(), params, cv=3, n_jobs=-1) # scoring is r2_score\n",
    "# gs3.fit(X_train_hot_pca_lim.drop(1901), Y_train[\"water_stress\"].drop(1901))\n",
    "\n",
    "# besti = gs3.best_estimator_\n",
    "# y_train_p = besti.predict(X_train_hot_pca_lim.drop(1901))\n",
    "# y_val_p = besti.predict(X_valid_hot_pca_lim)\n",
    "# print_model_performance(Y_train[\"water_stress\"].drop(1901), y_train_p, Y_valid[\"water_stress\"], y_val_p)\n",
    "# print(gs3.best_params_)"
   ]
  },
  {
   "cell_type": "code",
   "execution_count": null,
   "metadata": {},
   "outputs": [],
   "source": [
    "ps1 = {'colsample_bytree': 0.5, 'learning_rate': 0.1, 'max_depth': 5, 'n_estimators': 200, 'subsample': 1.0}\n",
    "ps2 = {'colsample_bytree': 0.5, 'learning_rate': 0.1, 'max_depth': 5, 'n_estimators': 200, 'subsample': 0.5}\n",
    "ps3 = {'colsample_bytree': 0.5, 'learning_rate': 0.1, 'max_depth': 3, 'n_estimators': 200, 'subsample': 1.0}\n",
    "\n",
    "# update spcific search grids! by comparing to:\n",
    "params1 = {\n",
    "}\n",
    "params2 = {\n",
    "    'n_estimators': [2000],\n",
    "}\n",
    "params3 = {\n",
    "}"
   ]
  },
  {
   "cell_type": "code",
   "execution_count": null,
   "metadata": {},
   "outputs": [
    {
     "name": "stdout",
     "output_type": "stream",
     "text": [
      "total_population_with_access_to_safe_drinking_water\n"
     ]
    },
    {
     "name": "stdout",
     "output_type": "stream",
     "text": [
      "train\n",
      "MAE:  0.003\n",
      "R2:   1.0\n",
      "\n",
      "test\n",
      "MAE:  0.502\n",
      "R2:   0.996\n",
      "{}\n",
      "\n",
      "gdp_per_capita\n",
      "train\n",
      "MAE:  3.884\n",
      "R2:   1.0\n",
      "\n",
      "test\n",
      "MAE:  990.509\n",
      "R2:   0.99\n",
      "{'n_estimators': 2000}\n",
      "\n",
      "water_stress\n",
      "train\n",
      "MAE:  0.283\n",
      "R2:   1.0\n",
      "\n",
      "test\n",
      "MAE:  2.319\n",
      "R2:   0.999\n",
      "{}\n"
     ]
    },
    {
     "data": {
      "image/png": "[encoded data removed]",
      "text/plain": [
       "<Figure size 500x200 with 2 Axes>"
      ]
     },
     "metadata": {},
     "output_type": "display_data"
    },
    {
     "data": {
      "image/png": "[encoded data removed]",
      "text/plain": [
       "<Figure size 500x200 with 2 Axes>"
      ]
     },
     "metadata": {},
     "output_type": "display_data"
    },
    {
     "data": {
      "image/png": "[encoded data removed]",
      "text/plain": [
       "<Figure size 500x200 with 2 Axes>"
      ]
     },
     "metadata": {},
     "output_type": "display_data"
    }
   ],
   "source": [
    "print(\"total_population_with_access_to_safe_drinking_water\")\n",
    "gs11 = GridSearchCV(XGBRegressor(learning_rate=0.1, max_depth=5, subsample=1., colsample_bytree=.3, n_estimators=1500), params1, cv=3, n_jobs=-1) # scoring is r2_score\n",
    "gs11.fit(X_train_hot_pca_lim, Y_train[\"total_population_with_access_to_safe_drinking_water\"])\n",
    "\n",
    "besti = gs11.best_estimator_\n",
    "y_train_p = besti.predict(X_train_hot_pca_lim)\n",
    "y_val_p = besti.predict(X_valid_hot_pca_lim)\n",
    "print_model_performance(Y_train[\"total_population_with_access_to_safe_drinking_water\"], y_train_p, Y_valid[\"total_population_with_access_to_safe_drinking_water\"], y_val_p)\n",
    "print(gs11.best_params_)\n",
    "\n",
    "print(\"\")\n",
    "print(\"gdp_per_capita\")\n",
    "gs22 = GridSearchCV(XGBRegressor(learning_rate=0.1, max_depth=5, subsample=.5, colsample_bytree=.5), params2, cv=3, n_jobs=-1) # scoring is r2_score\n",
    "gs22.fit(X_train_hot_pca_lim, Y_train[\"gdp_per_capita\"])\n",
    "\n",
    "besti = gs22.best_estimator_\n",
    "y_train_p = besti.predict(X_train_hot_pca_lim)\n",
    "y_val_p = besti.predict(X_valid_hot_pca_lim)\n",
    "print_model_performance(Y_train[\"gdp_per_capita\"], y_train_p, Y_valid[\"gdp_per_capita\"], y_val_p)\n",
    "print(gs22.best_params_)\n",
    "\n",
    "print(\"\")\n",
    "print(\"water_stress\")\n",
    "gs33 = GridSearchCV(XGBRegressor(learning_rate=0.1, max_depth=3, subsample=1., colsample_bytree=.5, n_estimators=1000), params3, cv=3, n_jobs=-1) # scoring is r2_score\n",
    "gs33.fit(X_train_hot_pca_lim.drop(1901), Y_train[\"water_stress\"].drop(1901))\n",
    "\n",
    "besti = gs33.best_estimator_\n",
    "y_train_p = besti.predict(X_train_hot_pca_lim.drop(1901))\n",
    "y_val_p = besti.predict(X_valid_hot_pca_lim)\n",
    "print_model_performance(Y_train[\"water_stress\"].drop(1901), y_train_p, Y_valid[\"water_stress\"], y_val_p)\n",
    "print(gs33.best_params_)"
   ]
  },
  {
   "cell_type": "code",
   "execution_count": null,
   "metadata": {},
   "outputs": [],
   "source": [
    "final_models = {\n",
    "    \"sdw\": Pipeline([(\"preprocess\", hot_preprocessor), (\"col_drop\", ColumnDropper([\"num__year\"])), (\"pca\", hot_pca), (\"col_slice\", ColumnSlicer([[0, None], [0, 100]])), (\"estimate\", gs11.best_estimator_)]),\n",
    "    \"gdp\": Pipeline([(\"preprocess\", hot_preprocessor), (\"col_drop\", ColumnDropper([\"num__year\"])), (\"pca\", hot_pca), (\"col_slice\", ColumnSlicer([[0, None], [0, 100]])), (\"estimate\", gs22.best_estimator_)]),\n",
    "    \"ws\": Pipeline([(\"preprocess\", hot_preprocessor), (\"col_drop\", ColumnDropper([\"num__year\"])), (\"pca\", hot_pca), (\"col_slice\", ColumnSlicer([[0, None], [0, 100]])), (\"estimate\", gs33.best_estimator_)])\n",
    "}"
   ]
  },
  {
   "cell_type": "code",
   "execution_count": null,
   "metadata": {},
   "outputs": [
    {
     "data": {
      "text/html": [
       "<div>\n",
       "<style scoped>\n",
       "    .dataframe tbody tr th:only-of-type {\n",
       "        vertical-align: middle;\n",
       "    }\n",
       "\n",
       "    .dataframe tbody tr th {\n",
       "        vertical-align: top;\n",
       "    }\n",
       "\n",
       "    .dataframe thead th {\n",
       "        text-align: right;\n",
       "    }\n",
       "</style>\n",
       "<table border=\"1\" class=\"dataframe\">\n",
       "  <thead>\n",
       "    <tr style=\"text-align: right;\">\n",
       "      <th></th>\n",
       "      <th>country</th>\n",
       "      <th>year</th>\n",
       "      <th>%_of_agricultural_gva_produced_by_irrigated_agriculture</th>\n",
       "      <th>%_of_agricultural_water_managed_area_equipped_for_irrigation</th>\n",
       "      <th>%_of_total_country_area_cultivated</th>\n",
       "      <th>agricultural_water_withdrawal</th>\n",
       "      <th>agricultural_water_withdrawal_as_%_of_total_renewable_water_resources</th>\n",
       "      <th>agricultural_water_withdrawal_as_%_of_total_water_withdrawal</th>\n",
       "      <th>agriculture_value_added_%_gdp</th>\n",
       "      <th>cultivated_area_arable_land_plus_permanent_crops</th>\n",
       "      <th>...</th>\n",
       "      <th>total_dam_capacity</th>\n",
       "      <th>total_internal_renewable_water_resources</th>\n",
       "      <th>total_internal_renewable_water_resources_per_capita</th>\n",
       "      <th>total_population</th>\n",
       "      <th>total_renewable_groundwater</th>\n",
       "      <th>total_renewable_water_resources_per_capita</th>\n",
       "      <th>total_water_withdrawal</th>\n",
       "      <th>total_water_withdrawal_per_capita</th>\n",
       "      <th>urban_population</th>\n",
       "      <th>water_resources_total_external_renewable</th>\n",
       "    </tr>\n",
       "  </thead>\n",
       "  <tbody>\n",
       "    <tr>\n",
       "      <th>227</th>\n",
       "      <td>Angola</td>\n",
       "      <td>2020</td>\n",
       "      <td>0.466535</td>\n",
       "      <td>21.090918</td>\n",
       "      <td>4.183043</td>\n",
       "      <td>0.1467</td>\n",
       "      <td>0.098854</td>\n",
       "      <td>20.784925</td>\n",
       "      <td>9.429773</td>\n",
       "      <td>5215.0</td>\n",
       "      <td>...</td>\n",
       "      <td>9.44521</td>\n",
       "      <td>148.0</td>\n",
       "      <td>4503.09667</td>\n",
       "      <td>32866.272</td>\n",
       "      <td>58.0</td>\n",
       "      <td>4515.267202</td>\n",
       "      <td>0.7058</td>\n",
       "      <td>21.474903</td>\n",
       "      <td>21936.953</td>\n",
       "      <td>0.4</td>\n",
       "    </tr>\n",
       "  </tbody>\n",
       "</table>\n",
       "<p>1 rows × 38 columns</p>\n",
       "</div>"
      ],
      "text/plain": [
       "    country  year  %_of_agricultural_gva_produced_by_irrigated_agriculture  \\\n",
       "227  Angola  2020                                           0.466535         \n",
       "\n",
       "     %_of_agricultural_water_managed_area_equipped_for_irrigation  \\\n",
       "227                                          21.090918              \n",
       "\n",
       "     %_of_total_country_area_cultivated  agricultural_water_withdrawal  \\\n",
       "227                            4.183043                         0.1467   \n",
       "\n",
       "     agricultural_water_withdrawal_as_%_of_total_renewable_water_resources  \\\n",
       "227                                           0.098854                       \n",
       "\n",
       "     agricultural_water_withdrawal_as_%_of_total_water_withdrawal  \\\n",
       "227                                          20.784925              \n",
       "\n",
       "     agriculture_value_added_%_gdp  \\\n",
       "227                       9.429773   \n",
       "\n",
       "     cultivated_area_arable_land_plus_permanent_crops  ...  \\\n",
       "227                                            5215.0  ...   \n",
       "\n",
       "     total_dam_capacity  total_internal_renewable_water_resources  \\\n",
       "227             9.44521                                     148.0   \n",
       "\n",
       "     total_internal_renewable_water_resources_per_capita  total_population  \\\n",
       "227                                         4503.09667           32866.272   \n",
       "\n",
       "     total_renewable_groundwater  total_renewable_water_resources_per_capita  \\\n",
       "227                         58.0                                 4515.267202   \n",
       "\n",
       "     total_water_withdrawal  total_water_withdrawal_per_capita  \\\n",
       "227                  0.7058                          21.474903   \n",
       "\n",
       "     urban_population  water_resources_total_external_renewable  \n",
       "227         21936.953                                       0.4  \n",
       "\n",
       "[1 rows x 38 columns]"
      ]
     },
     "execution_count": 57,
     "metadata": {},
     "output_type": "execute_result"
    }
   ],
   "source": [
    "df_pre_2020.query(\"country == 'Angola'\")"
   ]
  },
  {
   "cell_type": "code",
   "execution_count": null,
   "metadata": {},
   "outputs": [
    {
     "data": {
      "text/plain": [
       "array([49.00204], dtype=float32)"
      ]
     },
     "execution_count": 58,
     "metadata": {},
     "output_type": "execute_result"
    }
   ],
   "source": [
    "final_models[\"sdw\"].predict(df_pre_2020.query(\"country == 'Angola'\"))"
   ]
  },
  {
   "cell_type": "code",
   "execution_count": null,
   "metadata": {},
   "outputs": [],
   "source": [
    "with open(\"model.pkl\", \"wb\") as file:\n",
    "    pkl.dump(final_models, file)"
   ]
  },
  {
   "cell_type": "code",
   "execution_count": 73,
   "metadata": {},
   "outputs": [
    {
     "data": {
      "text/plain": [
       "1138"
      ]
     },
     "execution_count": 73,
     "metadata": {},
     "output_type": "execute_result"
    }
   ],
   "source": [
    "len(y_train_p)"
   ]
  },
  {
   "cell_type": "code",
   "execution_count": 78,
   "metadata": {},
   "outputs": [
    {
     "name": "stdout",
     "output_type": "stream",
     "text": [
      "sdw\n",
      "train\n",
      "MAE:  0.005\n",
      "R2:   1.0\n",
      "\n",
      "test\n",
      "MAE:  0.603\n",
      "R2:   0.991\n",
      "====####====\n",
      "gdp\n",
      "train\n",
      "MAE:  11.479\n",
      "R2:   1.0\n",
      "\n",
      "test\n",
      "MAE:  876.325\n",
      "R2:   0.993\n",
      "====####====\n",
      "ws\n",
      "train\n",
      "MAE:  0.321\n",
      "R2:   1.0\n",
      "\n",
      "test\n",
      "MAE:  2.235\n",
      "R2:   0.998\n",
      "====####====\n"
     ]
    },
    {
     "data": {
      "image/png": "[encoded data removed]",
      "text/plain": [
       "<Figure size 500x200 with 2 Axes>"
      ]
     },
     "metadata": {},
     "output_type": "display_data"
    },
    {
     "data": {
      "image/png": "[encoded data removed]",
      "text/plain": [
       "<Figure size 500x200 with 2 Axes>"
      ]
     },
     "metadata": {},
     "output_type": "display_data"
    },
    {
     "data": {
      "image/png": "[encoded data removed]",
      "text/plain": [
       "<Figure size 500x200 with 2 Axes>"
      ]
     },
     "metadata": {},
     "output_type": "display_data"
    }
   ],
   "source": [
    "key_dict = {\"sdw\": \"total_population_with_access_to_safe_drinking_water\", \"gdp\": \"gdp_per_capita\", \"ws\": \"water_stress\" }\n",
    "for k, m in final_models.items():\n",
    "    print(k)\n",
    "    y_pred = m.predict(X_test)\n",
    "    # print(y_pred)\n",
    "    # print(Y_test[key_dict[k]])\n",
    "    if k==\"ws\":\n",
    "        y_train_p = m.predict(X_train.drop(1901))\n",
    "        print_model_performance(Y_train[key_dict[k]].drop(1901), y_train_p, Y_test[key_dict[k]], y_pred)\n",
    "    else: \n",
    "        y_train_p = m.predict(X_train)\n",
    "        print_model_performance(Y_train[key_dict[k]], y_train_p, Y_test[key_dict[k]], y_pred)\n",
    "    print(\"====####====\")\n",
    "\n",
    "    "
   ]
  },
  {
   "cell_type": "markdown",
   "metadata": {},
   "source": [
    "end"
   ]
  }
 ],
 "metadata": {
  "kernelspec": {
   "display_name": "base",
   "language": "python",
   "name": "python3"
  },
  "language_info": {
   "codemirror_mode": {
    "name": "ipython",
    "version": 3
   },
   "file_extension": ".py",
   "mimetype": "text/x-python",
   "name": "python",
   "nbconvert_exporter": "python",
   "pygments_lexer": "ipython3",
   "version": "3.10.5"
  },
  "orig_nbformat": 4
 },
 "nbformat": 4,
 "nbformat_minor": 2
}
