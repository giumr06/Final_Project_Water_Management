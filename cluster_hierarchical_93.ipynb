{
 "cells": [
  {
   "cell_type": "code",
   "execution_count": null,
   "metadata": {},
   "outputs": [],
   "source": [
    "import pandas as pd\n",
    "import warnings\n",
    "import numpy as np\n",
    "import seaborn as sns\n",
    "import matplotlib.pyplot as plt\n",
    "from sklearn import set_config\n",
    "set_config(transform_output=\"pandas\")\n",
    "from preprocessing_93 import *\n",
    "from sklearn.model_selection import train_test_split\n",
    "from sklearn.preprocessing import LabelEncoder\n",
    "warnings.simplefilter('ignore')\n",
    "RSEED = 5\n",
    "\n",
    "\n",
    "from scipy.cluster.hierarchy import dendrogram, linkage"
   ]
  },
  {
   "cell_type": "markdown",
   "metadata": {},
   "source": [
    "## Preprocessing"
   ]
  },
  {
   "cell_type": "code",
   "execution_count": null,
   "metadata": {},
   "outputs": [],
   "source": [
    "df = pd.read_csv(\"data/AQUASTAT_complete.csv\")"
   ]
  },
  {
   "cell_type": "code",
   "execution_count": null,
   "metadata": {},
   "outputs": [],
   "source": [
    "pre_split_processor = get_pre_split_processor_93()\n",
    "df_pre = pre_split_processor.fit_transform(df)"
   ]
  },
  {
   "cell_type": "code",
   "execution_count": null,
   "metadata": {},
   "outputs": [],
   "source": [
    "df_pre = df_pre.query(\"year > 1992\")"
   ]
  },
  {
   "cell_type": "code",
   "execution_count": null,
   "metadata": {},
   "outputs": [],
   "source": [
    "full_preprocessor = get_full_preprocessor_93(df_pre.columns.to_list(), hot=False)\n",
    "\n",
    "df_pro = full_preprocessor.fit_transform(df_pre)"
   ]
  },
  {
   "cell_type": "code",
   "execution_count": null,
   "metadata": {},
   "outputs": [],
   "source": [
    "df_pro.head()"
   ]
  },
  {
   "cell_type": "code",
   "execution_count": null,
   "metadata": {},
   "outputs": [],
   "source": [
    "#### Splitting the years"
   ]
  },
  {
   "cell_type": "code",
   "execution_count": null,
   "metadata": {},
   "outputs": [],
   "source": [
    "df_90 = df_pro[df_pro['year'] < 2001]\n",
    "df_00 = df_pro[df_pro['year'].between(2001,2010)]\n",
    "df_10 = df_pro[df_pro['year'].between(2011,2020)]"
   ]
  },
  {
   "cell_type": "code",
   "execution_count": null,
   "metadata": {},
   "outputs": [],
   "source": [
    "df_90['year'].unique()"
   ]
  },
  {
   "cell_type": "code",
   "execution_count": null,
   "metadata": {},
   "outputs": [],
   "source": [
    "\n",
    "# Group the data by country\n",
    "df_pro_com = df_pro.groupby('country').mean().reset_index()\n",
    "df_pro_com.head(10)"
   ]
  },
  {
   "cell_type": "code",
   "execution_count": null,
   "metadata": {},
   "outputs": [],
   "source": [
    "df_90_com = df_90.groupby('country').mean().reset_index()\n",
    "df_00_com = df_00.groupby('country').mean().reset_index()\n",
    "df_10_com = df_10.groupby('country').mean().reset_index()\n",
    "\n"
   ]
  },
  {
   "cell_type": "code",
   "execution_count": null,
   "metadata": {},
   "outputs": [],
   "source": [
    "df_pro_com.shape"
   ]
  },
  {
   "cell_type": "markdown",
   "metadata": {},
   "source": [
    "### Label encoding Country\n"
   ]
  },
  {
   "cell_type": "code",
   "execution_count": null,
   "metadata": {},
   "outputs": [],
   "source": [
    "from sklearn.preprocessing import LabelEncoder"
   ]
  },
  {
   "cell_type": "code",
   "execution_count": null,
   "metadata": {},
   "outputs": [],
   "source": [
    "\n",
    "label_encoder = LabelEncoder()\n",
    "label_encoder.fit(df_pro_com['country'])\n",
    "\n",
    "df_pro_com['country_encoded'] = label_encoder.transform(df_pro_com['country'])\n",
    "\n",
    "df_pro_com[['country', 'country_encoded']]"
   ]
  },
  {
   "cell_type": "code",
   "execution_count": null,
   "metadata": {},
   "outputs": [],
   "source": [
    "df_90_com.drop(['year', 'country'], axis=1, inplace=True)\n",
    "df_00_com.drop(['year', 'country'], axis=1, inplace=True)\n",
    "df_10_com.drop(['year', 'country'], axis=1, inplace=True)\n",
    "df_pro_com.drop(['year', 'country'], axis=1, inplace=True)"
   ]
  },
  {
   "cell_type": "code",
   "execution_count": null,
   "metadata": {},
   "outputs": [],
   "source": [
    "import matplotlib.pyplot as plt\n",
    "from scipy.cluster.hierarchy import dendrogram, linkage\n",
    "from sklearn.datasets import load_iris\n",
    "\n",
    "\n",
    "X = df_pro_com\n",
    "\n",
    "linked = linkage(X, method='ward')\n",
    "\n",
    "\n",
    "plt.figure(figsize=(8, 6))\n",
    "dendrogram(linked, orientation='top', labels=iris.target_names[iris.target], distance_sort='descending')\n",
    "plt.title('Agglomerative Hierarchical Clustering')\n",
    "plt.xlabel('Data Points')\n",
    "plt.ylabel('Distance')\n",
    "plt.show()"
   ]
  },
  {
   "cell_type": "markdown",
   "metadata": {},
   "source": [
    "### Agglomerative Clustering"
   ]
  },
  {
   "cell_type": "code",
   "execution_count": null,
   "metadata": {},
   "outputs": [],
   "source": [
    "from scipy.cluster.hierarchy import dendrogram, linkage\n",
    "from scipy.spatial.distance import pdist\n",
    "# Initialize an empty linkage matrix\n",
    "combined_linkage_matrix = None\n",
    "\n",
    "# Initialize an empty list to store country labels\n",
    "country_labels = []\n",
    "\n",
    "# Initialize an empty set to store unique_ids and their corresponding rows\n",
    "unique_id_set = set()\n",
    "\n",
    "# Iterate through each group (country)\n",
    "distances = pdist(df_pro_com.select_dtypes(include=['number']), metric='euclidean')\n",
    "\n",
    "# Create the linkage matrix for the entire dataset\n",
    "linkage_matrix = hierarchy.linkage(distances, method='weighted')"
   ]
  },
  {
   "cell_type": "code",
   "execution_count": null,
   "metadata": {},
   "outputs": [],
   "source": [
    "\n",
    "\n",
    "\n",
    "# Initialize an empty linkage matrix\n",
    "combined_linkage_matrix = None\n",
    "\n",
    "# Initialize an empty list to store country labels\n",
    "country_labels = []\n",
    "\n",
    "# Initialize an empty set to store unique_ids and their corresponding rows\n",
    "unique_id_set = set()\n",
    "\n",
    "# Iterate through each group (country)\n",
    "distances = pdist(data.select_dtypes(include=['number']), metric='euclidean')\n",
    "\n",
    "# Create the linkage matrix for the entire dataset\n",
    "linkage_matrix = hierarchy.linkage(distances, method='weighted')\n",
    "\n",
    "# Assuming df_pro_com contains both numeric and non-numeric columns\n",
    "# Select only numeric columns for clustering\n",
    "numeric_data = df_pro_com.select_dtypes(include=['number'])\n",
    "\n",
    "# Perform hierarchical clustering on the numeric data\n",
    "linked = linkage(numeric_data, method='ward')\n",
    "\n",
    "\n",
    "# Plot a dendrogram to visualize the clustering process\n",
    "plt.figure(figsize=(8, 6))\n",
    "dendrogram(linked, orientation='top', labels=df_pro_com['country'], distance_sort='descending')\n",
    "plt.title('Agglomerative Hierarchical Clustering')\n",
    "plt.xlabel('Data Points')\n",
    "plt.ylabel('Distance')\n",
    "plt.show()"
   ]
  }
 ],
 "metadata": {
  "kernelspec": {
   "display_name": ".venv",
   "language": "python",
   "name": "python3"
  },
  "language_info": {
   "codemirror_mode": {
    "name": "ipython",
    "version": 3
   },
   "file_extension": ".py",
   "mimetype": "text/x-python",
   "name": "python",
   "nbconvert_exporter": "python",
   "pygments_lexer": "ipython3",
   "version": "3.11.4"
  },
  "orig_nbformat": 4
 },
 "nbformat": 4,
 "nbformat_minor": 2
}
